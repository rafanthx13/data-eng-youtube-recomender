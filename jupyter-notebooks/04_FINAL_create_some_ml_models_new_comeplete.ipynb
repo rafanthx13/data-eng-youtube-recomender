{
  "cells": [
    {
      "cell_type": "markdown",
      "metadata": {
        "id": "i2zWCU_tKEUU"
      },
      "source": [
        "# Create ML Model\n",
        "\n",
        "## Entrada\n",
        "\n",
        "Arquivo com todas as label preenchdidas eplas etapas anteriores\n",
        "\n",
        "## Quando se faz Hyper-turning\n",
        "\n",
        "É somente depois de tentar várias possibildiades com os mdelos. O hyper-turning nâo faz milagre, entao só deixa pro final.\n",
        "\n",
        "## Descriçâo das aulas\n",
        "\n",
        "31 - Inicio do Notebook e testando hyer-turning no RandomForest\n",
        "\n",
        "32 - LightGBM e Sua hyperturning\n",
        "+ As formas de fazer hipertuning são:\n",
        "   - GridSearhc: ALém de demorada nâo tem bons resultados pois é manual e nao sabemos até que potnao estamos atingindo um bom valor o hiper-parametro que causae uma mudança positiva\n",
        "   - RandomSearch: Tende a ser melhor que GridSearch\n",
        "   - Baysean Optimization (AutoML): Uma nova abordagem que vamos usar nesse notebook.\n",
        "     * É uma busca alertória mas guiada de forma inteligente\n",
        "     \n",
        "33 - Logistic Regression\n",
        "+ Vamos aprender como analisar as nossa features para a regresão logistica\n",
        "  - Aprensetou bons resultados\n",
        "  \n",
        "### Tabela de Score\n",
        "````\n",
        "RandomForest\n",
        " avg_precision :: 0.3876787322730141 ; roc_auc :: 0.6775564963329557\n",
        "LightGBM - No Hyper-Tuning\n",
        " avg_precision :: 0.358824358569258  ; roc_auc :: 0.644678313755888\n",
        "LightBGM com Baysian Optimizer\n",
        "'avg_precision': 0.40242103560963294 ; 'roc': 0.6723749329199212, \n",
        "Logistic REgression = C=0.5 StandardScaler\n",
        "(0.41578009994342235, 0.6897143879315486) -  \n",
        "````"
      ]
    },
    {
      "cell_type": "code",
      "execution_count": 83,
      "metadata": {
        "ExecuteTime": {
          "end_time": "2021-12-23T15:32:36.213003Z",
          "start_time": "2021-12-23T15:32:03.601553Z"
        },
        "colab": {
          "base_uri": "https://localhost:8080/"
        },
        "id": "1q26bgQvKEUf",
        "outputId": "43f5d1d6-e3fe-40e8-9b98-6a7b6cfc4b4b"
      },
      "outputs": [
        {
          "output_type": "stream",
          "name": "stdout",
          "text": [
            "Populating the interactive namespace from numpy and matplotlib\n"
          ]
        }
      ],
      "source": [
        "import pandas as pd\n",
        "import numpy as np\n",
        "import tqdm\n",
        "import datetime\n",
        "import seaborn as sns\n",
        "from sklearn.linear_model import LogisticRegression\n",
        "from sklearn.tree import DecisionTreeClassifier\n",
        "from sklearn.ensemble import RandomForestClassifier\n",
        "from sklearn.model_selection import train_test_split\n",
        "from sklearn.tree import plot_tree\n",
        "from sklearn.feature_extraction.text import TfidfVectorizer\n",
        "from sklearn import metrics\n",
        "from sklearn.metrics import roc_auc_score, average_precision_score\n",
        "from scipy import sparse\n",
        "\n",
        "pd.set_option(\"max.columns\", None)\n",
        "\n",
        "%matplotlib inline\n",
        "%pylab inline"
      ]
    },
    {
      "cell_type": "markdown",
      "metadata": {
        "id": "ynK3LHnUKEUk"
      },
      "source": [
        "## Importar e analisar DataSet"
      ]
    },
    {
      "cell_type": "code",
      "execution_count": 10,
      "metadata": {
        "ExecuteTime": {
          "end_time": "2021-12-23T15:32:57.702909Z",
          "start_time": "2021-12-23T15:32:57.627736Z"
        },
        "colab": {
          "base_uri": "https://localhost:8080/"
        },
        "id": "87MuWKESKEUl",
        "outputId": "3046e5b1-3aaf-4f8f-cff4-6ecee86d6fa9"
      },
      "outputs": [
        {
          "output_type": "execute_result",
          "data": {
            "text/plain": [
              "(1645, 14)"
            ]
          },
          "metadata": {},
          "execution_count": 10
        }
      ],
      "source": [
        "df = pd.read_csv(\"dataset.csv\", sep=\";\").dropna(subset=['interesting'])\n",
        "# df = pd.read_csv(\"raw_videos_dataset_manual_labeled_tabulation.tsv\", index_col=0, sep=\"\\t\").dropna(subset=['interesting'])\n",
        "df.shape"
      ]
    },
    {
      "cell_type": "code",
      "execution_count": 11,
      "metadata": {
        "ExecuteTime": {
          "end_time": "2021-12-23T15:33:04.898830Z",
          "start_time": "2021-12-23T15:33:04.846110Z"
        },
        "colab": {
          "base_uri": "https://localhost:8080/",
          "height": 214
        },
        "id": "6FtW77kkKEUm",
        "outputId": "0b00cfc7-da6d-47f5-ed99-c9b136abb80e"
      },
      "outputs": [
        {
          "output_type": "execute_result",
          "data": {
            "text/html": [
              "\n",
              "  <div id=\"df-50dd0303-0971-4edb-ac64-a823ec1216c1\">\n",
              "    <div class=\"colab-df-container\">\n",
              "      <div>\n",
              "<style scoped>\n",
              "    .dataframe tbody tr th:only-of-type {\n",
              "        vertical-align: middle;\n",
              "    }\n",
              "\n",
              "    .dataframe tbody tr th {\n",
              "        vertical-align: top;\n",
              "    }\n",
              "\n",
              "    .dataframe thead th {\n",
              "        text-align: right;\n",
              "    }\n",
              "</style>\n",
              "<table border=\"1\" class=\"dataframe\">\n",
              "  <thead>\n",
              "    <tr style=\"text-align: right;\">\n",
              "      <th></th>\n",
              "      <th>uploader</th>\n",
              "      <th>title</th>\n",
              "      <th>interesting</th>\n",
              "      <th>upload_date</th>\n",
              "      <th>user</th>\n",
              "      <th>view_count</th>\n",
              "      <th>like_count</th>\n",
              "      <th>thumbnail</th>\n",
              "      <th>width</th>\n",
              "      <th>height</th>\n",
              "      <th>categories</th>\n",
              "      <th>tags</th>\n",
              "      <th>channel_url</th>\n",
              "      <th>description</th>\n",
              "    </tr>\n",
              "  </thead>\n",
              "  <tbody>\n",
              "    <tr>\n",
              "      <th>0</th>\n",
              "      <td>AltexSoft</td>\n",
              "      <td>How Data Engineering Works</td>\n",
              "      <td>1.0</td>\n",
              "      <td>2021-03-17</td>\n",
              "      <td>AltexSoftChannel</td>\n",
              "      <td>70764</td>\n",
              "      <td>4014</td>\n",
              "      <td>https://i.ytimg.com/vi/qWru-b6m030/maxresdefau...</td>\n",
              "      <td>1920</td>\n",
              "      <td>1080</td>\n",
              "      <td>Science &amp; Technology</td>\n",
              "      <td>data engineering|data science|data infrastruct...</td>\n",
              "      <td>https://www.youtube.com/channel/UCEKI_F16hUtBH...</td>\n",
              "      <td>So, the sole purpose of data engineering is to...</td>\n",
              "    </tr>\n",
              "  </tbody>\n",
              "</table>\n",
              "</div>\n",
              "      <button class=\"colab-df-convert\" onclick=\"convertToInteractive('df-50dd0303-0971-4edb-ac64-a823ec1216c1')\"\n",
              "              title=\"Convert this dataframe to an interactive table.\"\n",
              "              style=\"display:none;\">\n",
              "        \n",
              "  <svg xmlns=\"http://www.w3.org/2000/svg\" height=\"24px\"viewBox=\"0 0 24 24\"\n",
              "       width=\"24px\">\n",
              "    <path d=\"M0 0h24v24H0V0z\" fill=\"none\"/>\n",
              "    <path d=\"M18.56 5.44l.94 2.06.94-2.06 2.06-.94-2.06-.94-.94-2.06-.94 2.06-2.06.94zm-11 1L8.5 8.5l.94-2.06 2.06-.94-2.06-.94L8.5 2.5l-.94 2.06-2.06.94zm10 10l.94 2.06.94-2.06 2.06-.94-2.06-.94-.94-2.06-.94 2.06-2.06.94z\"/><path d=\"M17.41 7.96l-1.37-1.37c-.4-.4-.92-.59-1.43-.59-.52 0-1.04.2-1.43.59L10.3 9.45l-7.72 7.72c-.78.78-.78 2.05 0 2.83L4 21.41c.39.39.9.59 1.41.59.51 0 1.02-.2 1.41-.59l7.78-7.78 2.81-2.81c.8-.78.8-2.07 0-2.86zM5.41 20L4 18.59l7.72-7.72 1.47 1.35L5.41 20z\"/>\n",
              "  </svg>\n",
              "      </button>\n",
              "      \n",
              "  <style>\n",
              "    .colab-df-container {\n",
              "      display:flex;\n",
              "      flex-wrap:wrap;\n",
              "      gap: 12px;\n",
              "    }\n",
              "\n",
              "    .colab-df-convert {\n",
              "      background-color: #E8F0FE;\n",
              "      border: none;\n",
              "      border-radius: 50%;\n",
              "      cursor: pointer;\n",
              "      display: none;\n",
              "      fill: #1967D2;\n",
              "      height: 32px;\n",
              "      padding: 0 0 0 0;\n",
              "      width: 32px;\n",
              "    }\n",
              "\n",
              "    .colab-df-convert:hover {\n",
              "      background-color: #E2EBFA;\n",
              "      box-shadow: 0px 1px 2px rgba(60, 64, 67, 0.3), 0px 1px 3px 1px rgba(60, 64, 67, 0.15);\n",
              "      fill: #174EA6;\n",
              "    }\n",
              "\n",
              "    [theme=dark] .colab-df-convert {\n",
              "      background-color: #3B4455;\n",
              "      fill: #D2E3FC;\n",
              "    }\n",
              "\n",
              "    [theme=dark] .colab-df-convert:hover {\n",
              "      background-color: #434B5C;\n",
              "      box-shadow: 0px 1px 3px 1px rgba(0, 0, 0, 0.15);\n",
              "      filter: drop-shadow(0px 1px 2px rgba(0, 0, 0, 0.3));\n",
              "      fill: #FFFFFF;\n",
              "    }\n",
              "  </style>\n",
              "\n",
              "      <script>\n",
              "        const buttonEl =\n",
              "          document.querySelector('#df-50dd0303-0971-4edb-ac64-a823ec1216c1 button.colab-df-convert');\n",
              "        buttonEl.style.display =\n",
              "          google.colab.kernel.accessAllowed ? 'block' : 'none';\n",
              "\n",
              "        async function convertToInteractive(key) {\n",
              "          const element = document.querySelector('#df-50dd0303-0971-4edb-ac64-a823ec1216c1');\n",
              "          const dataTable =\n",
              "            await google.colab.kernel.invokeFunction('convertToInteractive',\n",
              "                                                     [key], {});\n",
              "          if (!dataTable) return;\n",
              "\n",
              "          const docLinkHtml = 'Like what you see? Visit the ' +\n",
              "            '<a target=\"_blank\" href=https://colab.research.google.com/notebooks/data_table.ipynb>data table notebook</a>'\n",
              "            + ' to learn more about interactive tables.';\n",
              "          element.innerHTML = '';\n",
              "          dataTable['output_type'] = 'display_data';\n",
              "          await google.colab.output.renderOutput(dataTable, element);\n",
              "          const docLink = document.createElement('div');\n",
              "          docLink.innerHTML = docLinkHtml;\n",
              "          element.appendChild(docLink);\n",
              "        }\n",
              "      </script>\n",
              "    </div>\n",
              "  </div>\n",
              "  "
            ],
            "text/plain": [
              "    uploader                       title  interesting upload_date  \\\n",
              "0  AltexSoft  How Data Engineering Works          1.0  2021-03-17   \n",
              "\n",
              "               user  view_count  like_count  \\\n",
              "0  AltexSoftChannel       70764        4014   \n",
              "\n",
              "                                           thumbnail  width  height  \\\n",
              "0  https://i.ytimg.com/vi/qWru-b6m030/maxresdefau...   1920    1080   \n",
              "\n",
              "             categories                                               tags  \\\n",
              "0  Science & Technology  data engineering|data science|data infrastruct...   \n",
              "\n",
              "                                         channel_url  \\\n",
              "0  https://www.youtube.com/channel/UCEKI_F16hUtBH...   \n",
              "\n",
              "                                         description  \n",
              "0  So, the sole purpose of data engineering is to...  "
            ]
          },
          "metadata": {},
          "execution_count": 11
        }
      ],
      "source": [
        "df.head(1)"
      ]
    },
    {
      "cell_type": "code",
      "execution_count": 12,
      "metadata": {
        "ExecuteTime": {
          "end_time": "2021-12-23T15:34:10.467313Z",
          "start_time": "2021-12-23T15:34:10.380422Z"
        },
        "scrolled": true,
        "colab": {
          "base_uri": "https://localhost:8080/"
        },
        "id": "IZUCRvWzKEUn",
        "outputId": "31ca33f1-f4e4-4e8d-fc21-1a00277e7628"
      },
      "outputs": [
        {
          "output_type": "execute_result",
          "data": {
            "text/plain": [
              "0.0    1351\n",
              "1.0     294\n",
              "Name: interesting, dtype: int64"
            ]
          },
          "metadata": {},
          "execution_count": 12
        }
      ],
      "source": [
        "df['interesting'].value_counts()"
      ]
    },
    {
      "cell_type": "code",
      "execution_count": 13,
      "metadata": {
        "ExecuteTime": {
          "end_time": "2021-12-23T15:34:54.997326Z",
          "start_time": "2021-12-23T15:34:54.987563Z"
        },
        "colab": {
          "base_uri": "https://localhost:8080/"
        },
        "id": "HRVQnsGpKEUo",
        "outputId": "5212c3ac-d4f5-472e-f168-0a4d10245294"
      },
      "outputs": [
        {
          "output_type": "execute_result",
          "data": {
            "text/plain": [
              "0"
            ]
          },
          "metadata": {},
          "execution_count": 13
        }
      ],
      "source": [
        "# isnull()\n",
        "df['interesting'].value_counts().isnull().sum()"
      ]
    },
    {
      "cell_type": "code",
      "execution_count": 14,
      "metadata": {
        "ExecuteTime": {
          "end_time": "2021-12-23T15:34:59.598184Z",
          "start_time": "2021-12-23T15:34:59.468401Z"
        },
        "colab": {
          "base_uri": "https://localhost:8080/"
        },
        "id": "2mSap38qKEUo",
        "outputId": "f9d33f4c-5d71-4926-e6bc-d7e8e578ed56"
      },
      "outputs": [
        {
          "output_type": "execute_result",
          "data": {
            "text/plain": [
              "0"
            ]
          },
          "metadata": {},
          "execution_count": 14
        }
      ],
      "source": [
        "# Sem duplicata\n",
        "df.duplicated().sum()"
      ]
    },
    {
      "cell_type": "code",
      "execution_count": 15,
      "metadata": {
        "ExecuteTime": {
          "end_time": "2021-12-23T15:35:01.418709Z",
          "start_time": "2021-12-23T15:35:01.384538Z"
        },
        "scrolled": true,
        "colab": {
          "base_uri": "https://localhost:8080/"
        },
        "id": "SrogCUR1KEUp",
        "outputId": "2bc31a36-000c-4f70-e076-2cff659647eb"
      },
      "outputs": [
        {
          "output_type": "execute_result",
          "data": {
            "text/plain": [
              "0"
            ]
          },
          "metadata": {},
          "execution_count": 15
        }
      ],
      "source": [
        "# Sem duplicata nos titulos\n",
        "df.duplicated(['title']).sum()"
      ]
    },
    {
      "cell_type": "code",
      "execution_count": 16,
      "metadata": {
        "ExecuteTime": {
          "end_time": "2021-12-23T15:35:46.644756Z",
          "start_time": "2021-12-23T15:35:46.595943Z"
        },
        "colab": {
          "base_uri": "https://localhost:8080/"
        },
        "id": "xwg7Xu_2KEUr",
        "outputId": "c72059dc-9776-4a6e-ea15-cf11d304be77"
      },
      "outputs": [
        {
          "output_type": "execute_result",
          "data": {
            "text/plain": [
              "(1645, 14)"
            ]
          },
          "metadata": {},
          "execution_count": 16
        }
      ],
      "source": [
        "df = df.drop_duplicates(['title'])\n",
        "df.shape"
      ]
    },
    {
      "cell_type": "code",
      "execution_count": 18,
      "metadata": {
        "ExecuteTime": {
          "end_time": "2021-12-23T15:36:42.485264Z",
          "start_time": "2021-12-23T15:36:42.450063Z"
        },
        "id": "VXFT6dY5KEUs"
      },
      "outputs": [],
      "source": [
        "df['interesting'] = df['interesting'].astype(float)"
      ]
    },
    {
      "cell_type": "code",
      "execution_count": 19,
      "metadata": {
        "ExecuteTime": {
          "end_time": "2021-12-23T15:36:47.060522Z",
          "start_time": "2021-12-23T15:36:47.041000Z"
        },
        "colab": {
          "base_uri": "https://localhost:8080/"
        },
        "id": "v5-omLiFKEUt",
        "outputId": "e4fefc9f-36a3-4235-f7d7-00e227382738"
      },
      "outputs": [
        {
          "output_type": "stream",
          "name": "stdout",
          "text": [
            "<class 'pandas.core.frame.DataFrame'>\n",
            "Int64Index: 1645 entries, 0 to 1644\n",
            "Data columns (total 14 columns):\n",
            " #   Column       Non-Null Count  Dtype  \n",
            "---  ------       --------------  -----  \n",
            " 0   uploader     1645 non-null   object \n",
            " 1   title        1645 non-null   object \n",
            " 2   interesting  1645 non-null   float64\n",
            " 3   upload_date  1645 non-null   object \n",
            " 4   user         1645 non-null   object \n",
            " 5   view_count   1645 non-null   int64  \n",
            " 6   like_count   1645 non-null   int64  \n",
            " 7   thumbnail    1645 non-null   object \n",
            " 8   width        1645 non-null   int64  \n",
            " 9   height       1645 non-null   int64  \n",
            " 10  categories   1645 non-null   object \n",
            " 11  tags         1207 non-null   object \n",
            " 12  channel_url  1645 non-null   object \n",
            " 13  description  1558 non-null   object \n",
            "dtypes: float64(1), int64(4), object(9)\n",
            "memory usage: 192.8+ KB\n"
          ]
        }
      ],
      "source": [
        "df.info()"
      ]
    },
    {
      "cell_type": "code",
      "execution_count": 20,
      "metadata": {
        "ExecuteTime": {
          "end_time": "2021-12-23T15:36:50.316368Z",
          "start_time": "2021-12-23T15:36:50.257789Z"
        },
        "scrolled": true,
        "colab": {
          "base_uri": "https://localhost:8080/",
          "height": 652
        },
        "id": "ZmCiXiKXKEUt",
        "outputId": "e20fac67-f04d-4ab9-b6f6-18d07f35a5c5"
      },
      "outputs": [
        {
          "output_type": "execute_result",
          "data": {
            "text/html": [
              "\n",
              "  <div id=\"df-4f8fc69a-e226-465f-992f-0583fffc707a\">\n",
              "    <div class=\"colab-df-container\">\n",
              "      <div>\n",
              "<style scoped>\n",
              "    .dataframe tbody tr th:only-of-type {\n",
              "        vertical-align: middle;\n",
              "    }\n",
              "\n",
              "    .dataframe tbody tr th {\n",
              "        vertical-align: top;\n",
              "    }\n",
              "\n",
              "    .dataframe thead th {\n",
              "        text-align: right;\n",
              "    }\n",
              "</style>\n",
              "<table border=\"1\" class=\"dataframe\">\n",
              "  <thead>\n",
              "    <tr style=\"text-align: right;\">\n",
              "      <th></th>\n",
              "      <th>uploader</th>\n",
              "      <th>title</th>\n",
              "      <th>interesting</th>\n",
              "      <th>upload_date</th>\n",
              "      <th>user</th>\n",
              "      <th>view_count</th>\n",
              "      <th>like_count</th>\n",
              "      <th>thumbnail</th>\n",
              "      <th>width</th>\n",
              "      <th>height</th>\n",
              "      <th>categories</th>\n",
              "      <th>tags</th>\n",
              "      <th>channel_url</th>\n",
              "      <th>description</th>\n",
              "    </tr>\n",
              "  </thead>\n",
              "  <tbody>\n",
              "    <tr>\n",
              "      <th>0</th>\n",
              "      <td>AltexSoft</td>\n",
              "      <td>How Data Engineering Works</td>\n",
              "      <td>1.0</td>\n",
              "      <td>2021-03-17</td>\n",
              "      <td>AltexSoftChannel</td>\n",
              "      <td>70764</td>\n",
              "      <td>4014</td>\n",
              "      <td>https://i.ytimg.com/vi/qWru-b6m030/maxresdefau...</td>\n",
              "      <td>1920</td>\n",
              "      <td>1080</td>\n",
              "      <td>Science &amp; Technology</td>\n",
              "      <td>data engineering|data science|data infrastruct...</td>\n",
              "      <td>https://www.youtube.com/channel/UCEKI_F16hUtBH...</td>\n",
              "      <td>So, the sole purpose of data engineering is to...</td>\n",
              "    </tr>\n",
              "    <tr>\n",
              "      <th>1</th>\n",
              "      <td>Seja Um Data Scientist</td>\n",
              "      <td>[Parte 01] Como é o Trabalho de um Data Engine...</td>\n",
              "      <td>0.0</td>\n",
              "      <td>2020-05-25</td>\n",
              "      <td>UCar5Cr-pVz08GY_6I3RX9bA</td>\n",
              "      <td>11125</td>\n",
              "      <td>814</td>\n",
              "      <td>https://i.ytimg.com/vi_webp/nQu6s8FPhfA/maxres...</td>\n",
              "      <td>1920</td>\n",
              "      <td>1080</td>\n",
              "      <td>Science &amp; Technology</td>\n",
              "      <td>data engineer|engenheiro de dados o que faz|fo...</td>\n",
              "      <td>https://www.youtube.com/channel/UCar5Cr-pVz08G...</td>\n",
              "      <td>Nesse vídeo, eu vou mostrar qual o papel de um...</td>\n",
              "    </tr>\n",
              "    <tr>\n",
              "      <th>2</th>\n",
              "      <td>Seattle Data Guy</td>\n",
              "      <td>Data Engineering Road Map - How To Learn Data ...</td>\n",
              "      <td>1.0</td>\n",
              "      <td>2021-07-06</td>\n",
              "      <td>UCmLGJ3VYBcfRaWbP6JLJcpA</td>\n",
              "      <td>48598</td>\n",
              "      <td>2561</td>\n",
              "      <td>https://i.ytimg.com/vi_webp/SpaFPPByOhM/maxres...</td>\n",
              "      <td>1920</td>\n",
              "      <td>1080</td>\n",
              "      <td>Education</td>\n",
              "      <td>big data|data analytics|tableau|sql|big query|...</td>\n",
              "      <td>https://www.youtube.com/channel/UCmLGJ3VYBcfRa...</td>\n",
              "      <td>How do you go from 0 to data engineer?  What i...</td>\n",
              "    </tr>\n",
              "    <tr>\n",
              "      <th>3</th>\n",
              "      <td>Joma Tech</td>\n",
              "      <td>Data Scientists vs Data Engineers: Which one i...</td>\n",
              "      <td>1.0</td>\n",
              "      <td>2019-12-19</td>\n",
              "      <td>UCV0qA-eDDICsRR9rPcnG7tw</td>\n",
              "      <td>246236</td>\n",
              "      <td>6683</td>\n",
              "      <td>https://i.ytimg.com/vi/vmYaAzbv9xk/maxresdefau...</td>\n",
              "      <td>1920</td>\n",
              "      <td>1080</td>\n",
              "      <td>Education</td>\n",
              "      <td>joma|vlog|data scientist|data science|data eng...</td>\n",
              "      <td>https://www.youtube.com/channel/UCV0qA-eDDICsR...</td>\n",
              "      <td>📚 Video courses from JomaClass: 🎓 New to progr...</td>\n",
              "    </tr>\n",
              "    <tr>\n",
              "      <th>4</th>\n",
              "      <td>Seattle Data Guy</td>\n",
              "      <td>What Skills Do Data Engineers Need To Know</td>\n",
              "      <td>1.0</td>\n",
              "      <td>2021-04-08</td>\n",
              "      <td>UCmLGJ3VYBcfRaWbP6JLJcpA</td>\n",
              "      <td>33370</td>\n",
              "      <td>1870</td>\n",
              "      <td>https://i.ytimg.com/vi/LgSHaOvNodA/maxresdefau...</td>\n",
              "      <td>1920</td>\n",
              "      <td>1080</td>\n",
              "      <td>Education</td>\n",
              "      <td>big data|data analytics|tableau|sql|big query|...</td>\n",
              "      <td>https://www.youtube.com/channel/UCmLGJ3VYBcfRa...</td>\n",
              "      <td>Learn More about data engineering Googles DE c...</td>\n",
              "    </tr>\n",
              "  </tbody>\n",
              "</table>\n",
              "</div>\n",
              "      <button class=\"colab-df-convert\" onclick=\"convertToInteractive('df-4f8fc69a-e226-465f-992f-0583fffc707a')\"\n",
              "              title=\"Convert this dataframe to an interactive table.\"\n",
              "              style=\"display:none;\">\n",
              "        \n",
              "  <svg xmlns=\"http://www.w3.org/2000/svg\" height=\"24px\"viewBox=\"0 0 24 24\"\n",
              "       width=\"24px\">\n",
              "    <path d=\"M0 0h24v24H0V0z\" fill=\"none\"/>\n",
              "    <path d=\"M18.56 5.44l.94 2.06.94-2.06 2.06-.94-2.06-.94-.94-2.06-.94 2.06-2.06.94zm-11 1L8.5 8.5l.94-2.06 2.06-.94-2.06-.94L8.5 2.5l-.94 2.06-2.06.94zm10 10l.94 2.06.94-2.06 2.06-.94-2.06-.94-.94-2.06-.94 2.06-2.06.94z\"/><path d=\"M17.41 7.96l-1.37-1.37c-.4-.4-.92-.59-1.43-.59-.52 0-1.04.2-1.43.59L10.3 9.45l-7.72 7.72c-.78.78-.78 2.05 0 2.83L4 21.41c.39.39.9.59 1.41.59.51 0 1.02-.2 1.41-.59l7.78-7.78 2.81-2.81c.8-.78.8-2.07 0-2.86zM5.41 20L4 18.59l7.72-7.72 1.47 1.35L5.41 20z\"/>\n",
              "  </svg>\n",
              "      </button>\n",
              "      \n",
              "  <style>\n",
              "    .colab-df-container {\n",
              "      display:flex;\n",
              "      flex-wrap:wrap;\n",
              "      gap: 12px;\n",
              "    }\n",
              "\n",
              "    .colab-df-convert {\n",
              "      background-color: #E8F0FE;\n",
              "      border: none;\n",
              "      border-radius: 50%;\n",
              "      cursor: pointer;\n",
              "      display: none;\n",
              "      fill: #1967D2;\n",
              "      height: 32px;\n",
              "      padding: 0 0 0 0;\n",
              "      width: 32px;\n",
              "    }\n",
              "\n",
              "    .colab-df-convert:hover {\n",
              "      background-color: #E2EBFA;\n",
              "      box-shadow: 0px 1px 2px rgba(60, 64, 67, 0.3), 0px 1px 3px 1px rgba(60, 64, 67, 0.15);\n",
              "      fill: #174EA6;\n",
              "    }\n",
              "\n",
              "    [theme=dark] .colab-df-convert {\n",
              "      background-color: #3B4455;\n",
              "      fill: #D2E3FC;\n",
              "    }\n",
              "\n",
              "    [theme=dark] .colab-df-convert:hover {\n",
              "      background-color: #434B5C;\n",
              "      box-shadow: 0px 1px 3px 1px rgba(0, 0, 0, 0.15);\n",
              "      filter: drop-shadow(0px 1px 2px rgba(0, 0, 0, 0.3));\n",
              "      fill: #FFFFFF;\n",
              "    }\n",
              "  </style>\n",
              "\n",
              "      <script>\n",
              "        const buttonEl =\n",
              "          document.querySelector('#df-4f8fc69a-e226-465f-992f-0583fffc707a button.colab-df-convert');\n",
              "        buttonEl.style.display =\n",
              "          google.colab.kernel.accessAllowed ? 'block' : 'none';\n",
              "\n",
              "        async function convertToInteractive(key) {\n",
              "          const element = document.querySelector('#df-4f8fc69a-e226-465f-992f-0583fffc707a');\n",
              "          const dataTable =\n",
              "            await google.colab.kernel.invokeFunction('convertToInteractive',\n",
              "                                                     [key], {});\n",
              "          if (!dataTable) return;\n",
              "\n",
              "          const docLinkHtml = 'Like what you see? Visit the ' +\n",
              "            '<a target=\"_blank\" href=https://colab.research.google.com/notebooks/data_table.ipynb>data table notebook</a>'\n",
              "            + ' to learn more about interactive tables.';\n",
              "          element.innerHTML = '';\n",
              "          dataTable['output_type'] = 'display_data';\n",
              "          await google.colab.output.renderOutput(dataTable, element);\n",
              "          const docLink = document.createElement('div');\n",
              "          docLink.innerHTML = docLinkHtml;\n",
              "          element.appendChild(docLink);\n",
              "        }\n",
              "      </script>\n",
              "    </div>\n",
              "  </div>\n",
              "  "
            ],
            "text/plain": [
              "                 uploader                                              title  \\\n",
              "0               AltexSoft                         How Data Engineering Works   \n",
              "1  Seja Um Data Scientist  [Parte 01] Como é o Trabalho de um Data Engine...   \n",
              "2        Seattle Data Guy  Data Engineering Road Map - How To Learn Data ...   \n",
              "3               Joma Tech  Data Scientists vs Data Engineers: Which one i...   \n",
              "4        Seattle Data Guy         What Skills Do Data Engineers Need To Know   \n",
              "\n",
              "   interesting upload_date                      user  view_count  like_count  \\\n",
              "0          1.0  2021-03-17          AltexSoftChannel       70764        4014   \n",
              "1          0.0  2020-05-25  UCar5Cr-pVz08GY_6I3RX9bA       11125         814   \n",
              "2          1.0  2021-07-06  UCmLGJ3VYBcfRaWbP6JLJcpA       48598        2561   \n",
              "3          1.0  2019-12-19  UCV0qA-eDDICsRR9rPcnG7tw      246236        6683   \n",
              "4          1.0  2021-04-08  UCmLGJ3VYBcfRaWbP6JLJcpA       33370        1870   \n",
              "\n",
              "                                           thumbnail  width  height  \\\n",
              "0  https://i.ytimg.com/vi/qWru-b6m030/maxresdefau...   1920    1080   \n",
              "1  https://i.ytimg.com/vi_webp/nQu6s8FPhfA/maxres...   1920    1080   \n",
              "2  https://i.ytimg.com/vi_webp/SpaFPPByOhM/maxres...   1920    1080   \n",
              "3  https://i.ytimg.com/vi/vmYaAzbv9xk/maxresdefau...   1920    1080   \n",
              "4  https://i.ytimg.com/vi/LgSHaOvNodA/maxresdefau...   1920    1080   \n",
              "\n",
              "             categories                                               tags  \\\n",
              "0  Science & Technology  data engineering|data science|data infrastruct...   \n",
              "1  Science & Technology  data engineer|engenheiro de dados o que faz|fo...   \n",
              "2             Education  big data|data analytics|tableau|sql|big query|...   \n",
              "3             Education  joma|vlog|data scientist|data science|data eng...   \n",
              "4             Education  big data|data analytics|tableau|sql|big query|...   \n",
              "\n",
              "                                         channel_url  \\\n",
              "0  https://www.youtube.com/channel/UCEKI_F16hUtBH...   \n",
              "1  https://www.youtube.com/channel/UCar5Cr-pVz08G...   \n",
              "2  https://www.youtube.com/channel/UCmLGJ3VYBcfRa...   \n",
              "3  https://www.youtube.com/channel/UCV0qA-eDDICsR...   \n",
              "4  https://www.youtube.com/channel/UCmLGJ3VYBcfRa...   \n",
              "\n",
              "                                         description  \n",
              "0  So, the sole purpose of data engineering is to...  \n",
              "1  Nesse vídeo, eu vou mostrar qual o papel de um...  \n",
              "2  How do you go from 0 to data engineer?  What i...  \n",
              "3  📚 Video courses from JomaClass: 🎓 New to progr...  \n",
              "4  Learn More about data engineering Googles DE c...  "
            ]
          },
          "metadata": {},
          "execution_count": 20
        }
      ],
      "source": [
        "df.head()"
      ]
    },
    {
      "cell_type": "markdown",
      "metadata": {
        "id": "Aka7o93IKEUt"
      },
      "source": [
        "## Data Cleaning"
      ]
    },
    {
      "cell_type": "markdown",
      "metadata": {
        "id": "ozqP3cpqKEUu"
      },
      "source": [
        "### 1. Limpeza das datas"
      ]
    },
    {
      "cell_type": "code",
      "execution_count": 21,
      "metadata": {
        "ExecuteTime": {
          "end_time": "2021-12-23T15:37:06.527480Z",
          "start_time": "2021-12-23T15:37:06.445340Z"
        },
        "id": "t63O5eZyKEUu"
      },
      "outputs": [],
      "source": [
        "df_limpo = pd.DataFrame(index=df.index)\n",
        "df_limpo['title'] = df['title']\n",
        "df_limpo['date'] = pd.to_datetime(df['upload_date'])"
      ]
    },
    {
      "cell_type": "markdown",
      "metadata": {
        "id": "-WVOrcVVKEUv"
      },
      "source": [
        "### 2. Limpeza de views"
      ]
    },
    {
      "cell_type": "code",
      "execution_count": 22,
      "metadata": {
        "ExecuteTime": {
          "end_time": "2021-12-23T15:37:08.487841Z",
          "start_time": "2021-12-23T15:37:08.481008Z"
        },
        "id": "6rCuDYyXKEUv"
      },
      "outputs": [],
      "source": [
        "views = df['view_count'].fillna(0)\n",
        "df_limpo['views'] = views"
      ]
    },
    {
      "cell_type": "markdown",
      "metadata": {
        "id": "dQIDd6jRKEUv"
      },
      "source": [
        "## Feature Engineering"
      ]
    },
    {
      "cell_type": "code",
      "execution_count": 23,
      "metadata": {
        "ExecuteTime": {
          "end_time": "2021-12-23T15:38:02.171684Z",
          "start_time": "2021-12-23T15:38:01.659897Z"
        },
        "id": "7wjZ1BoZKEUv"
      },
      "outputs": [],
      "source": [
        "# As features vao ficar num dataset separado\n",
        "features = pd.DataFrame(index=df_limpo.index)\n",
        "\n",
        "# Y (target) tambem fica separado\n",
        "y = df['interesting'].copy()\n",
        "\n",
        "# Feature Enginneering\n",
        "today = datetime.datetime.today().strftime(\"%Y-%m-%d\")\n",
        "features['tempo_desde_pub'] = (pd.to_datetime(today) -  df_limpo['date']) / np.timedelta64(1, 'D')\n",
        "features['views'] = df_limpo['views']\n",
        "features['views_por_dia'] = (features['views'] / features['tempo_desde_pub']).round(3)\n",
        "features.drop(['tempo_desde_pub'], axis=1, inplace=True)"
      ]
    },
    {
      "cell_type": "markdown",
      "metadata": {
        "id": "MT_Ntro3KEUw"
      },
      "source": [
        "## Split Train and Test\n",
        "\n",
        "Vamos dividir pela data, de forma que divida ao meioa s duas quantidade de dados.\n",
        "\n",
        "Vamos dividir por tempo, pegar os menos de 2020/10/03 para treinar e o restante para validar.\n",
        "\n",
        "Perceba que teve poucos casos, podemos mudar isso para por mais dados para treinar"
      ]
    },
    {
      "cell_type": "code",
      "source": [
        "def eda_categ_feat_desc_plot(series_categorical, title = \"\"):\n",
        "    \"\"\"Generate 2 plots: barplot with quantity and pieplot with percentage. \n",
        "       @series_categorical: categorical series\n",
        "       @title: optional\n",
        "    \"\"\"\n",
        "    series_name = series_categorical.name\n",
        "    val_counts = series_categorical.value_counts()\n",
        "    val_counts.name = 'quantity'\n",
        "    val_percentage = series_categorical.value_counts(normalize=True)\n",
        "    val_percentage.name = \"percentage\"\n",
        "    val_concat = pd.concat([val_counts, val_percentage], axis = 1)\n",
        "    val_concat.reset_index(level=0, inplace=True)\n",
        "    val_concat = val_concat.rename( columns = {'index': series_name} )\n",
        "    \n",
        "    fig, ax = plt.subplots(figsize = (12,4), ncols=2, nrows=1) # figsize = (width, height)\n",
        "    if(title != \"\"):\n",
        "        fig.suptitle(title, fontsize=18)\n",
        "        fig.subplots_adjust(top=0.8)\n",
        "\n",
        "    s = sns.barplot(x=series_name, y='quantity', data=val_concat, ax=ax[0])\n",
        "    for index, row in val_concat.iterrows():\n",
        "        s.text(row.name, row['quantity'], row['quantity'], color='black', ha=\"center\")\n",
        "\n",
        "    s2 = val_concat.plot.pie(y='percentage', autopct=lambda value: '{:.2f}%'.format(value),\n",
        "                             labels=val_concat[series_name].tolist(), legend=None, ax=ax[1],\n",
        "                             title=\"Percentage Plot\")\n",
        "\n",
        "    ax[1].set_ylabel('')\n",
        "    ax[0].set_title('Quantity Plot')\n",
        "\n",
        "    plt.show()"
      ],
      "metadata": {
        "id": "AKMru7JJWZqN"
      },
      "execution_count": 103,
      "outputs": []
    },
    {
      "cell_type": "code",
      "source": [
        "eda_categ_feat_desc_plot(df['interesting'], 'Rows By Class: No interesting = 0 | interesting = 1')"
      ],
      "metadata": {
        "colab": {
          "base_uri": "https://localhost:8080/",
          "height": 328
        },
        "id": "TXy9eMLiWk4K",
        "outputId": "a875113c-55ac-44f8-f9cb-a9a42a186e97"
      },
      "execution_count": 104,
      "outputs": [
        {
          "output_type": "display_data",
          "data": {
            "image/png": "[encoded data removed]",
            "text/plain": [
              "<Figure size 864x288 with 2 Axes>"
            ]
          },
          "metadata": {
            "needs_background": "light"
          }
        }
      ]
    },
    {
      "cell_type": "code",
      "execution_count": 109,
      "metadata": {
        "ExecuteTime": {
          "end_time": "2021-12-23T15:38:03.432149Z",
          "start_time": "2021-12-23T15:38:03.367713Z"
        },
        "colab": {
          "base_uri": "https://localhost:8080/"
        },
        "id": "s3aYYiT4KEUw",
        "outputId": "98ba0919-699e-4dc7-d5e9-e6671482ad90"
      },
      "outputs": [
        {
          "output_type": "execute_result",
          "data": {
            "text/plain": [
              "((991, 2), (654, 2), (991,), (654,))"
            ]
          },
          "metadata": {},
          "execution_count": 109
        }
      ],
      "source": [
        "mask_train = df_limpo['date'] < '2021-03-10'\n",
        "mask_val = df_limpo['date'] >= '2021-03-10'\n",
        "\n",
        "Xtrain, Xval = features[mask_train], features[mask_val]\n",
        "ytrain, yval = y[mask_train], y[mask_val]\n",
        "Xtrain.shape, Xval.shape, ytrain.shape, yval.shape\n",
        "\n",
        "# data         => train   , test\n",
        "# '2020-03-10' => (546, 2), (1099, 2)\n",
        "# '2021-03-10' => (991, 2), (654 , 2)"
      ]
    },
    {
      "cell_type": "code",
      "source": [
        "eda_categ_feat_desc_plot(ytrain, 'Rows By Class: No interesting = 0 | interesting = 1')"
      ],
      "metadata": {
        "colab": {
          "base_uri": "https://localhost:8080/",
          "height": 291
        },
        "id": "Yyp79PFgXMzO",
        "outputId": "532562a8-e975-48dd-940e-54a79242e7a2"
      },
      "execution_count": 110,
      "outputs": [
        {
          "output_type": "display_data",
          "data": {
            "image/png": "[encoded data removed]",
            "text/plain": [
              "<Figure size 864x288 with 2 Axes>"
            ]
          },
          "metadata": {
            "needs_background": "light"
          }
        }
      ]
    },
    {
      "cell_type": "code",
      "source": [
        "ytrain.head(1)"
      ],
      "metadata": {
        "colab": {
          "base_uri": "https://localhost:8080/"
        },
        "id": "e2seV3vHXXgT",
        "outputId": "8724c1fe-375d-4843-f3c2-595fa1eeb9d8"
      },
      "execution_count": 111,
      "outputs": [
        {
          "output_type": "execute_result",
          "data": {
            "text/plain": [
              "1    0.0\n",
              "Name: interesting, dtype: float64"
            ]
          },
          "metadata": {},
          "execution_count": 111
        }
      ]
    },
    {
      "cell_type": "code",
      "execution_count": 112,
      "metadata": {
        "ExecuteTime": {
          "end_time": "2021-12-23T15:38:04.292529Z",
          "start_time": "2021-12-23T15:38:04.277892Z"
        },
        "scrolled": true,
        "colab": {
          "base_uri": "https://localhost:8080/",
          "height": 81
        },
        "id": "y_ElQUliKEUx",
        "outputId": "44778632-5d44-4c44-830e-ec466928f67b"
      },
      "outputs": [
        {
          "output_type": "execute_result",
          "data": {
            "text/html": [
              "\n",
              "  <div id=\"df-b051b337-e588-4183-8e68-bd987f94b6c1\">\n",
              "    <div class=\"colab-df-container\">\n",
              "      <div>\n",
              "<style scoped>\n",
              "    .dataframe tbody tr th:only-of-type {\n",
              "        vertical-align: middle;\n",
              "    }\n",
              "\n",
              "    .dataframe tbody tr th {\n",
              "        vertical-align: top;\n",
              "    }\n",
              "\n",
              "    .dataframe thead th {\n",
              "        text-align: right;\n",
              "    }\n",
              "</style>\n",
              "<table border=\"1\" class=\"dataframe\">\n",
              "  <thead>\n",
              "    <tr style=\"text-align: right;\">\n",
              "      <th></th>\n",
              "      <th>views</th>\n",
              "      <th>views_por_dia</th>\n",
              "    </tr>\n",
              "  </thead>\n",
              "  <tbody>\n",
              "    <tr>\n",
              "      <th>1</th>\n",
              "      <td>11125</td>\n",
              "      <td>19.281</td>\n",
              "    </tr>\n",
              "  </tbody>\n",
              "</table>\n",
              "</div>\n",
              "      <button class=\"colab-df-convert\" onclick=\"convertToInteractive('df-b051b337-e588-4183-8e68-bd987f94b6c1')\"\n",
              "              title=\"Convert this dataframe to an interactive table.\"\n",
              "              style=\"display:none;\">\n",
              "        \n",
              "  <svg xmlns=\"http://www.w3.org/2000/svg\" height=\"24px\"viewBox=\"0 0 24 24\"\n",
              "       width=\"24px\">\n",
              "    <path d=\"M0 0h24v24H0V0z\" fill=\"none\"/>\n",
              "    <path d=\"M18.56 5.44l.94 2.06.94-2.06 2.06-.94-2.06-.94-.94-2.06-.94 2.06-2.06.94zm-11 1L8.5 8.5l.94-2.06 2.06-.94-2.06-.94L8.5 2.5l-.94 2.06-2.06.94zm10 10l.94 2.06.94-2.06 2.06-.94-2.06-.94-.94-2.06-.94 2.06-2.06.94z\"/><path d=\"M17.41 7.96l-1.37-1.37c-.4-.4-.92-.59-1.43-.59-.52 0-1.04.2-1.43.59L10.3 9.45l-7.72 7.72c-.78.78-.78 2.05 0 2.83L4 21.41c.39.39.9.59 1.41.59.51 0 1.02-.2 1.41-.59l7.78-7.78 2.81-2.81c.8-.78.8-2.07 0-2.86zM5.41 20L4 18.59l7.72-7.72 1.47 1.35L5.41 20z\"/>\n",
              "  </svg>\n",
              "      </button>\n",
              "      \n",
              "  <style>\n",
              "    .colab-df-container {\n",
              "      display:flex;\n",
              "      flex-wrap:wrap;\n",
              "      gap: 12px;\n",
              "    }\n",
              "\n",
              "    .colab-df-convert {\n",
              "      background-color: #E8F0FE;\n",
              "      border: none;\n",
              "      border-radius: 50%;\n",
              "      cursor: pointer;\n",
              "      display: none;\n",
              "      fill: #1967D2;\n",
              "      height: 32px;\n",
              "      padding: 0 0 0 0;\n",
              "      width: 32px;\n",
              "    }\n",
              "\n",
              "    .colab-df-convert:hover {\n",
              "      background-color: #E2EBFA;\n",
              "      box-shadow: 0px 1px 2px rgba(60, 64, 67, 0.3), 0px 1px 3px 1px rgba(60, 64, 67, 0.15);\n",
              "      fill: #174EA6;\n",
              "    }\n",
              "\n",
              "    [theme=dark] .colab-df-convert {\n",
              "      background-color: #3B4455;\n",
              "      fill: #D2E3FC;\n",
              "    }\n",
              "\n",
              "    [theme=dark] .colab-df-convert:hover {\n",
              "      background-color: #434B5C;\n",
              "      box-shadow: 0px 1px 3px 1px rgba(0, 0, 0, 0.15);\n",
              "      filter: drop-shadow(0px 1px 2px rgba(0, 0, 0, 0.3));\n",
              "      fill: #FFFFFF;\n",
              "    }\n",
              "  </style>\n",
              "\n",
              "      <script>\n",
              "        const buttonEl =\n",
              "          document.querySelector('#df-b051b337-e588-4183-8e68-bd987f94b6c1 button.colab-df-convert');\n",
              "        buttonEl.style.display =\n",
              "          google.colab.kernel.accessAllowed ? 'block' : 'none';\n",
              "\n",
              "        async function convertToInteractive(key) {\n",
              "          const element = document.querySelector('#df-b051b337-e588-4183-8e68-bd987f94b6c1');\n",
              "          const dataTable =\n",
              "            await google.colab.kernel.invokeFunction('convertToInteractive',\n",
              "                                                     [key], {});\n",
              "          if (!dataTable) return;\n",
              "\n",
              "          const docLinkHtml = 'Like what you see? Visit the ' +\n",
              "            '<a target=\"_blank\" href=https://colab.research.google.com/notebooks/data_table.ipynb>data table notebook</a>'\n",
              "            + ' to learn more about interactive tables.';\n",
              "          element.innerHTML = '';\n",
              "          dataTable['output_type'] = 'display_data';\n",
              "          await google.colab.output.renderOutput(dataTable, element);\n",
              "          const docLink = document.createElement('div');\n",
              "          docLink.innerHTML = docLinkHtml;\n",
              "          element.appendChild(docLink);\n",
              "        }\n",
              "      </script>\n",
              "    </div>\n",
              "  </div>\n",
              "  "
            ],
            "text/plain": [
              "   views  views_por_dia\n",
              "1  11125         19.281"
            ]
          },
          "metadata": {},
          "execution_count": 112
        }
      ],
      "source": [
        "Xtrain.head(1)"
      ]
    },
    {
      "cell_type": "code",
      "execution_count": 113,
      "metadata": {
        "ExecuteTime": {
          "end_time": "2021-12-23T15:38:05.052808Z",
          "start_time": "2021-12-23T15:38:05.045975Z"
        },
        "scrolled": true,
        "colab": {
          "base_uri": "https://localhost:8080/"
        },
        "id": "xTjpJjC7KEUx",
        "outputId": "76e5bf40-74ab-44b9-ec2d-f38c60934613"
      },
      "outputs": [
        {
          "output_type": "execute_result",
          "data": {
            "text/plain": [
              "1    0.0\n",
              "Name: interesting, dtype: float64"
            ]
          },
          "metadata": {},
          "execution_count": 113
        }
      ],
      "source": [
        "ytrain.head(1)"
      ]
    },
    {
      "cell_type": "markdown",
      "metadata": {
        "id": "dtAr31VDKEUy"
      },
      "source": [
        "## Testando com apenas uma feature (NLTK)\n",
        "\n",
        "Vamos usar um Vecotorizer para tokenizar os títulos e assim tentarmos fazer o treinamento só com palavras"
      ]
    },
    {
      "cell_type": "code",
      "execution_count": 114,
      "metadata": {
        "ExecuteTime": {
          "end_time": "2021-12-23T15:38:07.796042Z",
          "start_time": "2021-12-23T15:38:07.391656Z"
        },
        "id": "6HXmjSzwKEUz"
      },
      "outputs": [],
      "source": [
        "# Buscando somente o 'title' para fazer a tokenização\n",
        "title_train = df_limpo[mask_train]['title']\n",
        "title_val = df_limpo[mask_val]['title']\n",
        "\n",
        "# Min df - minimo de vezes que palavra tem que aparecer pra virar coluna\n",
        "#        => min_df=2 quer dizer enta que a palavra tem que aparecer 2 vezes\n",
        "#           no minimo para ela representar uma nova coluna\n",
        "## ngram_range = vai fazer colunas para tanto 1 word \"machine\" quanto 2 juntas \"machine learning\"\n",
        "\n",
        "title_vec = TfidfVectorizer(min_df=2, ngram_range=(1,2))\n",
        "\n",
        "## Aplicando tokenizador\n",
        "title_bow_train = title_vec.fit_transform(title_train)\n",
        "title_bow_val = title_vec.transform(title_val)"
      ]
    },
    {
      "cell_type": "markdown",
      "metadata": {
        "id": "PFDohJllKEUz"
      },
      "source": [
        "**Convertemos o nosso titulo para um vetor de tamanho 1134, sendo esas a quantidade de palavras distintas**\n",
        "\n",
        "Como é um array esparso (ou seja, esta preenhcido de muito zero) é difícil por isso na tela"
      ]
    },
    {
      "cell_type": "code",
      "execution_count": 115,
      "metadata": {
        "ExecuteTime": {
          "end_time": "2021-12-23T15:38:09.051309Z",
          "start_time": "2021-12-23T15:38:09.045453Z"
        },
        "colab": {
          "base_uri": "https://localhost:8080/"
        },
        "id": "MKxw7riUKEU0",
        "outputId": "14185413-f0dc-4d27-90d9-763a24c08446"
      },
      "outputs": [
        {
          "output_type": "execute_result",
          "data": {
            "text/plain": [
              "(991, 1459)"
            ]
          },
          "metadata": {},
          "execution_count": 115
        }
      ],
      "source": [
        "title_bow_train.shape"
      ]
    },
    {
      "cell_type": "code",
      "execution_count": 116,
      "metadata": {
        "ExecuteTime": {
          "end_time": "2021-12-23T15:38:09.968467Z",
          "start_time": "2021-12-23T15:38:09.959679Z"
        },
        "scrolled": true,
        "colab": {
          "base_uri": "https://localhost:8080/"
        },
        "id": "1Hxvh8KSKEU0",
        "outputId": "75c03513-6d62-43a0-f6c2-81dd70e818bc"
      },
      "outputs": [
        {
          "output_type": "execute_result",
          "data": {
            "text/plain": [
              "<1x1459 sparse matrix of type '<class 'numpy.float64'>'\n",
              "\twith 18 stored elements in Compressed Sparse Row format>"
            ]
          },
          "metadata": {},
          "execution_count": 116
        }
      ],
      "source": [
        "title_bow_train[0][0]"
      ]
    },
    {
      "cell_type": "markdown",
      "metadata": {
        "id": "-_ViWKG_KEU0"
      },
      "source": [
        "## Concatenando as variávels numéricas com as geradas pelo TfidfVectorizer"
      ]
    },
    {
      "cell_type": "code",
      "execution_count": 117,
      "metadata": {
        "ExecuteTime": {
          "end_time": "2021-12-23T15:38:11.154816Z",
          "start_time": "2021-12-23T15:38:11.142123Z"
        },
        "colab": {
          "base_uri": "https://localhost:8080/"
        },
        "id": "3sntkcBIKEU1",
        "outputId": "004351ee-b805-4d0f-c4b5-22641543ae3c"
      },
      "outputs": [
        {
          "output_type": "execute_result",
          "data": {
            "text/plain": [
              "((991, 1461), (654, 1461))"
            ]
          },
          "metadata": {},
          "execution_count": 117
        }
      ],
      "source": [
        "Xtrain_wtitle = sparse.hstack([Xtrain, title_bow_train])\n",
        "Xval_wtitle = sparse.hstack([Xval, title_bow_val])\n",
        "Xtrain_wtitle.shape, Xval_wtitle.shape"
      ]
    },
    {
      "cell_type": "markdown",
      "metadata": {
        "id": "fJNfiAYRKEU1"
      },
      "source": [
        "## Modelo RandomForest"
      ]
    },
    {
      "cell_type": "code",
      "execution_count": 118,
      "metadata": {
        "ExecuteTime": {
          "end_time": "2021-12-23T15:38:15.836095Z",
          "start_time": "2021-12-23T15:38:12.278805Z"
        },
        "colab": {
          "base_uri": "https://localhost:8080/"
        },
        "id": "1gRw68XdKEU1",
        "outputId": "2f850df7-7403-4b60-86a9-b239739a774c"
      },
      "outputs": [
        {
          "output_type": "execute_result",
          "data": {
            "text/plain": [
              "RandomForestClassifier(class_weight='balanced', n_estimators=1000, n_jobs=4,\n",
              "                       random_state=0)"
            ]
          },
          "metadata": {},
          "execution_count": 118
        }
      ],
      "source": [
        "mdl_rf = RandomForestClassifier(n_estimators=1000,\n",
        "                             min_samples_leaf=1, \n",
        "                             random_state=0, \n",
        "                             class_weight='balanced', \n",
        "                             n_jobs=4)\n",
        "mdl_rf.fit(Xtrain_wtitle, ytrain)"
      ]
    },
    {
      "cell_type": "code",
      "execution_count": 119,
      "metadata": {
        "ExecuteTime": {
          "end_time": "2021-12-23T15:38:17.782126Z",
          "start_time": "2021-12-23T15:38:17.361305Z"
        },
        "id": "0a1fa99PKEU2"
      },
      "outputs": [],
      "source": [
        "p_rf = mdl_rf.predict_proba(Xval_wtitle)[: ,1]"
      ]
    },
    {
      "cell_type": "code",
      "execution_count": 121,
      "metadata": {
        "ExecuteTime": {
          "end_time": "2021-12-23T15:38:27.127089Z",
          "start_time": "2021-12-23T15:38:27.077296Z"
        },
        "scrolled": true,
        "colab": {
          "base_uri": "https://localhost:8080/"
        },
        "id": "JPj-OxnXKEU2",
        "outputId": "171359ef-9ef6-49fb-c813-9b12c50b43da"
      },
      "outputs": [
        {
          "output_type": "stream",
          "name": "stdout",
          "text": [
            "RandomForest\n",
            " avg_precision :: 0.3695448177133478 \n",
            " roc_auc :: 0.7520141853739153\n"
          ]
        }
      ],
      "source": [
        "print('RandomForest')\n",
        "print( \" avg_precision :: \" + str(metrics.average_precision_score(yval, p_rf)), '\\n' ,\n",
        "      \"roc_auc :: \" + str(metrics.roc_auc_score(yval, p_rf)) )\n",
        "# RandomForest (2020-data)\n",
        "#  avg_precision :: 0.32132819344300667 \n",
        "#  roc_auc :: 0.6904048017867113\n",
        "# RandomForest 2021-data\n",
        "#  avg_precision :: 0.3695448177133478 \n",
        "#  roc_auc :: 0.7520141853739153"
      ]
    },
    {
      "cell_type": "markdown",
      "metadata": {
        "id": "UJv4G7vfKEU2"
      },
      "source": [
        "O melhor resultado que Mario encontrou para oe xemplo dele\n",
        "min_df=2 ngram_range=(1,3)"
      ]
    },
    {
      "cell_type": "markdown",
      "metadata": {
        "id": "n837sXGGKEU3"
      },
      "source": [
        "## LightGBM"
      ]
    },
    {
      "cell_type": "code",
      "execution_count": 122,
      "metadata": {
        "ExecuteTime": {
          "end_time": "2021-12-23T15:54:52.059388Z",
          "start_time": "2021-12-23T15:54:52.041811Z"
        },
        "id": "FpuV6aBbKEU3"
      },
      "outputs": [],
      "source": [
        "from lightgbm import LGBMClassifier"
      ]
    },
    {
      "cell_type": "code",
      "execution_count": 123,
      "metadata": {
        "colab": {
          "base_uri": "https://localhost:8080/"
        },
        "id": "ruo0b-ERKEU3",
        "outputId": "734ec6d5-9e87-4fee-e04f-352c2a1d5d22"
      },
      "outputs": [
        {
          "output_type": "execute_result",
          "data": {
            "text/plain": [
              "LGBMClassifier(class_weight='balanced', n_jobs=4, random_state=0)"
            ]
          },
          "metadata": {},
          "execution_count": 123
        }
      ],
      "source": [
        "mdl_lgbm = LGBMClassifier(random_state=0, class_weight='balanced', n_jobs=4)\n",
        "mdl_lgbm.fit(Xtrain_wtitle, ytrain)"
      ]
    },
    {
      "cell_type": "code",
      "execution_count": 124,
      "metadata": {
        "colab": {
          "base_uri": "https://localhost:8080/"
        },
        "id": "_TWVBA4pKEU3",
        "outputId": "4dd5cacd-b762-43a9-c974-b3d263046ceb"
      },
      "outputs": [
        {
          "output_type": "stream",
          "name": "stderr",
          "text": [
            "/usr/local/lib/python3.7/dist-packages/lightgbm/basic.py:478: UserWarning: Converting data to scipy sparse matrix.\n",
            "  warnings.warn('Converting data to scipy sparse matrix.')\n"
          ]
        }
      ],
      "source": [
        "p_lgbm = mdl_lgbm.predict_proba(Xval_wtitle)[:, 1]"
      ]
    },
    {
      "cell_type": "code",
      "execution_count": 126,
      "metadata": {
        "colab": {
          "base_uri": "https://localhost:8080/"
        },
        "id": "aaceZrwZKEU4",
        "outputId": "5949fe00-134f-4455-e923-fe1835b2e274"
      },
      "outputs": [
        {
          "output_type": "stream",
          "name": "stdout",
          "text": [
            "LightGBM - No Hyper-turning\n",
            " avg_precision :: 0.2795196325547043 \n",
            " roc_auc :: 0.6299493871367581\n"
          ]
        }
      ],
      "source": [
        "# metrics.average_precision_score(yval, p), metrics.roc_auc_score(yval, p)\n",
        "print('LightGBM - No Hyper-turning')\n",
        "print( \" avg_precision :: \" + str(metrics.average_precision_score(yval, p_lgbm)), '\\n' ,\n",
        "      \"roc_auc :: \" + str(metrics.roc_auc_score(yval, p_lgbm)) )\n",
        "# LightGBM - No Hyper-turning (2021 date)\n",
        "#  avg_precision :: 0.2795196325547043 \n",
        "#  roc_auc :: 0.6299493871367581"
      ]
    },
    {
      "cell_type": "markdown",
      "metadata": {
        "id": "Dyi9X0oyKEU4"
      },
      "source": [
        "##  Bayesian Optimization\n",
        "\n",
        "É uma opçâo avançada ao fazer GridSearch que é demorado) e RandomSearch (é melhor que o grid mas nâo tanto quanto Baysian).\n",
        "\n",
        "**Bayesian Optimization É UM RANDOM-SEARCH OTIMIZADO**"
      ]
    },
    {
      "cell_type": "code",
      "source": [
        "!pip install scikit-optimize"
      ],
      "metadata": {
        "colab": {
          "base_uri": "https://localhost:8080/"
        },
        "id": "ue3ABaGJMNPE",
        "outputId": "93ef09b6-e4fb-43eb-b41f-232bb936c4a7"
      },
      "execution_count": 70,
      "outputs": [
        {
          "output_type": "stream",
          "name": "stdout",
          "text": [
            "Requirement already satisfied: scikit-optimize in /usr/local/lib/python3.7/dist-packages (0.9.0)\n",
            "Requirement already satisfied: joblib>=0.11 in /usr/local/lib/python3.7/dist-packages (from scikit-optimize) (1.1.0)\n",
            "Requirement already satisfied: pyaml>=16.9 in /usr/local/lib/python3.7/dist-packages (from scikit-optimize) (21.10.1)\n",
            "Requirement already satisfied: scipy>=0.19.1 in /usr/local/lib/python3.7/dist-packages (from scikit-optimize) (1.4.1)\n",
            "Requirement already satisfied: numpy>=1.13.3 in /usr/local/lib/python3.7/dist-packages (from scikit-optimize) (1.19.5)\n",
            "Requirement already satisfied: scikit-learn>=0.20.0 in /usr/local/lib/python3.7/dist-packages (from scikit-optimize) (1.0.1)\n",
            "Requirement already satisfied: PyYAML in /usr/local/lib/python3.7/dist-packages (from pyaml>=16.9->scikit-optimize) (3.13)\n",
            "Requirement already satisfied: threadpoolctl>=2.0.0 in /usr/local/lib/python3.7/dist-packages (from scikit-learn>=0.20.0->scikit-optimize) (3.0.0)\n"
          ]
        }
      ]
    },
    {
      "cell_type": "code",
      "execution_count": 71,
      "metadata": {
        "id": "4LQWMtSYKEU4"
      },
      "outputs": [],
      "source": [
        "# lib: scikit optimizer\n",
        "from skopt import forest_minimize"
      ]
    },
    {
      "cell_type": "code",
      "execution_count": 127,
      "metadata": {
        "id": "OoyTu5BEKEU4"
      },
      "outputs": [],
      "source": [
        "results = []\n",
        "\n",
        "def tune_lgbm(params):\n",
        "    # Set Hyper-params\n",
        "    tunning = {}\n",
        "    print()\n",
        "    print(params)\n",
        "    lr = params[0]\n",
        "    max_depth = params[1]\n",
        "    min_child_samples = params[2]\n",
        "    subsample = params[3]\n",
        "    colsample_bytree = params[4]\n",
        "    n_estimators = params[5]\n",
        "    min_df = params[6]\n",
        "    ngram_range = (1, params[7])\n",
        "    # Sety TDF-Vec hyper-params, generate vocabulary and apply over data\n",
        "    title_vec = TfidfVectorizer(min_df=min_df, ngram_range=ngram_range)\n",
        "    title_bow_train = title_vec.fit_transform(title_train)\n",
        "    title_bow_val = title_vec.transform(title_val)\n",
        "    # Join Numeric Features with TDF-Vec\n",
        "    Xtrain_wtitle = sparse.hstack([Xtrain, title_bow_train])\n",
        "    Xval_wtitle = sparse.hstack([Xval, title_bow_val])\n",
        "    # Create Model with hyper-params\n",
        "    mdl_lgbm = LGBMClassifier(learning_rate=lr, num_leaves=2 ** max_depth, max_depth=max_depth,\n",
        "                         min_child_samples=min_child_samples, subsample=subsample,\n",
        "                         colsample_bytree=colsample_bytree, bagging_freq=1, n_estimators=n_estimators,\n",
        "                        random_state=0, class_weight='balanced', n_jobs=4)\n",
        "    # Fit Model\n",
        "    mdl_lgbm.fit(Xtrain_wtitle, ytrain)\n",
        "    # Predict\n",
        "    pred = mdl_lgbm.predict_proba(Xval_wtitle)[:, 1]\n",
        "    print(metrics.roc_auc_score(yval, pred))\n",
        "    # Save Results\n",
        "    tunning['params'] = params\n",
        "    tunning['roc'] = metrics.roc_auc_score(yval, pred)\n",
        "    tunning['avg_prec'] = metrics.average_precision_score(yval, pred)\n",
        "    results.append(tunning)\n",
        "    \n",
        "    # Esta negativa pois eu quero maximizar a average-precision\n",
        "    # como nao tem um 'skopt.forest_maximze' entao eu inverto a avg_precision para ter esse efeito de maximizar\n",
        "    return -metrics.average_precision_score(yval, pred)\n"
      ]
    },
    {
      "cell_type": "code",
      "execution_count": 128,
      "metadata": {
        "id": "QRVgxyynKEU5"
      },
      "outputs": [],
      "source": [
        "# INTERVALOS DOS HYPER-PARAMETROS  DO LIGHT-GBM E TDF-VEC\n",
        "space = [(1e-3, 1e-1, 'log-uniform'), # learning-rate : usamos log-unifrom para ter mais chance de pegar valores pequenos\n",
        "         (1,10), # max_depth\n",
        "         (1,20), # min_child_samples\n",
        "         (0.05, 1.), # subsample\n",
        "         (0.05, 1.), # colsample_bytree\n",
        "         (100, 1000), # n_estimators\n",
        "         (1,5), # TDF-Vectorizer: min_df\n",
        "         (1,5)] # TDF-Vectorizer: ngram_range"
      ]
    },
    {
      "cell_type": "code",
      "execution_count": 129,
      "metadata": {
        "scrolled": false,
        "colab": {
          "base_uri": "https://localhost:8080/"
        },
        "id": "V7C6TQOXKEU5",
        "outputId": "90e088fb-986d-4b35-f4b2-71263cce5bf9"
      },
      "outputs": [
        {
          "output_type": "stream",
          "name": "stdout",
          "text": [
            "Iteration No: 1 started. Evaluating function at random point.\n",
            "\n",
            "[0.009944912110647982, 5, 1, 0.4677107511929402, 0.49263223036174764, 272, 3, 1]\n"
          ]
        },
        {
          "output_type": "stream",
          "name": "stderr",
          "text": [
            "/usr/local/lib/python3.7/dist-packages/lightgbm/basic.py:478: UserWarning: Converting data to scipy sparse matrix.\n",
            "  warnings.warn('Converting data to scipy sparse matrix.')\n"
          ]
        },
        {
          "output_type": "stream",
          "name": "stdout",
          "text": [
            "0.7059805811871643\n",
            "Iteration No: 1 ended. Evaluation done at random point.\n",
            "Time taken: 0.9392\n",
            "Function value obtained: -0.3588\n",
            "Current minimum: -0.3588\n",
            "Iteration No: 2 started. Evaluating function at random point.\n",
            "\n",
            "[0.053887464791860025, 1, 15, 0.7437489153990157, 0.8675167974293533, 549, 3, 4]\n"
          ]
        },
        {
          "output_type": "stream",
          "name": "stderr",
          "text": [
            "/usr/local/lib/python3.7/dist-packages/lightgbm/basic.py:478: UserWarning: Converting data to scipy sparse matrix.\n",
            "  warnings.warn('Converting data to scipy sparse matrix.')\n"
          ]
        },
        {
          "output_type": "stream",
          "name": "stdout",
          "text": [
            "0.6745369095165956\n",
            "Iteration No: 2 ended. Evaluation done at random point.\n",
            "Time taken: 0.3790\n",
            "Function value obtained: -0.3453\n",
            "Current minimum: -0.3588\n",
            "Iteration No: 3 started. Evaluating function at random point.\n",
            "\n",
            "[0.004151454520895999, 6, 20, 0.8682075103820793, 0.9491436163200662, 411, 4, 3]\n"
          ]
        },
        {
          "output_type": "stream",
          "name": "stderr",
          "text": [
            "/usr/local/lib/python3.7/dist-packages/lightgbm/basic.py:478: UserWarning: Converting data to scipy sparse matrix.\n",
            "  warnings.warn('Converting data to scipy sparse matrix.')\n"
          ]
        },
        {
          "output_type": "stream",
          "name": "stdout",
          "text": [
            "0.6311114171601708\n",
            "Iteration No: 3 ended. Evaluation done at random point.\n",
            "Time taken: 0.8857\n",
            "Function value obtained: -0.2758\n",
            "Current minimum: -0.3588\n",
            "Iteration No: 4 started. Evaluating function at random point.\n",
            "\n",
            "[0.0014099928811969545, 9, 9, 0.6502182010234373, 0.6866210554187129, 828, 5, 2]\n"
          ]
        },
        {
          "output_type": "stream",
          "name": "stderr",
          "text": [
            "/usr/local/lib/python3.7/dist-packages/lightgbm/basic.py:478: UserWarning: Converting data to scipy sparse matrix.\n",
            "  warnings.warn('Converting data to scipy sparse matrix.')\n"
          ]
        },
        {
          "output_type": "stream",
          "name": "stdout",
          "text": [
            "0.6697510673460956\n",
            "Iteration No: 4 ended. Evaluation done at random point.\n",
            "Time taken: 3.4533\n",
            "Function value obtained: -0.2904\n",
            "Current minimum: -0.3588\n",
            "Iteration No: 5 started. Evaluating function at random point.\n",
            "\n",
            "[0.08530558241838007, 8, 19, 0.2137736299768322, 0.1313765544201984, 961, 4, 1]\n"
          ]
        },
        {
          "output_type": "stream",
          "name": "stderr",
          "text": [
            "/usr/local/lib/python3.7/dist-packages/lightgbm/basic.py:478: UserWarning: Converting data to scipy sparse matrix.\n",
            "  warnings.warn('Converting data to scipy sparse matrix.')\n"
          ]
        },
        {
          "output_type": "stream",
          "name": "stdout",
          "text": [
            "0.627246591378598\n",
            "Iteration No: 5 ended. Evaluation done at random point.\n",
            "Time taken: 0.8952\n",
            "Function value obtained: -0.2690\n",
            "Current minimum: -0.3588\n",
            "Iteration No: 6 started. Evaluating function at random point.\n",
            "\n",
            "[0.003567949451535685, 10, 19, 0.7232951768944309, 0.7298538828427115, 939, 4, 3]\n"
          ]
        },
        {
          "output_type": "stream",
          "name": "stderr",
          "text": [
            "/usr/local/lib/python3.7/dist-packages/lightgbm/basic.py:478: UserWarning: Converting data to scipy sparse matrix.\n",
            "  warnings.warn('Converting data to scipy sparse matrix.')\n"
          ]
        },
        {
          "output_type": "stream",
          "name": "stdout",
          "text": [
            "0.6159533810769867\n",
            "Iteration No: 6 ended. Evaluation done at random point.\n",
            "Time taken: 3.2944\n",
            "Function value obtained: -0.2852\n",
            "Current minimum: -0.3588\n",
            "Iteration No: 7 started. Evaluating function at random point.\n",
            "\n",
            "[0.014828577273549474, 7, 1, 0.18428087097824575, 0.3261556557915816, 274, 1, 2]\n"
          ]
        },
        {
          "output_type": "stream",
          "name": "stderr",
          "text": [
            "/usr/local/lib/python3.7/dist-packages/lightgbm/basic.py:478: UserWarning: Converting data to scipy sparse matrix.\n",
            "  warnings.warn('Converting data to scipy sparse matrix.')\n"
          ]
        },
        {
          "output_type": "stream",
          "name": "stdout",
          "text": [
            "0.7165679658449249\n",
            "Iteration No: 7 ended. Evaluation done at random point.\n",
            "Time taken: 2.3174\n",
            "Function value obtained: -0.3554\n",
            "Current minimum: -0.3588\n",
            "Iteration No: 8 started. Evaluating function at random point.\n",
            "\n",
            "[0.0015212976972079912, 3, 12, 0.44234694306528044, 0.399351303640462, 272, 3, 5]\n"
          ]
        },
        {
          "output_type": "stream",
          "name": "stderr",
          "text": [
            "/usr/local/lib/python3.7/dist-packages/lightgbm/basic.py:478: UserWarning: Converting data to scipy sparse matrix.\n",
            "  warnings.warn('Converting data to scipy sparse matrix.')\n"
          ]
        },
        {
          "output_type": "stream",
          "name": "stdout",
          "text": [
            "0.6477069274204655\n",
            "Iteration No: 8 ended. Evaluation done at random point.\n",
            "Time taken: 0.4201\n",
            "Function value obtained: -0.2771\n",
            "Current minimum: -0.3588\n",
            "Iteration No: 9 started. Evaluating function at random point.\n",
            "\n",
            "[0.01946212855369041, 9, 18, 0.5235636153223084, 0.6728679300083596, 747, 4, 5]\n"
          ]
        },
        {
          "output_type": "stream",
          "name": "stderr",
          "text": [
            "/usr/local/lib/python3.7/dist-packages/lightgbm/basic.py:478: UserWarning: Converting data to scipy sparse matrix.\n",
            "  warnings.warn('Converting data to scipy sparse matrix.')\n"
          ]
        },
        {
          "output_type": "stream",
          "name": "stdout",
          "text": [
            "0.5824524858834872\n",
            "Iteration No: 9 ended. Evaluation done at random point.\n",
            "Time taken: 2.1025\n",
            "Function value obtained: -0.2756\n",
            "Current minimum: -0.3588\n",
            "Iteration No: 10 started. Evaluating function at random point.\n",
            "\n",
            "[0.0012116790683302117, 3, 2, 0.06616307483844217, 0.23025600705315752, 677, 2, 5]\n"
          ]
        },
        {
          "output_type": "stream",
          "name": "stderr",
          "text": [
            "/usr/local/lib/python3.7/dist-packages/lightgbm/basic.py:478: UserWarning: Converting data to scipy sparse matrix.\n",
            "  warnings.warn('Converting data to scipy sparse matrix.')\n"
          ]
        },
        {
          "output_type": "stream",
          "name": "stdout",
          "text": [
            "0.662477620162512\n",
            "Iteration No: 10 ended. Evaluation done at random point.\n",
            "Time taken: 0.9970\n",
            "Function value obtained: -0.2961\n",
            "Current minimum: -0.3588\n",
            "Iteration No: 11 started. Evaluating function at random point.\n",
            "\n",
            "[0.0053139776214487944, 6, 9, 0.14251441334450304, 0.8175761405215897, 297, 1, 5]\n"
          ]
        },
        {
          "output_type": "stream",
          "name": "stderr",
          "text": [
            "/usr/local/lib/python3.7/dist-packages/lightgbm/basic.py:478: UserWarning: Converting data to scipy sparse matrix.\n",
            "  warnings.warn('Converting data to scipy sparse matrix.')\n"
          ]
        },
        {
          "output_type": "stream",
          "name": "stdout",
          "text": [
            "0.6311974934582014\n",
            "Iteration No: 11 ended. Evaluation done at random point.\n",
            "Time taken: 0.7220\n",
            "Function value obtained: -0.2597\n",
            "Current minimum: -0.3588\n",
            "Iteration No: 12 started. Evaluating function at random point.\n",
            "\n",
            "[0.0068572961982704935, 10, 5, 0.2390386584472456, 0.49053406102209746, 176, 2, 4]\n"
          ]
        },
        {
          "output_type": "stream",
          "name": "stderr",
          "text": [
            "/usr/local/lib/python3.7/dist-packages/lightgbm/basic.py:478: UserWarning: Converting data to scipy sparse matrix.\n",
            "  warnings.warn('Converting data to scipy sparse matrix.')\n"
          ]
        },
        {
          "output_type": "stream",
          "name": "stdout",
          "text": [
            "0.6431018454758297\n",
            "Iteration No: 12 ended. Evaluation done at random point.\n",
            "Time taken: 0.8817\n",
            "Function value obtained: -0.2924\n",
            "Current minimum: -0.3588\n",
            "Iteration No: 13 started. Evaluating function at random point.\n",
            "\n",
            "[0.00781968225875022, 3, 4, 0.7078936710077383, 0.31818755505678337, 275, 4, 4]\n"
          ]
        },
        {
          "output_type": "stream",
          "name": "stderr",
          "text": [
            "/usr/local/lib/python3.7/dist-packages/lightgbm/basic.py:478: UserWarning: Converting data to scipy sparse matrix.\n",
            "  warnings.warn('Converting data to scipy sparse matrix.')\n"
          ]
        },
        {
          "output_type": "stream",
          "name": "stdout",
          "text": [
            "0.7135208648946427\n",
            "Iteration No: 13 ended. Evaluation done at random point.\n",
            "Time taken: 0.4251\n",
            "Function value obtained: -0.3453\n",
            "Current minimum: -0.3588\n",
            "Iteration No: 14 started. Evaluating function at random point.\n",
            "\n",
            "[0.017293945600511968, 2, 15, 0.9007557574888567, 0.41026441194439994, 316, 5, 1]\n"
          ]
        },
        {
          "output_type": "stream",
          "name": "stderr",
          "text": [
            "/usr/local/lib/python3.7/dist-packages/lightgbm/basic.py:478: UserWarning: Converting data to scipy sparse matrix.\n",
            "  warnings.warn('Converting data to scipy sparse matrix.')\n"
          ]
        },
        {
          "output_type": "stream",
          "name": "stdout",
          "text": [
            "0.7116099710783639\n",
            "Iteration No: 14 ended. Evaluation done at random point.\n",
            "Time taken: 0.2517\n",
            "Function value obtained: -0.3359\n",
            "Current minimum: -0.3588\n",
            "Iteration No: 15 started. Evaluating function at random point.\n",
            "\n",
            "[0.012250750764764855, 8, 6, 0.5976582413192033, 0.2474882432951916, 516, 4, 4]\n"
          ]
        },
        {
          "output_type": "stream",
          "name": "stderr",
          "text": [
            "/usr/local/lib/python3.7/dist-packages/lightgbm/basic.py:478: UserWarning: Converting data to scipy sparse matrix.\n",
            "  warnings.warn('Converting data to scipy sparse matrix.')\n"
          ]
        },
        {
          "output_type": "stream",
          "name": "stdout",
          "text": [
            "0.7045861451590691\n",
            "Iteration No: 15 ended. Evaluation done at random point.\n",
            "Time taken: 1.5779\n",
            "Function value obtained: -0.3464\n",
            "Current minimum: -0.3588\n",
            "Iteration No: 16 started. Evaluating function at random point.\n",
            "\n",
            "[0.018353598126553926, 4, 3, 0.47305622526323254, 0.1404164811277527, 133, 4, 1]\n"
          ]
        },
        {
          "output_type": "stream",
          "name": "stderr",
          "text": [
            "/usr/local/lib/python3.7/dist-packages/lightgbm/basic.py:478: UserWarning: Converting data to scipy sparse matrix.\n",
            "  warnings.warn('Converting data to scipy sparse matrix.')\n"
          ]
        },
        {
          "output_type": "stream",
          "name": "stdout",
          "text": [
            "0.7239877427351605\n",
            "Iteration No: 16 ended. Evaluation done at random point.\n",
            "Time taken: 0.2510\n",
            "Function value obtained: -0.3677\n",
            "Current minimum: -0.3677\n",
            "Iteration No: 17 started. Evaluating function at random point.\n",
            "\n",
            "[0.0010383234748454694, 9, 19, 0.9256771571832196, 0.9321438677645206, 312, 4, 3]\n"
          ]
        },
        {
          "output_type": "stream",
          "name": "stderr",
          "text": [
            "/usr/local/lib/python3.7/dist-packages/lightgbm/basic.py:478: UserWarning: Converting data to scipy sparse matrix.\n",
            "  warnings.warn('Converting data to scipy sparse matrix.')\n"
          ]
        },
        {
          "output_type": "stream",
          "name": "stdout",
          "text": [
            "0.5723299132350916\n",
            "Iteration No: 17 ended. Evaluation done at random point.\n",
            "Time taken: 1.3729\n",
            "Function value obtained: -0.2290\n",
            "Current minimum: -0.3677\n",
            "Iteration No: 18 started. Evaluating function at random point.\n",
            "\n",
            "[0.004955229758078229, 5, 5, 0.06939551310802591, 0.4193273080472823, 725, 4, 1]\n"
          ]
        },
        {
          "output_type": "stream",
          "name": "stderr",
          "text": [
            "/usr/local/lib/python3.7/dist-packages/lightgbm/basic.py:478: UserWarning: Converting data to scipy sparse matrix.\n",
            "  warnings.warn('Converting data to scipy sparse matrix.')\n"
          ]
        },
        {
          "output_type": "stream",
          "name": "stdout",
          "text": [
            "0.6130267869439472\n",
            "Iteration No: 18 ended. Evaluation done at random point.\n",
            "Time taken: 0.9833\n",
            "Function value obtained: -0.2441\n",
            "Current minimum: -0.3677\n",
            "Iteration No: 19 started. Evaluating function at random point.\n",
            "\n",
            "[0.0699516121742407, 9, 10, 0.6477856515609233, 0.8594430701440198, 616, 1, 1]\n"
          ]
        },
        {
          "output_type": "stream",
          "name": "stderr",
          "text": [
            "/usr/local/lib/python3.7/dist-packages/lightgbm/basic.py:478: UserWarning: Converting data to scipy sparse matrix.\n",
            "  warnings.warn('Converting data to scipy sparse matrix.')\n"
          ]
        },
        {
          "output_type": "stream",
          "name": "stdout",
          "text": [
            "0.6091017077537528\n",
            "Iteration No: 19 ended. Evaluation done at random point.\n",
            "Time taken: 2.1616\n",
            "Function value obtained: -0.2685\n",
            "Current minimum: -0.3677\n",
            "Iteration No: 20 started. Evaluating function at random point.\n",
            "\n",
            "[0.0014752743467850462, 5, 4, 0.9747950537021096, 0.982207187458162, 909, 2, 4]\n"
          ]
        },
        {
          "output_type": "stream",
          "name": "stderr",
          "text": [
            "/usr/local/lib/python3.7/dist-packages/lightgbm/basic.py:478: UserWarning: Converting data to scipy sparse matrix.\n",
            "  warnings.warn('Converting data to scipy sparse matrix.')\n"
          ]
        },
        {
          "output_type": "stream",
          "name": "stdout",
          "text": [
            "0.6908827985126015\n",
            "Iteration No: 20 ended. Evaluation done at random point.\n",
            "Time taken: 3.2137\n",
            "Function value obtained: -0.3196\n",
            "Current minimum: -0.3677\n",
            "Iteration No: 21 started. Searching for the next optimal point.\n",
            "\n",
            "[0.03152013830463717, 6, 1, 0.4221972258604987, 0.7793028917043491, 261, 4, 1]\n"
          ]
        },
        {
          "output_type": "stream",
          "name": "stderr",
          "text": [
            "/usr/local/lib/python3.7/dist-packages/lightgbm/basic.py:478: UserWarning: Converting data to scipy sparse matrix.\n",
            "  warnings.warn('Converting data to scipy sparse matrix.')\n"
          ]
        },
        {
          "output_type": "stream",
          "name": "stdout",
          "text": [
            "0.6547823991185787\n",
            "Iteration No: 21 ended. Search finished for the next optimal point.\n",
            "Time taken: 1.6046\n",
            "Function value obtained: -0.3241\n",
            "Current minimum: -0.3677\n",
            "Iteration No: 22 started. Searching for the next optimal point.\n",
            "\n",
            "[0.047119432178093244, 4, 2, 0.06674456023919131, 0.20189457238965225, 285, 1, 1]\n"
          ]
        },
        {
          "output_type": "stream",
          "name": "stderr",
          "text": [
            "/usr/local/lib/python3.7/dist-packages/lightgbm/basic.py:478: UserWarning: Converting data to scipy sparse matrix.\n",
            "  warnings.warn('Converting data to scipy sparse matrix.')\n"
          ]
        },
        {
          "output_type": "stream",
          "name": "stdout",
          "text": [
            "0.6613758435477207\n",
            "Iteration No: 22 ended. Search finished for the next optimal point.\n",
            "Time taken: 0.8531\n",
            "Function value obtained: -0.3313\n",
            "Current minimum: -0.3677\n",
            "Iteration No: 23 started. Searching for the next optimal point.\n",
            "\n",
            "[0.004214110497482603, 3, 2, 0.7411545546413325, 0.10558371474852957, 237, 5, 1]\n"
          ]
        },
        {
          "output_type": "stream",
          "name": "stderr",
          "text": [
            "/usr/local/lib/python3.7/dist-packages/lightgbm/basic.py:478: UserWarning: Converting data to scipy sparse matrix.\n",
            "  warnings.warn('Converting data to scipy sparse matrix.')\n"
          ]
        },
        {
          "output_type": "stream",
          "name": "stdout",
          "text": [
            "0.7316141027406693\n",
            "Iteration No: 23 ended. Search finished for the next optimal point.\n",
            "Time taken: 0.6220\n",
            "Function value obtained: -0.3582\n",
            "Current minimum: -0.3677\n",
            "Iteration No: 24 started. Searching for the next optimal point.\n",
            "\n",
            "[0.0010802599797676807, 4, 1, 0.47429140454497676, 0.18376555914466497, 543, 4, 1]\n"
          ]
        },
        {
          "output_type": "stream",
          "name": "stderr",
          "text": [
            "/usr/local/lib/python3.7/dist-packages/lightgbm/basic.py:478: UserWarning: Converting data to scipy sparse matrix.\n",
            "  warnings.warn('Converting data to scipy sparse matrix.')\n"
          ]
        },
        {
          "output_type": "stream",
          "name": "stdout",
          "text": [
            "0.7153112518936786\n",
            "Iteration No: 24 ended. Search finished for the next optimal point.\n",
            "Time taken: 1.3787\n",
            "Function value obtained: -0.3556\n",
            "Current minimum: -0.3677\n",
            "Iteration No: 25 started. Searching for the next optimal point.\n",
            "\n",
            "[0.007377295047756928, 3, 1, 0.49169769784563405, 0.05486864729034782, 695, 4, 2]\n"
          ]
        },
        {
          "output_type": "stream",
          "name": "stderr",
          "text": [
            "/usr/local/lib/python3.7/dist-packages/lightgbm/basic.py:478: UserWarning: Converting data to scipy sparse matrix.\n",
            "  warnings.warn('Converting data to scipy sparse matrix.')\n"
          ]
        },
        {
          "output_type": "stream",
          "name": "stdout",
          "text": [
            "0.75509571684341\n",
            "Iteration No: 25 ended. Search finished for the next optimal point.\n",
            "Time taken: 1.1867\n",
            "Function value obtained: -0.3954\n",
            "Current minimum: -0.3954\n",
            "Iteration No: 26 started. Searching for the next optimal point.\n",
            "\n",
            "[0.07020599776190001, 2, 6, 0.4673415880886938, 0.06139259432599684, 962, 5, 2]\n"
          ]
        },
        {
          "output_type": "stream",
          "name": "stderr",
          "text": [
            "/usr/local/lib/python3.7/dist-packages/lightgbm/basic.py:478: UserWarning: Converting data to scipy sparse matrix.\n",
            "  warnings.warn('Converting data to scipy sparse matrix.')\n"
          ]
        },
        {
          "output_type": "stream",
          "name": "stdout",
          "text": [
            "0.7237209062112658\n",
            "Iteration No: 26 ended. Search finished for the next optimal point.\n",
            "Time taken: 1.1131\n",
            "Function value obtained: -0.3406\n",
            "Current minimum: -0.3954\n",
            "Iteration No: 27 started. Searching for the next optimal point.\n",
            "\n",
            "[0.003664747337610642, 3, 2, 0.2524791341639531, 0.05288605602607631, 705, 3, 2]\n"
          ]
        },
        {
          "output_type": "stream",
          "name": "stderr",
          "text": [
            "/usr/local/lib/python3.7/dist-packages/lightgbm/basic.py:478: UserWarning: Converting data to scipy sparse matrix.\n",
            "  warnings.warn('Converting data to scipy sparse matrix.')\n"
          ]
        },
        {
          "output_type": "stream",
          "name": "stdout",
          "text": [
            "0.7110246522517559\n",
            "Iteration No: 27 ended. Search finished for the next optimal point.\n",
            "Time taken: 1.1095\n",
            "Function value obtained: -0.3842\n",
            "Current minimum: -0.3954\n",
            "Iteration No: 28 started. Searching for the next optimal point.\n",
            "\n",
            "[0.001701571642852573, 4, 4, 0.15203995448330185, 0.06633424603398541, 130, 3, 2]\n"
          ]
        },
        {
          "output_type": "stream",
          "name": "stderr",
          "text": [
            "/usr/local/lib/python3.7/dist-packages/lightgbm/basic.py:478: UserWarning: Converting data to scipy sparse matrix.\n",
            "  warnings.warn('Converting data to scipy sparse matrix.')\n"
          ]
        },
        {
          "output_type": "stream",
          "name": "stdout",
          "text": [
            "0.6174683239223246\n",
            "Iteration No: 28 ended. Search finished for the next optimal point.\n",
            "Time taken: 0.5328\n",
            "Function value obtained: -0.3104\n",
            "Current minimum: -0.3954\n",
            "Iteration No: 29 started. Searching for the next optimal point.\n",
            "\n",
            "[0.006732012793982591, 3, 2, 0.9302027182012595, 0.11446482212394127, 842, 5, 5]\n"
          ]
        },
        {
          "output_type": "stream",
          "name": "stderr",
          "text": [
            "/usr/local/lib/python3.7/dist-packages/lightgbm/basic.py:478: UserWarning: Converting data to scipy sparse matrix.\n",
            "  warnings.warn('Converting data to scipy sparse matrix.')\n"
          ]
        },
        {
          "output_type": "stream",
          "name": "stdout",
          "text": [
            "0.7489412615342239\n",
            "Iteration No: 29 ended. Search finished for the next optimal point.\n",
            "Time taken: 1.3674\n",
            "Function value obtained: -0.3891\n",
            "Current minimum: -0.3954\n",
            "Iteration No: 30 started. Searching for the next optimal point.\n",
            "\n",
            "[0.0030548796010550685, 1, 2, 0.16444901604635442, 0.1394460547588698, 973, 5, 2]\n"
          ]
        },
        {
          "output_type": "stream",
          "name": "stderr",
          "text": [
            "/usr/local/lib/python3.7/dist-packages/lightgbm/basic.py:478: UserWarning: Converting data to scipy sparse matrix.\n",
            "  warnings.warn('Converting data to scipy sparse matrix.')\n"
          ]
        },
        {
          "output_type": "stream",
          "name": "stdout",
          "text": [
            "0.6558067070651425\n",
            "Iteration No: 30 ended. Search finished for the next optimal point.\n",
            "Time taken: 0.9990\n",
            "Function value obtained: -0.3325\n",
            "Current minimum: -0.3954\n",
            "Iteration No: 31 started. Searching for the next optimal point.\n",
            "\n",
            "[0.08449615639626112, 7, 2, 0.9978085862739342, 0.12528411834292968, 818, 3, 4]\n"
          ]
        },
        {
          "output_type": "stream",
          "name": "stderr",
          "text": [
            "/usr/local/lib/python3.7/dist-packages/lightgbm/basic.py:478: UserWarning: Converting data to scipy sparse matrix.\n",
            "  warnings.warn('Converting data to scipy sparse matrix.')\n"
          ]
        },
        {
          "output_type": "stream",
          "name": "stdout",
          "text": [
            "0.7151390992976173\n",
            "Iteration No: 31 ended. Search finished for the next optimal point.\n",
            "Time taken: 3.0735\n",
            "Function value obtained: -0.3886\n",
            "Current minimum: -0.3954\n",
            "Iteration No: 32 started. Searching for the next optimal point.\n",
            "\n",
            "[0.0047914253948709495, 9, 2, 0.5727127578461335, 0.07696303711083324, 871, 4, 3]\n"
          ]
        },
        {
          "output_type": "stream",
          "name": "stderr",
          "text": [
            "/usr/local/lib/python3.7/dist-packages/lightgbm/basic.py:478: UserWarning: Converting data to scipy sparse matrix.\n",
            "  warnings.warn('Converting data to scipy sparse matrix.')\n"
          ]
        },
        {
          "output_type": "stream",
          "name": "stdout",
          "text": [
            "0.7364171601707754\n",
            "Iteration No: 32 ended. Search finished for the next optimal point.\n",
            "Time taken: 4.4158\n",
            "Function value obtained: -0.3643\n",
            "Current minimum: -0.3954\n",
            "Iteration No: 33 started. Searching for the next optimal point.\n",
            "\n",
            "[0.05045523013775797, 5, 2, 0.21569506404018318, 0.05860144764773518, 905, 5, 4]\n"
          ]
        },
        {
          "output_type": "stream",
          "name": "stderr",
          "text": [
            "/usr/local/lib/python3.7/dist-packages/lightgbm/basic.py:478: UserWarning: Converting data to scipy sparse matrix.\n",
            "  warnings.warn('Converting data to scipy sparse matrix.')\n"
          ]
        },
        {
          "output_type": "stream",
          "name": "stdout",
          "text": [
            "0.6360521966671258\n",
            "Iteration No: 33 ended. Search finished for the next optimal point.\n",
            "Time taken: 1.9087\n",
            "Function value obtained: -0.2580\n",
            "Current minimum: -0.3954\n",
            "Iteration No: 34 started. Searching for the next optimal point.\n",
            "\n",
            "[0.05328144863481819, 5, 2, 0.5430817944183729, 0.13394616511822904, 727, 5, 5]\n"
          ]
        },
        {
          "output_type": "stream",
          "name": "stderr",
          "text": [
            "/usr/local/lib/python3.7/dist-packages/lightgbm/basic.py:478: UserWarning: Converting data to scipy sparse matrix.\n",
            "  warnings.warn('Converting data to scipy sparse matrix.')\n"
          ]
        },
        {
          "output_type": "stream",
          "name": "stdout",
          "text": [
            "0.6982164991048064\n",
            "Iteration No: 34 ended. Search finished for the next optimal point.\n",
            "Time taken: 1.9202\n",
            "Function value obtained: -0.3282\n",
            "Current minimum: -0.3954\n",
            "Iteration No: 35 started. Searching for the next optimal point.\n",
            "\n",
            "[0.005177047192178273, 7, 3, 0.8676245652823552, 0.06541064645088063, 686, 4, 3]\n"
          ]
        },
        {
          "output_type": "stream",
          "name": "stderr",
          "text": [
            "/usr/local/lib/python3.7/dist-packages/lightgbm/basic.py:478: UserWarning: Converting data to scipy sparse matrix.\n",
            "  warnings.warn('Converting data to scipy sparse matrix.')\n"
          ]
        },
        {
          "output_type": "stream",
          "name": "stdout",
          "text": [
            "0.7557498967084424\n",
            "Iteration No: 35 ended. Search finished for the next optimal point.\n",
            "Time taken: 2.4953\n",
            "Function value obtained: -0.3824\n",
            "Current minimum: -0.3954\n",
            "Iteration No: 36 started. Searching for the next optimal point.\n",
            "\n",
            "[0.04674909666222952, 6, 2, 0.9840854048613735, 0.06454340695948732, 886, 1, 4]\n"
          ]
        },
        {
          "output_type": "stream",
          "name": "stderr",
          "text": [
            "/usr/local/lib/python3.7/dist-packages/lightgbm/basic.py:478: UserWarning: Converting data to scipy sparse matrix.\n",
            "  warnings.warn('Converting data to scipy sparse matrix.')\n"
          ]
        },
        {
          "output_type": "stream",
          "name": "stdout",
          "text": [
            "0.7463159344442915\n",
            "Iteration No: 36 ended. Search finished for the next optimal point.\n",
            "Time taken: 3.1348\n",
            "Function value obtained: -0.3740\n",
            "Current minimum: -0.3954\n",
            "Iteration No: 37 started. Searching for the next optimal point.\n",
            "\n",
            "[0.004704522818621336, 6, 5, 0.9623638710458965, 0.0512745318716151, 507, 2, 2]\n"
          ]
        },
        {
          "output_type": "stream",
          "name": "stderr",
          "text": [
            "/usr/local/lib/python3.7/dist-packages/lightgbm/basic.py:478: UserWarning: Converting data to scipy sparse matrix.\n",
            "  warnings.warn('Converting data to scipy sparse matrix.')\n"
          ]
        },
        {
          "output_type": "stream",
          "name": "stdout",
          "text": [
            "0.7025891750447597\n",
            "Iteration No: 37 ended. Search finished for the next optimal point.\n",
            "Time taken: 1.3360\n",
            "Function value obtained: -0.3377\n",
            "Current minimum: -0.3954\n",
            "Iteration No: 38 started. Searching for the next optimal point.\n",
            "\n",
            "[0.005249549776374319, 4, 1, 0.9317030641833104, 0.29361684326916104, 793, 3, 5]\n"
          ]
        },
        {
          "output_type": "stream",
          "name": "stderr",
          "text": [
            "/usr/local/lib/python3.7/dist-packages/lightgbm/basic.py:478: UserWarning: Converting data to scipy sparse matrix.\n",
            "  warnings.warn('Converting data to scipy sparse matrix.')\n"
          ]
        },
        {
          "output_type": "stream",
          "name": "stdout",
          "text": [
            "0.7268196529403664\n",
            "Iteration No: 38 ended. Search finished for the next optimal point.\n",
            "Time taken: 2.1760\n",
            "Function value obtained: -0.3871\n",
            "Current minimum: -0.3954\n",
            "Iteration No: 39 started. Searching for the next optimal point.\n",
            "\n",
            "[0.02569084458270648, 7, 2, 0.9519113947216815, 0.5791787052901, 788, 3, 5]\n"
          ]
        },
        {
          "output_type": "stream",
          "name": "stderr",
          "text": [
            "/usr/local/lib/python3.7/dist-packages/lightgbm/basic.py:478: UserWarning: Converting data to scipy sparse matrix.\n",
            "  warnings.warn('Converting data to scipy sparse matrix.')\n"
          ]
        },
        {
          "output_type": "stream",
          "name": "stdout",
          "text": [
            "0.6967359867786808\n",
            "Iteration No: 39 ended. Search finished for the next optimal point.\n",
            "Time taken: 4.0850\n",
            "Function value obtained: -0.3780\n",
            "Current minimum: -0.3954\n",
            "Iteration No: 40 started. Searching for the next optimal point.\n",
            "\n",
            "[0.0012911854495640733, 9, 1, 0.9837241491626264, 0.9445502343710915, 609, 3, 5]\n"
          ]
        },
        {
          "output_type": "stream",
          "name": "stderr",
          "text": [
            "/usr/local/lib/python3.7/dist-packages/lightgbm/basic.py:478: UserWarning: Converting data to scipy sparse matrix.\n",
            "  warnings.warn('Converting data to scipy sparse matrix.')\n"
          ]
        },
        {
          "output_type": "stream",
          "name": "stdout",
          "text": [
            "0.6808204792728274\n",
            "Iteration No: 40 ended. Search finished for the next optimal point.\n",
            "Time taken: 12.3695\n",
            "Function value obtained: -0.2995\n",
            "Current minimum: -0.3954\n",
            "Iteration No: 41 started. Searching for the next optimal point.\n",
            "\n",
            "[0.004539393406877693, 10, 2, 0.9144817635539139, 0.5523204132979008, 767, 4, 5]\n"
          ]
        },
        {
          "output_type": "stream",
          "name": "stderr",
          "text": [
            "/usr/local/lib/python3.7/dist-packages/lightgbm/basic.py:478: UserWarning: Converting data to scipy sparse matrix.\n",
            "  warnings.warn('Converting data to scipy sparse matrix.')\n"
          ]
        },
        {
          "output_type": "stream",
          "name": "stdout",
          "text": [
            "0.6919673598677868\n",
            "Iteration No: 41 ended. Search finished for the next optimal point.\n",
            "Time taken: 8.0713\n",
            "Function value obtained: -0.3331\n",
            "Current minimum: -0.3954\n",
            "Iteration No: 42 started. Searching for the next optimal point.\n",
            "\n",
            "[0.024602197845830474, 9, 2, 0.8165308686948829, 0.19074841577741686, 912, 3, 4]\n"
          ]
        },
        {
          "output_type": "stream",
          "name": "stderr",
          "text": [
            "/usr/local/lib/python3.7/dist-packages/lightgbm/basic.py:478: UserWarning: Converting data to scipy sparse matrix.\n",
            "  warnings.warn('Converting data to scipy sparse matrix.')\n"
          ]
        },
        {
          "output_type": "stream",
          "name": "stdout",
          "text": [
            "0.7084423633108388\n",
            "Iteration No: 42 ended. Search finished for the next optimal point.\n",
            "Time taken: 5.5241\n",
            "Function value obtained: -0.3807\n",
            "Current minimum: -0.3954\n",
            "Iteration No: 43 started. Searching for the next optimal point.\n",
            "\n",
            "[0.008273523782211271, 3, 3, 0.9089932379567546, 0.3309526578346222, 830, 3, 4]\n"
          ]
        },
        {
          "output_type": "stream",
          "name": "stderr",
          "text": [
            "/usr/local/lib/python3.7/dist-packages/lightgbm/basic.py:478: UserWarning: Converting data to scipy sparse matrix.\n",
            "  warnings.warn('Converting data to scipy sparse matrix.')\n"
          ]
        },
        {
          "output_type": "stream",
          "name": "stdout",
          "text": [
            "0.7296515631455722\n",
            "Iteration No: 43 ended. Search finished for the next optimal point.\n",
            "Time taken: 1.5384\n",
            "Function value obtained: -0.3836\n",
            "Current minimum: -0.3954\n",
            "Iteration No: 44 started. Searching for the next optimal point.\n",
            "\n",
            "[0.001421126902319443, 4, 1, 0.9893955346036342, 0.06434177132521976, 829, 2, 5]\n"
          ]
        },
        {
          "output_type": "stream",
          "name": "stderr",
          "text": [
            "/usr/local/lib/python3.7/dist-packages/lightgbm/basic.py:478: UserWarning: Converting data to scipy sparse matrix.\n",
            "  warnings.warn('Converting data to scipy sparse matrix.')\n"
          ]
        },
        {
          "output_type": "stream",
          "name": "stdout",
          "text": [
            "0.7036393058807326\n",
            "Iteration No: 44 ended. Search finished for the next optimal point.\n",
            "Time taken: 2.2533\n",
            "Function value obtained: -0.3508\n",
            "Current minimum: -0.3954\n",
            "Iteration No: 45 started. Searching for the next optimal point.\n",
            "\n",
            "[0.00795900711726144, 7, 2, 0.3421780347946042, 0.05531683418477093, 906, 4, 3]\n"
          ]
        },
        {
          "output_type": "stream",
          "name": "stderr",
          "text": [
            "/usr/local/lib/python3.7/dist-packages/lightgbm/basic.py:478: UserWarning: Converting data to scipy sparse matrix.\n",
            "  warnings.warn('Converting data to scipy sparse matrix.')\n"
          ]
        },
        {
          "output_type": "stream",
          "name": "stdout",
          "text": [
            "0.7006438507092687\n",
            "Iteration No: 45 ended. Search finished for the next optimal point.\n",
            "Time taken: 2.9229\n",
            "Function value obtained: -0.3413\n",
            "Current minimum: -0.3954\n",
            "Iteration No: 46 started. Searching for the next optimal point.\n",
            "\n",
            "[0.007612427519179591, 10, 3, 0.8737089359671936, 0.4424295381760771, 959, 1, 3]\n"
          ]
        },
        {
          "output_type": "stream",
          "name": "stderr",
          "text": [
            "/usr/local/lib/python3.7/dist-packages/lightgbm/basic.py:478: UserWarning: Converting data to scipy sparse matrix.\n",
            "  warnings.warn('Converting data to scipy sparse matrix.')\n"
          ]
        },
        {
          "output_type": "stream",
          "name": "stdout",
          "text": [
            "0.73710577055502\n",
            "Iteration No: 46 ended. Search finished for the next optimal point.\n",
            "Time taken: 7.8589\n",
            "Function value obtained: -0.3956\n",
            "Current minimum: -0.3956\n",
            "Iteration No: 47 started. Searching for the next optimal point.\n",
            "\n",
            "[0.03171439248938654, 10, 3, 0.9667745937731136, 0.5632865952770973, 999, 4, 3]\n"
          ]
        },
        {
          "output_type": "stream",
          "name": "stderr",
          "text": [
            "/usr/local/lib/python3.7/dist-packages/lightgbm/basic.py:478: UserWarning: Converting data to scipy sparse matrix.\n",
            "  warnings.warn('Converting data to scipy sparse matrix.')\n"
          ]
        },
        {
          "output_type": "stream",
          "name": "stdout",
          "text": [
            "0.6983542211816554\n",
            "Iteration No: 47 ended. Search finished for the next optimal point.\n",
            "Time taken: 6.1582\n",
            "Function value obtained: -0.3592\n",
            "Current minimum: -0.3956\n",
            "Iteration No: 48 started. Searching for the next optimal point.\n",
            "\n",
            "[0.006104219490977528, 8, 8, 0.7982174441668295, 0.28687218688277105, 957, 2, 3]\n"
          ]
        },
        {
          "output_type": "stream",
          "name": "stderr",
          "text": [
            "/usr/local/lib/python3.7/dist-packages/lightgbm/basic.py:478: UserWarning: Converting data to scipy sparse matrix.\n",
            "  warnings.warn('Converting data to scipy sparse matrix.')\n"
          ]
        },
        {
          "output_type": "stream",
          "name": "stdout",
          "text": [
            "0.6534137859798925\n",
            "Iteration No: 48 ended. Search finished for the next optimal point.\n",
            "Time taken: 3.0493\n",
            "Function value obtained: -0.3158\n",
            "Current minimum: -0.3956\n",
            "Iteration No: 49 started. Searching for the next optimal point.\n",
            "\n",
            "[0.07974341276490998, 9, 3, 0.8521464932630498, 0.4092852922723077, 938, 2, 4]\n"
          ]
        },
        {
          "output_type": "stream",
          "name": "stderr",
          "text": [
            "/usr/local/lib/python3.7/dist-packages/lightgbm/basic.py:478: UserWarning: Converting data to scipy sparse matrix.\n",
            "  warnings.warn('Converting data to scipy sparse matrix.')\n"
          ]
        },
        {
          "output_type": "stream",
          "name": "stdout",
          "text": [
            "0.6336248450626636\n",
            "Iteration No: 49 ended. Search finished for the next optimal point.\n",
            "Time taken: 5.5509\n",
            "Function value obtained: -0.3196\n",
            "Current minimum: -0.3956\n",
            "Iteration No: 50 started. Searching for the next optimal point.\n",
            "\n",
            "[0.0038312172599829016, 1, 3, 0.8817398668214828, 0.3614886590513557, 865, 1, 3]\n"
          ]
        },
        {
          "output_type": "stream",
          "name": "stderr",
          "text": [
            "/usr/local/lib/python3.7/dist-packages/lightgbm/basic.py:478: UserWarning: Converting data to scipy sparse matrix.\n",
            "  warnings.warn('Converting data to scipy sparse matrix.')\n"
          ]
        },
        {
          "output_type": "stream",
          "name": "stdout",
          "text": [
            "0.7100089519349951\n",
            "Iteration No: 50 ended. Search finished for the next optimal point.\n",
            "Time taken: 0.9781\n",
            "Function value obtained: -0.3203\n",
            "Current minimum: -0.3956\n"
          ]
        }
      ],
      "source": [
        "# EXEC skopt.forest_minimize (Baysian Optimization)\n",
        "res = forest_minimize(tune_lgbm, # funçâo apra testar score que voce quer MINIMIZAR\n",
        "                      space,  # hyper-paremtros e seu range\n",
        "                      random_state=160745,\n",
        "                      n_random_starts=20, # testar 20 vezes\n",
        "                      n_calls=50, \n",
        "                      verbose=1)"
      ]
    },
    {
      "cell_type": "code",
      "execution_count": 130,
      "metadata": {
        "colab": {
          "base_uri": "https://localhost:8080/"
        },
        "id": "bq2rphmbKEU6",
        "outputId": "ebedf6f1-6733-4767-fb3c-c7e11ea95bf9"
      },
      "outputs": [
        {
          "output_type": "execute_result",
          "data": {
            "text/plain": [
              "[0.007612427519179591,\n",
              " 10,\n",
              " 3,\n",
              " 0.8737089359671936,\n",
              " 0.4424295381760771,\n",
              " 959,\n",
              " 1,\n",
              " 3]"
            ]
          },
          "metadata": {},
          "execution_count": 130
        }
      ],
      "source": [
        "# Melhores parametros encontrados pelo Baysian Optimizer\n",
        "res.x"
      ]
    },
    {
      "cell_type": "code",
      "execution_count": 131,
      "metadata": {
        "colab": {
          "base_uri": "https://localhost:8080/"
        },
        "id": "i2nC_zJiKEU6",
        "outputId": "187a0f3e-ed14-465b-a8fc-4afcd6e1a609"
      },
      "outputs": [
        {
          "output_type": "execute_result",
          "data": {
            "text/plain": [
              "{'avg_prec': 0.39562017392542825,\n",
              " 'params': [0.007612427519179591,\n",
              "  10,\n",
              "  3,\n",
              "  0.8737089359671936,\n",
              "  0.4424295381760771,\n",
              "  959,\n",
              "  1,\n",
              "  3],\n",
              " 'roc': 0.73710577055502}"
            ]
          },
          "metadata": {},
          "execution_count": 131
        }
      ],
      "source": [
        "# Além de mostra os parametros, mostra a precision e roc auc dos melhores paremetros\n",
        "sorted(results, key = lambda i: i['avg_prec'],reverse=True)[0]"
      ]
    },
    {
      "cell_type": "markdown",
      "source": [
        "## Criando Lgbm Final\n"
      ],
      "metadata": {
        "id": "XK02dmWjP0yo"
      }
    },
    {
      "cell_type": "code",
      "source": [
        "params = res.x\n",
        "\n",
        "lr = params[0]\n",
        "max_depth = params[1]\n",
        "min_child_samples = params[2]\n",
        "subsample = params[3]\n",
        "colsample_bytree = params[4]\n",
        "n_estimators = params[5]\n",
        "\n",
        "min_df = params[6]\n",
        "ngram_range = (1, params[7])\n",
        "\n",
        "title_vec = TfidfVectorizer(min_df=min_df, ngram_range=ngram_range)\n",
        "title_bow_train = title_vec.fit_transform(title_train)\n",
        "title_bow_val = title_vec.transform(title_val)\n",
        "\n",
        "Xtrain_wtitle = sparse.hstack([Xtrain, title_bow_train])\n",
        "Xval_wtitle = sparse.hstack([Xval, title_bow_val])\n",
        "\n",
        "mdl_lgbm = LGBMClassifier(learning_rate=lr, num_leaves=2 ** max_depth, max_depth=max_depth, \n",
        "                     min_child_samples=min_child_samples, subsample=subsample,\n",
        "                     colsample_bytree=colsample_bytree, bagging_freq=1,n_estimators=n_estimators, random_state=0, \n",
        "                     class_weight=\"balanced\", n_jobs=6)\n",
        "mdl_lgbm.fit(Xtrain_wtitle, ytrain)\n",
        "\n",
        "p_lgbm = mdl_lgbm.predict_proba(Xval_wtitle)[:, 1]"
      ],
      "metadata": {
        "colab": {
          "base_uri": "https://localhost:8080/"
        },
        "id": "uaLYXnWnP0Wg",
        "outputId": "f9ad9b24-e4e3-484e-d8e5-2301c93164b2"
      },
      "execution_count": 132,
      "outputs": [
        {
          "output_type": "stream",
          "name": "stderr",
          "text": [
            "/usr/local/lib/python3.7/dist-packages/lightgbm/basic.py:478: UserWarning: Converting data to scipy sparse matrix.\n",
            "  warnings.warn('Converting data to scipy sparse matrix.')\n"
          ]
        }
      ]
    },
    {
      "cell_type": "code",
      "source": [
        "# metrics.average_precision_score(yval, p), metrics.roc_auc_score(yval, p)\n",
        "print('LightGBM - Hyper-turning')\n",
        "print( \" avg_precision :: \" + str(metrics.average_precision_score(yval, p_lgbm)), '\\n' ,\n",
        "      \"roc_auc :: \" + str(metrics.roc_auc_score(yval, p_lgbm)) )\n",
        "# LightGBM - No Hyper-turning (2021 date)\n",
        "#  avg_precision :: 0.2795196325547043 \n",
        "#  roc_auc :: 0.6299493871367581\n",
        "# LightGBM - Hyper-turning\n",
        "#  avg_precision :: 0.3983091901493717 \n",
        "#  roc_auc :: 0.7396880594959372"
      ],
      "metadata": {
        "colab": {
          "base_uri": "https://localhost:8080/"
        },
        "id": "NmwK42wJakyW",
        "outputId": "25fcddbc-99d3-4611-9bc8-c1f29b66596a"
      },
      "execution_count": 133,
      "outputs": [
        {
          "output_type": "stream",
          "name": "stdout",
          "text": [
            "LightGBM - Hyper-turning\n",
            " avg_precision :: 0.3983091901493717 \n",
            " roc_auc :: 0.7396880594959372\n"
          ]
        }
      ]
    },
    {
      "cell_type": "markdown",
      "metadata": {
        "id": "IwXD1IU3KEU6"
      },
      "source": [
        "## Logistic Reg\n",
        "\n",
        "Vamos testar: Usando spo StandarScale e só MaxABsScaler. Par afazer isso, temos que comentar e descomentar os trehcos de código a seguir\n"
      ]
    },
    {
      "cell_type": "code",
      "execution_count": 134,
      "metadata": {
        "id": "HXYvmy4KKEU6"
      },
      "outputs": [],
      "source": [
        "from sklearn.preprocessing import MaxAbsScaler, StandardScaler"
      ]
    },
    {
      "cell_type": "code",
      "execution_count": 135,
      "metadata": {
        "colab": {
          "base_uri": "https://localhost:8080/"
        },
        "id": "bB7RU9SxKEU7",
        "outputId": "60f6c191-4c97-4102-abb0-2412c0b6c5d6"
      },
      "outputs": [
        {
          "output_type": "stream",
          "name": "stderr",
          "text": [
            "/usr/local/lib/python3.7/dist-packages/sklearn/utils/validation.py:590: FutureWarning: np.matrix usage is deprecated in 1.0 and will raise a TypeError in 1.2. Please convert to a numpy array with np.asarray. For more information see: https://numpy.org/doc/stable/reference/generated/numpy.matrix.html\n",
            "  FutureWarning,\n",
            "/usr/local/lib/python3.7/dist-packages/sklearn/utils/validation.py:590: FutureWarning: np.matrix usage is deprecated in 1.0 and will raise a TypeError in 1.2. Please convert to a numpy array with np.asarray. For more information see: https://numpy.org/doc/stable/reference/generated/numpy.matrix.html\n",
            "  FutureWarning,\n",
            "/usr/local/lib/python3.7/dist-packages/sklearn/utils/validation.py:590: FutureWarning: np.matrix usage is deprecated in 1.0 and will raise a TypeError in 1.2. Please convert to a numpy array with np.asarray. For more information see: https://numpy.org/doc/stable/reference/generated/numpy.matrix.html\n",
            "  FutureWarning,\n",
            "/usr/local/lib/python3.7/dist-packages/scipy/sparse/_index.py:126: SparseEfficiencyWarning: Changing the sparsity structure of a csr_matrix is expensive. lil_matrix is more efficient.\n",
            "  self._set_arrayXarray(i, j, x)\n"
          ]
        }
      ],
      "source": [
        "Xtrain_wtitle2 = sparse.csr_matrix(Xtrain_wtitle.copy())\n",
        "Xval_wtitle2 = sparse.csr_matrix(Xval_wtitle.copy())\n",
        "\n",
        "scaler = StandardScaler() ## Para variaveis numericas\n",
        "# scaler = MaxAbsScaler() ## Para variaveis sparsas (o array gigante de vocabulario)\n",
        "\n",
        "Xtrain_wtitle2[: , :2] = scaler.fit_transform(Xtrain_wtitle2[:, :2].todense())\n",
        "Xval_wtitle2[:, :2] = scaler.transform(Xval_wtitle2[:, :2].todense())\n",
        "\n",
        "# Xtrain_wtitle2 = scaler.fit_transform(Xtrain_wtitle2)\n",
        "# Xval_wtitle2 = scaler.transform(Xval_wtitle2)"
      ]
    },
    {
      "cell_type": "code",
      "execution_count": 136,
      "metadata": {
        "colab": {
          "base_uri": "https://localhost:8080/"
        },
        "id": "9zHjLxETKEU7",
        "outputId": "5808d28d-1ee1-4b78-ad87-887cea9de6d3"
      },
      "outputs": [
        {
          "output_type": "execute_result",
          "data": {
            "text/plain": [
              "(654, 12978)"
            ]
          },
          "metadata": {},
          "execution_count": 136
        }
      ],
      "source": [
        "Xval_wtitle2.shape"
      ]
    },
    {
      "cell_type": "code",
      "execution_count": 137,
      "metadata": {
        "colab": {
          "base_uri": "https://localhost:8080/"
        },
        "id": "btBojnIYKEU7",
        "outputId": "10ae0ec8-bee7-4ea3-da09-cda833ead120"
      },
      "outputs": [
        {
          "output_type": "execute_result",
          "data": {
            "text/plain": [
              "LogisticRegression(C=0.5, n_jobs=4, random_state=4)"
            ]
          },
          "metadata": {},
          "execution_count": 137
        }
      ],
      "source": [
        "lr_pipeline = LogisticRegression(C=0.5, n_jobs=4, random_state=4)\n",
        "lr_pipeline.fit(Xtrain_wtitle2, ytrain)"
      ]
    },
    {
      "cell_type": "code",
      "execution_count": 138,
      "metadata": {
        "id": "iN-JzUaLKEU8"
      },
      "outputs": [],
      "source": [
        "p_log = lr_pipeline.predict_proba(Xval_wtitle2)[:, 1]"
      ]
    },
    {
      "cell_type": "code",
      "execution_count": 140,
      "metadata": {
        "scrolled": true,
        "colab": {
          "base_uri": "https://localhost:8080/"
        },
        "id": "Q-EwR2EcKEU8",
        "outputId": "d76d0364-b0dd-4380-aabf-44853cc57939"
      },
      "outputs": [
        {
          "output_type": "execute_result",
          "data": {
            "text/plain": [
              "(0.40357650521454835, 0.8091172014873984)"
            ]
          },
          "metadata": {},
          "execution_count": 140
        }
      ],
      "source": [
        "metrics.average_precision_score(yval, p_log), metrics.roc_auc_score(yval, p_log)"
      ]
    },
    {
      "cell_type": "markdown",
      "source": [
        "## Create Real Log"
      ],
      "metadata": {
        "id": "PpBy2-EkQNPJ"
      }
    },
    {
      "cell_type": "code",
      "source": [
        "from scipy.sparse import csr_matrix\n",
        "from sklearn.pipeline import make_pipeline\n",
        "\n",
        "Xtrain_wtitle2 = csr_matrix(Xtrain_wtitle.copy())\n",
        "Xval_wtitle2 = csr_matrix(Xval_wtitle.copy())\n",
        "\n",
        "#scaler = StandardScaler()\n",
        "#scaler = MaxAbsScaler()\n",
        "\n",
        "#Xtrain_wtitle2[:, :2] = scaler.fit_transform(Xtrain_wtitle2[:, :2].todense())\n",
        "#Xval_wtitle2[:, :2] = scaler.transform(Xval_wtitle2[:, :2].todense())\n",
        "#Xtrain_wtitle2 = scaler.fit_transform(Xtrain_wtitle2)\n",
        "#Xval_wtitle2 = scaler.transform(Xval_wtitle2)\n",
        "\n",
        "lr_pipeline = make_pipeline(MaxAbsScaler(), LogisticRegression(C=0.5, penalty='l2',n_jobs=6, random_state=0))\n",
        "lr_pipeline.fit(Xtrain_wtitle2, ytrain)\n",
        "\n",
        "p_lr = lr_pipeline.predict_proba(Xval_wtitle2)[:, 1]"
      ],
      "metadata": {
        "id": "TWshd2O6QMz4"
      },
      "execution_count": 141,
      "outputs": []
    },
    {
      "cell_type": "code",
      "execution_count": 142,
      "metadata": {
        "id": "uARYiYWwKEU9"
      },
      "outputs": [],
      "source": [
        "# Rafael\n",
        "## (0.4147342546287094, 0.6589231411364855) - C=0.5 MaxAbScaler\n",
        "## (0.41578009994342235, 0.6897143879315486) -  C=0.5 StandardScaler"
      ]
    },
    {
      "cell_type": "code",
      "execution_count": 143,
      "metadata": {
        "id": "NGUa0IBHKEU-"
      },
      "outputs": [],
      "source": [
        "# Mario Filho\n",
        "# (0.4043414314912761, 0.6789338739490788) - sem tunning StandardScaler\n",
        "# (0.3988238048468208, 0.6462226462345716) - sem tunning MaxAbScaler\n",
        "# (0.33826219541849384, 0.6082881163913899) - C=10, MaxAbScaler\n",
        "# (0.41472090277819385, 0.6588873650945083) - C=0.5 MaxAbScaler"
      ]
    },
    {
      "cell_type": "markdown",
      "source": [
        "## Ensemble Models\n",
        "\n",
        "para o meu caso, a Logistc é melhor, pois ela é superiro em todos os casos."
      ],
      "metadata": {
        "id": "b4L1Tzf2NeEu"
      }
    },
    {
      "cell_type": "code",
      "source": [
        "print('Random Forest')\n",
        "print(average_precision_score(yval, p_rf), roc_auc_score(yval, p_rf))\n",
        "print('LigthGBM Tunned')\n",
        "print(average_precision_score(yval, p_lgbm), roc_auc_score(yval, p_lgbm))\n",
        "print('Logistic Regression')\n",
        "print(average_precision_score(yval, p_lr), roc_auc_score(yval, p_lr))"
      ],
      "metadata": {
        "colab": {
          "base_uri": "https://localhost:8080/"
        },
        "id": "hqolPyOBQwB3",
        "outputId": "ddb5be8d-6088-4c6d-9ce6-06aa62952cc1"
      },
      "execution_count": 144,
      "outputs": [
        {
          "output_type": "stream",
          "name": "stdout",
          "text": [
            "Random Forest\n",
            "0.3695448177133478 0.7520141853739153\n",
            "LigthGBM Tunned\n",
            "0.3983091901493717 0.7396880594959372\n",
            "Logistic Regression\n",
            "0.3957776583957542 0.7869267318551165\n"
          ]
        }
      ]
    },
    {
      "cell_type": "code",
      "source": [
        "# juntando os 3\n",
        "p = (p_lr + p_rf + p_lgbm)/3\n",
        "average_precision_score(yval, p), roc_auc_score(yval, p)"
      ],
      "metadata": {
        "colab": {
          "base_uri": "https://localhost:8080/"
        },
        "id": "xRs9MXCCQfrB",
        "outputId": "d31f4550-6a05-4bf8-808f-3eb64ceec2d8"
      },
      "execution_count": 145,
      "outputs": [
        {
          "output_type": "execute_result",
          "data": {
            "text/plain": [
              "(0.40515471284557225, 0.7883900289216362)"
            ]
          },
          "metadata": {},
          "execution_count": 145
        }
      ]
    },
    {
      "cell_type": "code",
      "source": [
        "pd.DataFrame({\"LR\": p_lr, \"RF\": p_rf, \"LGBM\": p_lgbm}).corr()"
      ],
      "metadata": {
        "colab": {
          "base_uri": "https://localhost:8080/",
          "height": 143
        },
        "id": "3BHJCi2sN-_B",
        "outputId": "d1f89442-576d-430b-8ddf-fddb28417e18"
      },
      "execution_count": 146,
      "outputs": [
        {
          "output_type": "execute_result",
          "data": {
            "text/html": [
              "\n",
              "  <div id=\"df-d808c22b-1f30-4243-b54a-7a25e6ce0604\">\n",
              "    <div class=\"colab-df-container\">\n",
              "      <div>\n",
              "<style scoped>\n",
              "    .dataframe tbody tr th:only-of-type {\n",
              "        vertical-align: middle;\n",
              "    }\n",
              "\n",
              "    .dataframe tbody tr th {\n",
              "        vertical-align: top;\n",
              "    }\n",
              "\n",
              "    .dataframe thead th {\n",
              "        text-align: right;\n",
              "    }\n",
              "</style>\n",
              "<table border=\"1\" class=\"dataframe\">\n",
              "  <thead>\n",
              "    <tr style=\"text-align: right;\">\n",
              "      <th></th>\n",
              "      <th>LR</th>\n",
              "      <th>RF</th>\n",
              "      <th>LGBM</th>\n",
              "    </tr>\n",
              "  </thead>\n",
              "  <tbody>\n",
              "    <tr>\n",
              "      <th>LR</th>\n",
              "      <td>1.000000</td>\n",
              "      <td>0.783729</td>\n",
              "      <td>0.602842</td>\n",
              "    </tr>\n",
              "    <tr>\n",
              "      <th>RF</th>\n",
              "      <td>0.783729</td>\n",
              "      <td>1.000000</td>\n",
              "      <td>0.711163</td>\n",
              "    </tr>\n",
              "    <tr>\n",
              "      <th>LGBM</th>\n",
              "      <td>0.602842</td>\n",
              "      <td>0.711163</td>\n",
              "      <td>1.000000</td>\n",
              "    </tr>\n",
              "  </tbody>\n",
              "</table>\n",
              "</div>\n",
              "      <button class=\"colab-df-convert\" onclick=\"convertToInteractive('df-d808c22b-1f30-4243-b54a-7a25e6ce0604')\"\n",
              "              title=\"Convert this dataframe to an interactive table.\"\n",
              "              style=\"display:none;\">\n",
              "        \n",
              "  <svg xmlns=\"http://www.w3.org/2000/svg\" height=\"24px\"viewBox=\"0 0 24 24\"\n",
              "       width=\"24px\">\n",
              "    <path d=\"M0 0h24v24H0V0z\" fill=\"none\"/>\n",
              "    <path d=\"M18.56 5.44l.94 2.06.94-2.06 2.06-.94-2.06-.94-.94-2.06-.94 2.06-2.06.94zm-11 1L8.5 8.5l.94-2.06 2.06-.94-2.06-.94L8.5 2.5l-.94 2.06-2.06.94zm10 10l.94 2.06.94-2.06 2.06-.94-2.06-.94-.94-2.06-.94 2.06-2.06.94z\"/><path d=\"M17.41 7.96l-1.37-1.37c-.4-.4-.92-.59-1.43-.59-.52 0-1.04.2-1.43.59L10.3 9.45l-7.72 7.72c-.78.78-.78 2.05 0 2.83L4 21.41c.39.39.9.59 1.41.59.51 0 1.02-.2 1.41-.59l7.78-7.78 2.81-2.81c.8-.78.8-2.07 0-2.86zM5.41 20L4 18.59l7.72-7.72 1.47 1.35L5.41 20z\"/>\n",
              "  </svg>\n",
              "      </button>\n",
              "      \n",
              "  <style>\n",
              "    .colab-df-container {\n",
              "      display:flex;\n",
              "      flex-wrap:wrap;\n",
              "      gap: 12px;\n",
              "    }\n",
              "\n",
              "    .colab-df-convert {\n",
              "      background-color: #E8F0FE;\n",
              "      border: none;\n",
              "      border-radius: 50%;\n",
              "      cursor: pointer;\n",
              "      display: none;\n",
              "      fill: #1967D2;\n",
              "      height: 32px;\n",
              "      padding: 0 0 0 0;\n",
              "      width: 32px;\n",
              "    }\n",
              "\n",
              "    .colab-df-convert:hover {\n",
              "      background-color: #E2EBFA;\n",
              "      box-shadow: 0px 1px 2px rgba(60, 64, 67, 0.3), 0px 1px 3px 1px rgba(60, 64, 67, 0.15);\n",
              "      fill: #174EA6;\n",
              "    }\n",
              "\n",
              "    [theme=dark] .colab-df-convert {\n",
              "      background-color: #3B4455;\n",
              "      fill: #D2E3FC;\n",
              "    }\n",
              "\n",
              "    [theme=dark] .colab-df-convert:hover {\n",
              "      background-color: #434B5C;\n",
              "      box-shadow: 0px 1px 3px 1px rgba(0, 0, 0, 0.15);\n",
              "      filter: drop-shadow(0px 1px 2px rgba(0, 0, 0, 0.3));\n",
              "      fill: #FFFFFF;\n",
              "    }\n",
              "  </style>\n",
              "\n",
              "      <script>\n",
              "        const buttonEl =\n",
              "          document.querySelector('#df-d808c22b-1f30-4243-b54a-7a25e6ce0604 button.colab-df-convert');\n",
              "        buttonEl.style.display =\n",
              "          google.colab.kernel.accessAllowed ? 'block' : 'none';\n",
              "\n",
              "        async function convertToInteractive(key) {\n",
              "          const element = document.querySelector('#df-d808c22b-1f30-4243-b54a-7a25e6ce0604');\n",
              "          const dataTable =\n",
              "            await google.colab.kernel.invokeFunction('convertToInteractive',\n",
              "                                                     [key], {});\n",
              "          if (!dataTable) return;\n",
              "\n",
              "          const docLinkHtml = 'Like what you see? Visit the ' +\n",
              "            '<a target=\"_blank\" href=https://colab.research.google.com/notebooks/data_table.ipynb>data table notebook</a>'\n",
              "            + ' to learn more about interactive tables.';\n",
              "          element.innerHTML = '';\n",
              "          dataTable['output_type'] = 'display_data';\n",
              "          await google.colab.output.renderOutput(dataTable, element);\n",
              "          const docLink = document.createElement('div');\n",
              "          docLink.innerHTML = docLinkHtml;\n",
              "          element.appendChild(docLink);\n",
              "        }\n",
              "      </script>\n",
              "    </div>\n",
              "  </div>\n",
              "  "
            ],
            "text/plain": [
              "            LR        RF      LGBM\n",
              "LR    1.000000  0.783729  0.602842\n",
              "RF    0.783729  1.000000  0.711163\n",
              "LGBM  0.602842  0.711163  1.000000"
            ]
          },
          "metadata": {},
          "execution_count": 146
        }
      ]
    },
    {
      "cell_type": "code",
      "source": [
        "# Tentao apenas 2 deles\n",
        "p = 0.2*p_lgbm + 0.7*p_lr + 0.1*p_rf\n",
        "average_precision_score(yval, p), roc_auc_score(yval, p)\n",
        "# (0.40404891155593625, 0.7969287976862691)  0.1*p_lgbm + 0.8*p_lr + 0.1*p_rf\n",
        "# (0.4122681643026302, 0.7992700729927007)   p = 0.2*p_lgbm + 0.6*p_lr + 0.2*p_rf"
      ],
      "metadata": {
        "colab": {
          "base_uri": "https://localhost:8080/"
        },
        "id": "m3_Ir1dNNABy",
        "outputId": "11b52451-867c-4fc0-a7a7-fc55fb64e3e4"
      },
      "execution_count": 154,
      "outputs": [
        {
          "output_type": "execute_result",
          "data": {
            "text/plain": [
              "(0.4115915271116025, 0.7996315934444291)"
            ]
          },
          "metadata": {},
          "execution_count": 154
        }
      ]
    },
    {
      "cell_type": "markdown",
      "source": [
        "## Results"
      ],
      "metadata": {
        "id": "fSkLAUItSvz0"
      }
    },
    {
      "cell_type": "code",
      "source": [
        "import itertools\n",
        "\n",
        "# Create a confusion matrix\n",
        "def plot_confusion_matrix(cm, classes, normalize=False, title='Confusion matrix', cmap=plt.cm.Blues):\n",
        "    \"\"\"\n",
        "    This function prints and plots the confusion matrix.\n",
        "    Normalization can be applied by setting `normalize=True`.\n",
        "    \"\"\"\n",
        "    if normalize:\n",
        "        cm = cm.astype('float') / cm.sum(axis=1)[:, np.newaxis]\n",
        "        print(\"Normalized confusion matrix\")\n",
        "    else:\n",
        "        print('Confusion matrix, without normalization')\n",
        "\n",
        "    print(cm)\n",
        "\n",
        "    plt.imshow(cm, interpolation='nearest', cmap=cmap)\n",
        "    plt.title(title, fontsize=14)\n",
        "    plt.colorbar()\n",
        "    tick_marks = np.arange(len(classes))\n",
        "    plt.xticks(tick_marks, classes, rotation=45)\n",
        "    plt.yticks(tick_marks, classes)\n",
        "\n",
        "    fmt = '.2f' if normalize else 'd'\n",
        "    thresh = cm.max() / 2.\n",
        "    for i, j in itertools.product(range(cm.shape[0]), range(cm.shape[1])):\n",
        "        plt.text(j, i, format(cm[i, j], fmt),\n",
        "                 horizontalalignment=\"center\",\n",
        "                 color=\"white\" if cm[i, j] > thresh else \"black\")\n",
        "\n",
        "    plt.tight_layout()\n",
        "    plt.ylabel('True label')\n",
        "    plt.xlabel('Predicted label')\n",
        "    # put target_names\n",
        "    #  print(classification_report(y_test,y_pred, target_names=['Not Purchased', 'Purchased']))\n",
        "    \n",
        " "
      ],
      "metadata": {
        "id": "GSjPoOD4NUlC"
      },
      "execution_count": 99,
      "outputs": []
    },
    {
      "cell_type": "code",
      "source": [
        "from sklearn.metrics import confusion_matrix\n",
        "\n",
        "y_pred = lr_pipeline.predict(Xval_wtitle2)\n",
        "y_pred\n",
        "\n",
        "labels = ['Not Interresting', 'Interresting']\n",
        "\n",
        "confusion_mtx = confusion_matrix(yval, y_pred)\n",
        "\n",
        "fig = plt.figure(figsize=(16,8))\n",
        "\n",
        "fig.add_subplot(221)\n",
        "plot_confusion_matrix(confusion_mtx, labels, title=\"Random UnderSample \\n Confusion Matrix\")"
      ],
      "metadata": {
        "colab": {
          "base_uri": "https://localhost:8080/",
          "height": 420
        },
        "id": "Jw4ruUKOSzcX",
        "outputId": "dc56a9a9-12b8-489b-c707-12cf440df1a0"
      },
      "execution_count": 155,
      "outputs": [
        {
          "output_type": "stream",
          "name": "stdout",
          "text": [
            "Confusion matrix, without normalization\n",
            "[[529  19]\n",
            " [ 89  17]]\n"
          ]
        },
        {
          "output_type": "display_data",
          "data": {
            "image/png": "[encoded data removed]",
            "text/plain": [
              "<Figure size 1152x576 with 2 Axes>"
            ]
          },
          "metadata": {
            "needs_background": "light"
          }
        }
      ]
    },
    {
      "cell_type": "code",
      "source": [
        "from sklearn.metrics import classification_report\n",
        "\n",
        "print('Logistic Regression:')\n",
        "print(classification_report(yval, y_pred))"
      ],
      "metadata": {
        "colab": {
          "base_uri": "https://localhost:8080/"
        },
        "id": "AhDYVpB0TvHW",
        "outputId": "1d7a5d24-23f8-4305-eb10-90554f2a0a5b"
      },
      "execution_count": 156,
      "outputs": [
        {
          "output_type": "stream",
          "name": "stdout",
          "text": [
            "Logistic Regression:\n",
            "              precision    recall  f1-score   support\n",
            "\n",
            "         0.0       0.86      0.97      0.91       548\n",
            "         1.0       0.47      0.16      0.24       106\n",
            "\n",
            "    accuracy                           0.83       654\n",
            "   macro avg       0.66      0.56      0.57       654\n",
            "weighted avg       0.79      0.83      0.80       654\n",
            "\n"
          ]
        }
      ]
    },
    {
      "cell_type": "markdown",
      "source": [
        "# Abordagen\n",
        "\n",
        "default primeiraria (datas normais)\n",
        "+ logisc regression:\n",
        "  - average_precision_score(yval, p), roc_auc_score(yval,p)\n",
        "      - 0.35192497202088263 0.733467336683417\n",
        "\n",
        "````\n",
        "       precision    recall  f1-score   support\n",
        "\n",
        "         0.0       0.82      0.99      0.90       900\n",
        "         1.0       0.53      0.04      0.07       199\n",
        "\n",
        "    accuracy                           0.82      1099\n",
        "   macro avg       0.68      0.52      0.49      1099\n",
        "weighted avg       0.77      0.82      0.75      1099\n",
        "````\n",
        "\n",
        "\n",
        "2 Aborgagem: mudar a data para 2021\n",
        " - melhorou os resultados\n",
        " - a logistic sozinha foi para Logistic Regression\n",
        "0.3957776583957542 0.7869267318551165\n",
        "````\n",
        "Logistic Regression:\n",
        "              precision    recall  f1-score   support\n",
        "\n",
        "         0.0       0.86      0.97      0.91       548\n",
        "         1.0       0.47      0.16      0.24       106\n",
        "\n",
        "    accuracy                           0.83       654\n",
        "   macro avg       0.66      0.56      0.57       654\n",
        "weighted avg       0.79      0.83      0.80       654\n",
        "````"
      ],
      "metadata": {
        "id": "rGQcpMnkX-Kr"
      }
    },
    {
      "cell_type": "code",
      "source": [
        "import joblib as jb\n",
        "\n",
        "# jb.dump(mdl_lgbm, \"lgbm_2021-12-11.pkl.z\")\n",
        "jb.dump(lr_pipeline, \"logistic_reg_2021-12-23.pkl.z\")\n",
        "#jb.dump(lr_pipeline, \"logistic_reg_20200208.pkl.z\")\n",
        "jb.dump(title_vec, \"title_vectorizer_2021-12-23.pkl.z\")"
      ],
      "metadata": {
        "colab": {
          "base_uri": "https://localhost:8080/"
        },
        "id": "7fYMVGPBiG7Y",
        "outputId": "d069ef33-f17f-4d73-e4c2-c7e55a0ec80a"
      },
      "execution_count": 168,
      "outputs": [
        {
          "output_type": "execute_result",
          "data": {
            "text/plain": [
              "['title_vectorizer_2021-12-23.pkl.z']"
            ]
          },
          "metadata": {},
          "execution_count": 168
        }
      ]
    },
    {
      "cell_type": "markdown",
      "source": [
        "## Test Keras DeepLarning\n",
        "\n",
        "https://towardsdatascience.com/pretrained-word-embeddings-using-spacy-and-keras-textvectorization-ef75ecd56360"
      ],
      "metadata": {
        "id": "PygvcWckeIpX"
      }
    },
    {
      "cell_type": "code",
      "source": [
        ""
      ],
      "metadata": {
        "id": "Ayk15scniEZ_"
      },
      "execution_count": null,
      "outputs": []
    },
    {
      "cell_type": "code",
      "source": [
        "Xval_wtitle2.shape"
      ],
      "metadata": {
        "colab": {
          "base_uri": "https://localhost:8080/"
        },
        "id": "jpTjJ9E0eQH_",
        "outputId": "353af100-e748-4313-d7c3-cad42878e20a"
      },
      "execution_count": 159,
      "outputs": [
        {
          "output_type": "execute_result",
          "data": {
            "text/plain": [
              "(654, 12978)"
            ]
          },
          "metadata": {},
          "execution_count": 159
        }
      ]
    },
    {
      "cell_type": "code",
      "source": [
        "import keras\n",
        "from keras import backend as K\n",
        "from keras.models import Sequential\n",
        "from keras.layers import Activation\n",
        "from keras.layers.core import Dense\n",
        "# from keras.optimizers import Adam\n",
        "# from tensorflow.keras.optimizers import Adam\n",
        "from keras.optimizers import adam_v2\n",
        "from keras.metrics import categorical_crossentropy\n",
        "\n",
        "# Tamanho da camada de entrada\n",
        "n_inputs = 12978\n",
        "\n",
        "# Criação da rede\n",
        "keras_model = Sequential([\n",
        "    Dense(n_inputs, input_shape=(n_inputs, ), activation='relu'),\n",
        "    Dense(4096, activation='relu'),\n",
        "    Dense(1024, activation='relu'),\n",
        "    Dense(32, activation='relu'),\n",
        "    Dense(2, activation='softmax')\n",
        "])"
      ],
      "metadata": {
        "id": "25-TVRAPYfRe"
      },
      "execution_count": 165,
      "outputs": []
    },
    {
      "cell_type": "code",
      "source": [
        "keras_model.compile(adam_v2.Adam(lr=0.001),\n",
        "  loss='sparse_categorical_crossentropy', metrics=['accuracy'])\n",
        "\n",
        "# Xtrain, Xval = features[mask_train], features[mask_val]\n",
        "# ytrain, yval = y[mask_train], y[mask_val]\n",
        "####\n",
        "# Xtrain_wtitle2 = sparse.csr_matrix(Xtrain_wtitle.copy())\n",
        "# Xval_wtitle2 = sparse.csr_matrix(Xval_wtitle.copy())\n",
        "\n",
        "# train: Xtrain_wtitle2 | Xtrain_wtitle | Xtrain | ytrain\n",
        "# test : Xval_wtitle2 | Xval_wtitle | Xval | yval\n",
        "\n",
        "keras_model.fit(\n",
        "    Xtrain_wtitle2, ytrain, validation_split=0.2,\n",
        "     batch_size=300, epochs=20, shuffle=True, verbose=0)\n",
        "\n",
        "# Show Result\n",
        "\n",
        "predictions = keras_model.predict_classes(\n",
        "    Xval_wtitle2, batch_size=200, verbose=0)\n",
        "\n",
        "print(\"Neural Net KERAS with SMOTETomek:\\n\")\n",
        "print(classification_report(yval, predictions,\n",
        "                            target_names=['No', 'Yes']))"
      ],
      "metadata": {
        "colab": {
          "base_uri": "https://localhost:8080/",
          "height": 487
        },
        "id": "QV2yhNZRe5ln",
        "outputId": "4560a6f8-f417-49cb-ee70-7cdd75ee078d"
      },
      "execution_count": 167,
      "outputs": [
        {
          "output_type": "stream",
          "name": "stderr",
          "text": [
            "/usr/local/lib/python3.7/dist-packages/keras/optimizer_v2/adam.py:105: UserWarning: The `lr` argument is deprecated, use `learning_rate` instead.\n",
            "  super(Adam, self).__init__(name, **kwargs)\n"
          ]
        },
        {
          "output_type": "error",
          "ename": "ValueError",
          "evalue": "ignored",
          "traceback": [
            "\u001b[0;31m---------------------------------------------------------------------------\u001b[0m",
            "\u001b[0;31mValueError\u001b[0m                                Traceback (most recent call last)",
            "\u001b[0;32m<ipython-input-167-e561a0e42846>\u001b[0m in \u001b[0;36m<module>\u001b[0;34m()\u001b[0m\n\u001b[1;32m     13\u001b[0m keras_model.fit(\n\u001b[1;32m     14\u001b[0m     \u001b[0mXtrain_wtitle2\u001b[0m\u001b[0;34m,\u001b[0m \u001b[0mytrain\u001b[0m\u001b[0;34m,\u001b[0m \u001b[0mvalidation_split\u001b[0m\u001b[0;34m=\u001b[0m\u001b[0;36m0.2\u001b[0m\u001b[0;34m,\u001b[0m\u001b[0;34m\u001b[0m\u001b[0;34m\u001b[0m\u001b[0m\n\u001b[0;32m---> 15\u001b[0;31m      batch_size=300, epochs=20, shuffle=True, verbose=0)\n\u001b[0m\u001b[1;32m     16\u001b[0m \u001b[0;34m\u001b[0m\u001b[0m\n\u001b[1;32m     17\u001b[0m \u001b[0;31m# Show Result\u001b[0m\u001b[0;34m\u001b[0m\u001b[0;34m\u001b[0m\u001b[0;34m\u001b[0m\u001b[0m\n",
            "\u001b[0;32m/usr/local/lib/python3.7/dist-packages/keras/utils/traceback_utils.py\u001b[0m in \u001b[0;36merror_handler\u001b[0;34m(*args, **kwargs)\u001b[0m\n\u001b[1;32m     65\u001b[0m     \u001b[0;32mexcept\u001b[0m \u001b[0mException\u001b[0m \u001b[0;32mas\u001b[0m \u001b[0me\u001b[0m\u001b[0;34m:\u001b[0m  \u001b[0;31m# pylint: disable=broad-except\u001b[0m\u001b[0;34m\u001b[0m\u001b[0;34m\u001b[0m\u001b[0m\n\u001b[1;32m     66\u001b[0m       \u001b[0mfiltered_tb\u001b[0m \u001b[0;34m=\u001b[0m \u001b[0m_process_traceback_frames\u001b[0m\u001b[0;34m(\u001b[0m\u001b[0me\u001b[0m\u001b[0;34m.\u001b[0m\u001b[0m__traceback__\u001b[0m\u001b[0;34m)\u001b[0m\u001b[0;34m\u001b[0m\u001b[0;34m\u001b[0m\u001b[0m\n\u001b[0;32m---> 67\u001b[0;31m       \u001b[0;32mraise\u001b[0m \u001b[0me\u001b[0m\u001b[0;34m.\u001b[0m\u001b[0mwith_traceback\u001b[0m\u001b[0;34m(\u001b[0m\u001b[0mfiltered_tb\u001b[0m\u001b[0;34m)\u001b[0m \u001b[0;32mfrom\u001b[0m \u001b[0;32mNone\u001b[0m\u001b[0;34m\u001b[0m\u001b[0;34m\u001b[0m\u001b[0m\n\u001b[0m\u001b[1;32m     68\u001b[0m     \u001b[0;32mfinally\u001b[0m\u001b[0;34m:\u001b[0m\u001b[0;34m\u001b[0m\u001b[0;34m\u001b[0m\u001b[0m\n\u001b[1;32m     69\u001b[0m       \u001b[0;32mdel\u001b[0m \u001b[0mfiltered_tb\u001b[0m\u001b[0;34m\u001b[0m\u001b[0;34m\u001b[0m\u001b[0m\n",
            "\u001b[0;32m/usr/local/lib/python3.7/dist-packages/keras/engine/data_adapter.py\u001b[0m in \u001b[0;36mtrain_validation_split\u001b[0;34m(arrays, validation_split)\u001b[0m\n\u001b[1;32m   1482\u001b[0m     raise ValueError(\n\u001b[1;32m   1483\u001b[0m         \u001b[0;34m\"`validation_split` is only supported for Tensors or NumPy \"\u001b[0m\u001b[0;34m\u001b[0m\u001b[0;34m\u001b[0m\u001b[0m\n\u001b[0;32m-> 1484\u001b[0;31m         \"arrays, found following types in the input: {}\".format(unsplitable))\n\u001b[0m\u001b[1;32m   1485\u001b[0m \u001b[0;34m\u001b[0m\u001b[0m\n\u001b[1;32m   1486\u001b[0m   \u001b[0;32mif\u001b[0m \u001b[0mall\u001b[0m\u001b[0;34m(\u001b[0m\u001b[0mt\u001b[0m \u001b[0;32mis\u001b[0m \u001b[0;32mNone\u001b[0m \u001b[0;32mfor\u001b[0m \u001b[0mt\u001b[0m \u001b[0;32min\u001b[0m \u001b[0mflat_arrays\u001b[0m\u001b[0;34m)\u001b[0m\u001b[0;34m:\u001b[0m\u001b[0;34m\u001b[0m\u001b[0;34m\u001b[0m\u001b[0m\n",
            "\u001b[0;31mValueError\u001b[0m: `validation_split` is only supported for Tensors or NumPy arrays, found following types in the input: [<class 'scipy.sparse.csr.csr_matrix'>]"
          ]
        }
      ]
    },
    {
      "cell_type": "code",
      "source": [
        ""
      ],
      "metadata": {
        "id": "B7hsYQsGg0En"
      },
      "execution_count": null,
      "outputs": []
    }
  ],
  "metadata": {
    "kernelspec": {
      "display_name": "Python 3",
      "language": "python",
      "name": "python3"
    },
    "language_info": {
      "codemirror_mode": {
        "name": "ipython",
        "version": 3
      },
      "file_extension": ".py",
      "mimetype": "text/x-python",
      "name": "python",
      "nbconvert_exporter": "python",
      "pygments_lexer": "ipython3",
      "version": "3.8.5"
    },
    "toc": {
      "base_numbering": 1,
      "nav_menu": {},
      "number_sections": true,
      "sideBar": true,
      "skip_h1_title": false,
      "title_cell": "Table of Contents",
      "title_sidebar": "Contents",
      "toc_cell": false,
      "toc_position": {},
      "toc_section_display": true,
      "toc_window_display": false
    },
    "colab": {
      "name": "04-create-some-ml-models-new.ipynb",
      "provenance": []
    }
  },
  "nbformat": 4,
  "nbformat_minor": 0
}