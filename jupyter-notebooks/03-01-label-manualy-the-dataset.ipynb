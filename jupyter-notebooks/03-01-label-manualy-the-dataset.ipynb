{
 "cells": [
  {
   "cell_type": "markdown",
   "metadata": {},
   "source": [
    "# Label the Dataset\n",
    "\n",
    "Falta o eixo Y agora. **Como fazer**\n",
    "\n",
    "Termoes que fazer manualmente, ou seja:\n",
    "\n",
    "**ABRIR O CSV NO GOOGLE SHEET, CRIAR UMA COLUNA Y E COLOCAR 0 OU 1 PARA ESSA COLUNA DE ACORDO COM OS DADOS ( NO CASO, SÓ O TÍTULO E DURAÇÂO COMO CRITÉRIOS)\n",
    "\n",
    "Uma outra forma é cria rum programa pra por essa label,para passar cada registroe ter uma UI para agilizar isso.\n",
    "\n",
    "Enfim, ele só fez para 500 registro sendoque são quase 2000. **PORQUE?**"
   ]
  },
  {
   "cell_type": "markdown",
   "metadata": {},
   "source": [
    "## Active Learning\n",
    "\n",
    "Treinamos 500 apra usarmos o Active Learnign para por as labels no restante"
   ]
  },
  {
   "cell_type": "code",
   "execution_count": null,
   "metadata": {},
   "outputs": [],
   "source": [
    "# VAMOS USAR UM ARQUIVO JÁ PRONTO COM A LABEL ŔA NAO PRECISAR FAZER ISOS MANUALEMNTE"
   ]
  }
 ],
 "metadata": {
  "kernelspec": {
   "display_name": "Python 3",
   "language": "python",
   "name": "python3"
  },
  "language_info": {
   "codemirror_mode": {
    "name": "ipython",
    "version": 3
   },
   "file_extension": ".py",
   "mimetype": "text/x-python",
   "name": "python",
   "nbconvert_exporter": "python",
   "pygments_lexer": "ipython3",
   "version": "3.8.5"
  },
  "toc": {
   "base_numbering": 1,
   "nav_menu": {},
   "number_sections": true,
   "sideBar": true,
   "skip_h1_title": false,
   "title_cell": "Table of Contents",
   "title_sidebar": "Contents",
   "toc_cell": false,
   "toc_position": {},
   "toc_section_display": true,
   "toc_window_display": false
  }
 },
 "nbformat": 4,
 "nbformat_minor": 5
}
