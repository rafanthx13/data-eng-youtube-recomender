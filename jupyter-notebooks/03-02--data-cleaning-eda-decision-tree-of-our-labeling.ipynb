{
 "cells": [
  {
   "cell_type": "markdown",
   "metadata": {},
   "source": [
    "# Data Cleaning & EDA over Data Set and Undestanding our labeling procedure with a Simple Decision Tree\n",
    "\n",
    "**Nâo é e etapa do active learning**\n",
    "\n",
    "Vamos analisar de forma exploratória (EDA) o nosos dataset já com as categorias e criar uma árvore simples para entender de froma rudimmentar umpouco, como foi o nosos processo para classificar (mesmo que seja manual, como a ML detecta o nosso gosto)\n",
    "\n"
   ]
  },
  {
   "cell_type": "code",
   "execution_count": 3,
   "metadata": {},
   "outputs": [
    {
     "name": "stdout",
     "output_type": "stream",
     "text": [
      "Populating the interactive namespace from numpy and matplotlib\n"
     ]
    }
   ],
   "source": [
    "import pandas as pd\n",
    "import numpy as np\n",
    "import tqdm\n",
    "import datetime\n",
    "import seaborn as sns\n",
    "from sklearn.linear_model import LogisticRegression\n",
    "from sklearn.tree import DecisionTreeClassifier\n",
    "from sklearn.model_selection import train_test_split\n",
    "from sklearn.tree import plot_tree\n",
    "from sklearn import metrics\n",
    "pd.set_option(\"max.columns\", None)\n",
    "\n",
    "%matplotlib inline\n",
    "%pylab inline"
   ]
  },
  {
   "cell_type": "code",
   "execution_count": 4,
   "metadata": {},
   "outputs": [
    {
     "data": {
      "text/html": [
       "<div>\n",
       "<style scoped>\n",
       "    .dataframe tbody tr th:only-of-type {\n",
       "        vertical-align: middle;\n",
       "    }\n",
       "\n",
       "    .dataframe tbody tr th {\n",
       "        vertical-align: top;\n",
       "    }\n",
       "\n",
       "    .dataframe thead th {\n",
       "        text-align: right;\n",
       "    }\n",
       "</style>\n",
       "<table border=\"1\" class=\"dataframe\">\n",
       "  <thead>\n",
       "    <tr style=\"text-align: right;\">\n",
       "      <th></th>\n",
       "      <th>uploader</th>\n",
       "      <th>title</th>\n",
       "      <th>y</th>\n",
       "      <th>upload_date</th>\n",
       "      <th>user</th>\n",
       "      <th>view_count</th>\n",
       "      <th>like_count</th>\n",
       "      <th>dislike_count</th>\n",
       "      <th>thumbnail</th>\n",
       "      <th>width</th>\n",
       "      <th>height</th>\n",
       "      <th>categories</th>\n",
       "      <th>tags</th>\n",
       "      <th>channel_url</th>\n",
       "      <th>description</th>\n",
       "    </tr>\n",
       "  </thead>\n",
       "  <tbody>\n",
       "    <tr>\n",
       "      <th>0</th>\n",
       "      <td>Yanjun Qi</td>\n",
       "      <td>S0-Introduction-Module3: Deep Learning and AI ...</td>\n",
       "      <td>0.0</td>\n",
       "      <td>2020-08-25</td>\n",
       "      <td>UCHMYETgeGbNHVHLidZSV8BQ</td>\n",
       "      <td>22</td>\n",
       "      <td>NaN</td>\n",
       "      <td>NaN</td>\n",
       "      <td>https://i.ytimg.com/vi/LkPmTGw1jqo/hqdefault.j...</td>\n",
       "      <td>1280</td>\n",
       "      <td>672</td>\n",
       "      <td>Science &amp; Technology</td>\n",
       "      <td>Machine Learning</td>\n",
       "      <td>http://www.youtube.com/channel/UCHMYETgeGbNHVH...</td>\n",
       "      <td>Course Web: \\nhttps://qiyanjun.github.io/2020f...</td>\n",
       "    </tr>\n",
       "    <tr>\n",
       "      <th>1</th>\n",
       "      <td>Ciência dos Dados</td>\n",
       "      <td>Machine Learning no Ensino Médio</td>\n",
       "      <td>0.0</td>\n",
       "      <td>2020-08-25</td>\n",
       "      <td>UCd3ThZLzVDDnKSZMsbK0icg</td>\n",
       "      <td>3</td>\n",
       "      <td>NaN</td>\n",
       "      <td>NaN</td>\n",
       "      <td>https://i.ytimg.com/vi_webp/R_gBq8IfwJc/maxres...</td>\n",
       "      <td>1920</td>\n",
       "      <td>1080</td>\n",
       "      <td>Education</td>\n",
       "      <td>machine learning|data science</td>\n",
       "      <td>http://www.youtube.com/channel/UCd3ThZLzVDDnKS...</td>\n",
       "      <td>A matemática, sempre ela....\\n\\nDe uma maneira...</td>\n",
       "    </tr>\n",
       "    <tr>\n",
       "      <th>2</th>\n",
       "      <td>iKennyHD</td>\n",
       "      <td>NBA LIVE 22: EA COULD USE DEEP MACHINE LEARNIN...</td>\n",
       "      <td>0.0</td>\n",
       "      <td>2020-08-25</td>\n",
       "      <td>KennyCallOfDuty</td>\n",
       "      <td>47</td>\n",
       "      <td>NaN</td>\n",
       "      <td>NaN</td>\n",
       "      <td>https://i.ytimg.com/vi/Tix2xon9MSs/maxresdefau...</td>\n",
       "      <td>1920</td>\n",
       "      <td>1080</td>\n",
       "      <td>Gaming</td>\n",
       "      <td>iKennyHD|nba live20|nba live 20|nba 2k20|live2...</td>\n",
       "      <td>http://www.youtube.com/channel/UCGMtoj9V9Go_im...</td>\n",
       "      <td>Wanna Donate? paypal.me/iKennyYT is where you ...</td>\n",
       "    </tr>\n",
       "    <tr>\n",
       "      <th>3</th>\n",
       "      <td>Amazon Web Services</td>\n",
       "      <td>Amazon Aurora Machine Learning – SageMaker Int...</td>\n",
       "      <td>0.0</td>\n",
       "      <td>2020-08-25</td>\n",
       "      <td>AmazonWebServices</td>\n",
       "      <td>335</td>\n",
       "      <td>NaN</td>\n",
       "      <td>NaN</td>\n",
       "      <td>https://i.ytimg.com/vi/w-2ip78NxAw/maxresdefau...</td>\n",
       "      <td>1920</td>\n",
       "      <td>1080</td>\n",
       "      <td>Science &amp; Technology</td>\n",
       "      <td>AWS|Amazon Web Services|Cloud|AWS Cloud|Cloud ...</td>\n",
       "      <td>http://www.youtube.com/channel/UCd6MoB9NC6uYN2...</td>\n",
       "      <td>Learn how you can turn relational data into in...</td>\n",
       "    </tr>\n",
       "    <tr>\n",
       "      <th>4</th>\n",
       "      <td>GMRIT, Rajam, AP</td>\n",
       "      <td>Machine Learning and Deep Learning Implementat...</td>\n",
       "      <td>1.0</td>\n",
       "      <td>2020-08-25</td>\n",
       "      <td>UC8g7hz4oXFzXNryt8h1gRPw</td>\n",
       "      <td>1486</td>\n",
       "      <td>NaN</td>\n",
       "      <td>NaN</td>\n",
       "      <td>https://i.ytimg.com/vi/f6XIY_M7FlA/hqdefault.j...</td>\n",
       "      <td>1280</td>\n",
       "      <td>720</td>\n",
       "      <td>People &amp; Blogs</td>\n",
       "      <td>NaN</td>\n",
       "      <td>http://www.youtube.com/channel/UC8g7hz4oXFzXNr...</td>\n",
       "      <td>Resource Person\\nMr.S.Aravinth Seshadri\\nCerti...</td>\n",
       "    </tr>\n",
       "  </tbody>\n",
       "</table>\n",
       "</div>"
      ],
      "text/plain": [
       "              uploader                                              title  \\\n",
       "0            Yanjun Qi  S0-Introduction-Module3: Deep Learning and AI ...   \n",
       "1    Ciência dos Dados                   Machine Learning no Ensino Médio   \n",
       "2             iKennyHD  NBA LIVE 22: EA COULD USE DEEP MACHINE LEARNIN...   \n",
       "3  Amazon Web Services  Amazon Aurora Machine Learning – SageMaker Int...   \n",
       "4     GMRIT, Rajam, AP  Machine Learning and Deep Learning Implementat...   \n",
       "\n",
       "     y upload_date                      user  view_count  like_count  \\\n",
       "0  0.0  2020-08-25  UCHMYETgeGbNHVHLidZSV8BQ          22         NaN   \n",
       "1  0.0  2020-08-25  UCd3ThZLzVDDnKSZMsbK0icg           3         NaN   \n",
       "2  0.0  2020-08-25           KennyCallOfDuty          47         NaN   \n",
       "3  0.0  2020-08-25         AmazonWebServices         335         NaN   \n",
       "4  1.0  2020-08-25  UC8g7hz4oXFzXNryt8h1gRPw        1486         NaN   \n",
       "\n",
       "   dislike_count                                          thumbnail  width  \\\n",
       "0            NaN  https://i.ytimg.com/vi/LkPmTGw1jqo/hqdefault.j...   1280   \n",
       "1            NaN  https://i.ytimg.com/vi_webp/R_gBq8IfwJc/maxres...   1920   \n",
       "2            NaN  https://i.ytimg.com/vi/Tix2xon9MSs/maxresdefau...   1920   \n",
       "3            NaN  https://i.ytimg.com/vi/w-2ip78NxAw/maxresdefau...   1920   \n",
       "4            NaN  https://i.ytimg.com/vi/f6XIY_M7FlA/hqdefault.j...   1280   \n",
       "\n",
       "   height            categories  \\\n",
       "0     672  Science & Technology   \n",
       "1    1080             Education   \n",
       "2    1080                Gaming   \n",
       "3    1080  Science & Technology   \n",
       "4     720        People & Blogs   \n",
       "\n",
       "                                                tags  \\\n",
       "0                                   Machine Learning   \n",
       "1                      machine learning|data science   \n",
       "2  iKennyHD|nba live20|nba live 20|nba 2k20|live2...   \n",
       "3  AWS|Amazon Web Services|Cloud|AWS Cloud|Cloud ...   \n",
       "4                                                NaN   \n",
       "\n",
       "                                         channel_url  \\\n",
       "0  http://www.youtube.com/channel/UCHMYETgeGbNHVH...   \n",
       "1  http://www.youtube.com/channel/UCd3ThZLzVDDnKS...   \n",
       "2  http://www.youtube.com/channel/UCGMtoj9V9Go_im...   \n",
       "3  http://www.youtube.com/channel/UCd6MoB9NC6uYN2...   \n",
       "4  http://www.youtube.com/channel/UC8g7hz4oXFzXNr...   \n",
       "\n",
       "                                         description  \n",
       "0  Course Web: \\nhttps://qiyanjun.github.io/2020f...  \n",
       "1  A matemática, sempre ela....\\n\\nDe uma maneira...  \n",
       "2  Wanna Donate? paypal.me/iKennyYT is where you ...  \n",
       "3  Learn how you can turn relational data into in...  \n",
       "4  Resource Person\\nMr.S.Aravinth Seshadri\\nCerti...  "
      ]
     },
     "execution_count": 4,
     "metadata": {},
     "output_type": "execute_result"
    }
   ],
   "source": [
    "df = pd.read_csv(\"raw_data_com_labels_DELE.csv\",index_col=0)\n",
    "df = df[df['y'].notnull()]\n",
    "df.head()"
   ]
  },
  {
   "cell_type": "code",
   "execution_count": 5,
   "metadata": {},
   "outputs": [
    {
     "name": "stdout",
     "output_type": "stream",
     "text": [
      "<class 'pandas.core.frame.DataFrame'>\n",
      "Int64Index: 499 entries, 0 to 499\n",
      "Data columns (total 15 columns):\n",
      " #   Column         Non-Null Count  Dtype  \n",
      "---  ------         --------------  -----  \n",
      " 0   uploader       499 non-null    object \n",
      " 1   title          499 non-null    object \n",
      " 2   y              499 non-null    float64\n",
      " 3   upload_date    499 non-null    object \n",
      " 4   user           499 non-null    object \n",
      " 5   view_count     499 non-null    int64  \n",
      " 6   like_count     0 non-null      float64\n",
      " 7   dislike_count  0 non-null      float64\n",
      " 8   thumbnail      499 non-null    object \n",
      " 9   width          499 non-null    int64  \n",
      " 10  height         499 non-null    int64  \n",
      " 11  categories     499 non-null    object \n",
      " 12  tags           424 non-null    object \n",
      " 13  channel_url    499 non-null    object \n",
      " 14  description    499 non-null    object \n",
      "dtypes: float64(3), int64(3), object(9)\n",
      "memory usage: 62.4+ KB\n"
     ]
    }
   ],
   "source": [
    "df.info()"
   ]
  },
  {
   "cell_type": "code",
   "execution_count": 6,
   "metadata": {},
   "outputs": [],
   "source": [
    "df_limpo = pd.DataFrame(index=df.index)"
   ]
  },
  {
   "cell_type": "markdown",
   "metadata": {},
   "source": [
    "## 1. Limpeza da Data"
   ]
  },
  {
   "cell_type": "code",
   "execution_count": 7,
   "metadata": {},
   "outputs": [],
   "source": [
    "df_limpo['date'] = pd.to_datetime(df['upload_date'])"
   ]
  },
  {
   "cell_type": "markdown",
   "metadata": {},
   "source": [
    "## 2. Limpeza de views"
   ]
  },
  {
   "cell_type": "code",
   "execution_count": 8,
   "metadata": {},
   "outputs": [],
   "source": [
    "views = df['view_count'].fillna(0)\n",
    "df_limpo['views'] = views"
   ]
  },
  {
   "cell_type": "markdown",
   "metadata": {},
   "source": [
    "### 3. Features"
   ]
  },
  {
   "cell_type": "code",
   "execution_count": 9,
   "metadata": {},
   "outputs": [],
   "source": [
    "features = pd.DataFrame(index=df_limpo.index)\n",
    "y = df['y'].copy()"
   ]
  },
  {
   "cell_type": "code",
   "execution_count": 10,
   "metadata": {},
   "outputs": [
    {
     "data": {
      "text/plain": [
       "'2021-12-11'"
      ]
     },
     "execution_count": 10,
     "metadata": {},
     "output_type": "execute_result"
    }
   ],
   "source": [
    "today = datetime.datetime.today().strftime(\"%Y-%m-%d\")\n",
    "today"
   ]
  },
  {
   "cell_type": "code",
   "execution_count": 11,
   "metadata": {},
   "outputs": [],
   "source": [
    "features['tempo_desde_pub'] = (pd.to_datetime(today) -  df_limpo['date']) / np.timedelta64(1, 'D')\n",
    "features['views'] = df_limpo['views']\n",
    "features['views_por_dia'] = (features['views'] / features['tempo_desde_pub']).round(3)\n",
    "features.drop(['tempo_desde_pub'], axis=1, inplace=True)"
   ]
  },
  {
   "cell_type": "code",
   "execution_count": 12,
   "metadata": {},
   "outputs": [
    {
     "data": {
      "text/html": [
       "<div>\n",
       "<style scoped>\n",
       "    .dataframe tbody tr th:only-of-type {\n",
       "        vertical-align: middle;\n",
       "    }\n",
       "\n",
       "    .dataframe tbody tr th {\n",
       "        vertical-align: top;\n",
       "    }\n",
       "\n",
       "    .dataframe thead th {\n",
       "        text-align: right;\n",
       "    }\n",
       "</style>\n",
       "<table border=\"1\" class=\"dataframe\">\n",
       "  <thead>\n",
       "    <tr style=\"text-align: right;\">\n",
       "      <th></th>\n",
       "      <th>views</th>\n",
       "      <th>views_por_dia</th>\n",
       "    </tr>\n",
       "  </thead>\n",
       "  <tbody>\n",
       "    <tr>\n",
       "      <th>459</th>\n",
       "      <td>111221</td>\n",
       "      <td>106.228</td>\n",
       "    </tr>\n",
       "    <tr>\n",
       "      <th>439</th>\n",
       "      <td>32780</td>\n",
       "      <td>29.425</td>\n",
       "    </tr>\n",
       "    <tr>\n",
       "      <th>433</th>\n",
       "      <td>131316</td>\n",
       "      <td>119.270</td>\n",
       "    </tr>\n",
       "    <tr>\n",
       "      <th>79</th>\n",
       "      <td>57</td>\n",
       "      <td>0.120</td>\n",
       "    </tr>\n",
       "    <tr>\n",
       "      <th>130</th>\n",
       "      <td>5713</td>\n",
       "      <td>11.268</td>\n",
       "    </tr>\n",
       "    <tr>\n",
       "      <th>38</th>\n",
       "      <td>113</td>\n",
       "      <td>0.238</td>\n",
       "    </tr>\n",
       "    <tr>\n",
       "      <th>473</th>\n",
       "      <td>32759</td>\n",
       "      <td>29.700</td>\n",
       "    </tr>\n",
       "    <tr>\n",
       "      <th>231</th>\n",
       "      <td>4378</td>\n",
       "      <td>7.535</td>\n",
       "    </tr>\n",
       "    <tr>\n",
       "      <th>141</th>\n",
       "      <td>11509</td>\n",
       "      <td>22.391</td>\n",
       "    </tr>\n",
       "    <tr>\n",
       "      <th>326</th>\n",
       "      <td>16289</td>\n",
       "      <td>19.484</td>\n",
       "    </tr>\n",
       "  </tbody>\n",
       "</table>\n",
       "</div>"
      ],
      "text/plain": [
       "      views  views_por_dia\n",
       "459  111221        106.228\n",
       "439   32780         29.425\n",
       "433  131316        119.270\n",
       "79       57          0.120\n",
       "130    5713         11.268\n",
       "38      113          0.238\n",
       "473   32759         29.700\n",
       "231    4378          7.535\n",
       "141   11509         22.391\n",
       "326   16289         19.484"
      ]
     },
     "execution_count": 12,
     "metadata": {},
     "output_type": "execute_result"
    }
   ],
   "source": [
    "features.sample(10)"
   ]
  },
  {
   "cell_type": "code",
   "execution_count": 13,
   "metadata": {},
   "outputs": [
    {
     "data": {
      "text/plain": [
       "(Timestamp('2018-09-20 00:00:00'), Timestamp('2020-08-25 00:00:00'))"
      ]
     },
     "execution_count": 13,
     "metadata": {},
     "output_type": "execute_result"
    }
   ],
   "source": [
    "df_limpo['date'].min(), df_limpo['date'].max()"
   ]
  },
  {
   "cell_type": "code",
   "execution_count": 14,
   "metadata": {},
   "outputs": [
    {
     "data": {
      "text/plain": [
       "<AxesSubplot:>"
      ]
     },
     "execution_count": 14,
     "metadata": {},
     "output_type": "execute_result"
    },
    {
     "data": {
      "image/png": "[encoded data removed]",
      "text/plain": [
       "<Figure size 864x432 with 1 Axes>"
      ]
     },
     "metadata": {
      "needs_background": "light"
     },
     "output_type": "display_data"
    }
   ],
   "source": [
    "df_limpo['date'].value_counts().plot(figsize=(12,6))"
   ]
  },
  {
   "cell_type": "code",
   "execution_count": 15,
   "metadata": {
    "scrolled": true
   },
   "outputs": [
    {
     "data": {
      "text/plain": [
       "((244, 2), (255, 2), (244,), (255,))"
      ]
     },
     "execution_count": 15,
     "metadata": {},
     "output_type": "execute_result"
    }
   ],
   "source": [
    "Xtrain, Xval = features[df_limpo['date'] <= '2020-03-10'], features[df_limpo['date'] > '2020-03-10']\n",
    "ytrain, yval = y[df_limpo['date'] <= '2020-03-10'], y[df_limpo['date'] > '2020-03-10']\n",
    "Xtrain.shape, Xval.shape, ytrain.shape, yval.shape"
   ]
  },
  {
   "cell_type": "markdown",
   "metadata": {},
   "source": [
    "## Árvore de Decisão\n",
    "\n",
    "Terá profundidade 2, e balancear as classes (serve para dar um peso maior a classe 1, já que tem pouco ela). (14% é apenas 1).\n",
    "\n",
    "Agora, vamos fazer uma árvore decis/ão apara anenteder \n",
    "**SE COM APENAS 2 FREATES JÁ TEM ALGUMA TENDENCIA PARA AGENTE FAZER ESSA ESCOLHA**\n",
    "\n",
    "**Ele esxplica o AUC no final de um veio do 27**\n",
    "\n",
    "Na uala 28 , a interpretaçao da árvore gerada, que é o mesmo caso que o nosos."
   ]
  },
  {
   "cell_type": "code",
   "execution_count": 16,
   "metadata": {},
   "outputs": [
    {
     "data": {
      "text/plain": [
       "DecisionTreeClassifier(class_weight='balanced', max_depth=2, random_state=0)"
      ]
     },
     "execution_count": 16,
     "metadata": {},
     "output_type": "execute_result"
    }
   ],
   "source": [
    "mdl = DecisionTreeClassifier(random_state=0, max_depth=2, class_weight='balanced')\n",
    "mdl.fit(Xtrain, ytrain)"
   ]
  },
  {
   "cell_type": "code",
   "execution_count": 17,
   "metadata": {},
   "outputs": [],
   "source": [
    "p = mdl.predict_proba(Xval)[:,1]"
   ]
  },
  {
   "cell_type": "code",
   "execution_count": 18,
   "metadata": {},
   "outputs": [
    {
     "data": {
      "text/plain": [
       "0.35505789941959753"
      ]
     },
     "execution_count": 18,
     "metadata": {},
     "output_type": "execute_result"
    }
   ],
   "source": [
    "# De todos que são positivos quantos meu modelo previu como positivos?\n",
    "metrics.average_precision_score(yval, p)"
   ]
  },
  {
   "cell_type": "code",
   "execution_count": 19,
   "metadata": {},
   "outputs": [
    {
     "data": {
      "text/plain": [
       "0.4682565789473684"
      ]
     },
     "execution_count": 19,
     "metadata": {},
     "output_type": "execute_result"
    }
   ],
   "source": [
    "metrics.roc_auc_score(yval, p)"
   ]
  },
  {
   "cell_type": "code",
   "execution_count": 20,
   "metadata": {},
   "outputs": [
    {
     "data": {
      "image/png": "[encoded data removed]",
      "text/plain": [
       "<Figure size 720x720 with 1 Axes>"
      ]
     },
     "metadata": {
      "needs_background": "light"
     },
     "output_type": "display_data"
    }
   ],
   "source": [
    "# plotando arvore\n",
    "fig, ax = pylab.subplots(1,1, figsize=(10,10))\n",
    "plot_tree(mdl, ax=ax, feature_names=Xtrain.columns)\n",
    "\n",
    "plt.show()"
   ]
  },
  {
   "cell_type": "code",
   "execution_count": null,
   "metadata": {},
   "outputs": [],
   "source": []
  }
 ],
 "metadata": {
  "kernelspec": {
   "display_name": "Python 3",
   "language": "python",
   "name": "python3"
  },
  "language_info": {
   "codemirror_mode": {
    "name": "ipython",
    "version": 3
   },
   "file_extension": ".py",
   "mimetype": "text/x-python",
   "name": "python",
   "nbconvert_exporter": "python",
   "pygments_lexer": "ipython3",
   "version": "3.8.5"
  },
  "toc": {
   "base_numbering": 1,
   "nav_menu": {},
   "number_sections": true,
   "sideBar": true,
   "skip_h1_title": false,
   "title_cell": "Table of Contents",
   "title_sidebar": "Contents",
   "toc_cell": false,
   "toc_position": {},
   "toc_section_display": true,
   "toc_window_display": false
  }
 },
 "nbformat": 4,
 "nbformat_minor": 4
}
