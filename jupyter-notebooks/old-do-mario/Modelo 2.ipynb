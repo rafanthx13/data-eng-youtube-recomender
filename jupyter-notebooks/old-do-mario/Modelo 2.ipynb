{
 "cells": [
  {
   "cell_type": "code",
   "execution_count": 1,
   "metadata": {},
   "outputs": [
    {
     "name": "stdout",
     "output_type": "stream",
     "text": [
      "Populating the interactive namespace from numpy and matplotlib\n"
     ]
    }
   ],
   "source": [
    "import pandas as pd\n",
    "import numpy as np\n",
    "import tqdm\n",
    "import datetime\n",
    "import seaborn as sns\n",
    "from sklearn.linear_model import LogisticRegression\n",
    "from sklearn.tree import DecisionTreeClassifier\n",
    "from sklearn.ensemble import RandomForestClassifier\n",
    "from sklearn.model_selection import train_test_split\n",
    "from sklearn.tree import plot_tree\n",
    "from sklearn.feature_extraction.text import TfidfVectorizer\n",
    "from sklearn import metrics\n",
    "\n",
    "from scipy import sparse\n",
    "\n",
    "pd.set_option(\"max.columns\", None)\n",
    "\n",
    "%matplotlib inline\n",
    "%pylab inline"
   ]
  },
  {
   "cell_type": "code",
   "execution_count": 2,
   "metadata": {},
   "outputs": [
    {
     "data": {
      "text/html": [
       "<div>\n",
       "<style scoped>\n",
       "    .dataframe tbody tr th:only-of-type {\n",
       "        vertical-align: middle;\n",
       "    }\n",
       "\n",
       "    .dataframe tbody tr th {\n",
       "        vertical-align: top;\n",
       "    }\n",
       "\n",
       "    .dataframe thead th {\n",
       "        text-align: right;\n",
       "    }\n",
       "</style>\n",
       "<table border=\"1\" class=\"dataframe\">\n",
       "  <thead>\n",
       "    <tr style=\"text-align: right;\">\n",
       "      <th></th>\n",
       "      <th>uploader</th>\n",
       "      <th>title</th>\n",
       "      <th>y</th>\n",
       "      <th>upload_date</th>\n",
       "      <th>user</th>\n",
       "      <th>view_count</th>\n",
       "      <th>like_count</th>\n",
       "      <th>dislike_count</th>\n",
       "      <th>thumbnail</th>\n",
       "      <th>width</th>\n",
       "      <th>height</th>\n",
       "      <th>categories</th>\n",
       "      <th>tags</th>\n",
       "      <th>channel_url</th>\n",
       "      <th>description</th>\n",
       "    </tr>\n",
       "  </thead>\n",
       "  <tbody>\n",
       "    <tr>\n",
       "      <th>0</th>\n",
       "      <td>Yanjun Qi</td>\n",
       "      <td>S0-Introduction-Module3: Deep Learning and AI ...</td>\n",
       "      <td>0.0</td>\n",
       "      <td>2020-08-25</td>\n",
       "      <td>UCHMYETgeGbNHVHLidZSV8BQ</td>\n",
       "      <td>22</td>\n",
       "      <td>NaN</td>\n",
       "      <td>NaN</td>\n",
       "      <td>https://i.ytimg.com/vi/LkPmTGw1jqo/hqdefault.j...</td>\n",
       "      <td>1280</td>\n",
       "      <td>672</td>\n",
       "      <td>Science &amp; Technology</td>\n",
       "      <td>Machine Learning</td>\n",
       "      <td>http://www.youtube.com/channel/UCHMYETgeGbNHVH...</td>\n",
       "      <td>Course Web: \\nhttps://qiyanjun.github.io/2020f...</td>\n",
       "    </tr>\n",
       "    <tr>\n",
       "      <th>1</th>\n",
       "      <td>Ciência dos Dados</td>\n",
       "      <td>Machine Learning no Ensino Médio</td>\n",
       "      <td>0.0</td>\n",
       "      <td>2020-08-25</td>\n",
       "      <td>UCd3ThZLzVDDnKSZMsbK0icg</td>\n",
       "      <td>3</td>\n",
       "      <td>NaN</td>\n",
       "      <td>NaN</td>\n",
       "      <td>https://i.ytimg.com/vi_webp/R_gBq8IfwJc/maxres...</td>\n",
       "      <td>1920</td>\n",
       "      <td>1080</td>\n",
       "      <td>Education</td>\n",
       "      <td>machine learning|data science</td>\n",
       "      <td>http://www.youtube.com/channel/UCd3ThZLzVDDnKS...</td>\n",
       "      <td>A matemática, sempre ela....\\n\\nDe uma maneira...</td>\n",
       "    </tr>\n",
       "    <tr>\n",
       "      <th>2</th>\n",
       "      <td>iKennyHD</td>\n",
       "      <td>NBA LIVE 22: EA COULD USE DEEP MACHINE LEARNIN...</td>\n",
       "      <td>0.0</td>\n",
       "      <td>2020-08-25</td>\n",
       "      <td>KennyCallOfDuty</td>\n",
       "      <td>47</td>\n",
       "      <td>NaN</td>\n",
       "      <td>NaN</td>\n",
       "      <td>https://i.ytimg.com/vi/Tix2xon9MSs/maxresdefau...</td>\n",
       "      <td>1920</td>\n",
       "      <td>1080</td>\n",
       "      <td>Gaming</td>\n",
       "      <td>iKennyHD|nba live20|nba live 20|nba 2k20|live2...</td>\n",
       "      <td>http://www.youtube.com/channel/UCGMtoj9V9Go_im...</td>\n",
       "      <td>Wanna Donate? paypal.me/iKennyYT is where you ...</td>\n",
       "    </tr>\n",
       "    <tr>\n",
       "      <th>3</th>\n",
       "      <td>Amazon Web Services</td>\n",
       "      <td>Amazon Aurora Machine Learning – SageMaker Int...</td>\n",
       "      <td>0.0</td>\n",
       "      <td>2020-08-25</td>\n",
       "      <td>AmazonWebServices</td>\n",
       "      <td>335</td>\n",
       "      <td>NaN</td>\n",
       "      <td>NaN</td>\n",
       "      <td>https://i.ytimg.com/vi/w-2ip78NxAw/maxresdefau...</td>\n",
       "      <td>1920</td>\n",
       "      <td>1080</td>\n",
       "      <td>Science &amp; Technology</td>\n",
       "      <td>AWS|Amazon Web Services|Cloud|AWS Cloud|Cloud ...</td>\n",
       "      <td>http://www.youtube.com/channel/UCd6MoB9NC6uYN2...</td>\n",
       "      <td>Learn how you can turn relational data into in...</td>\n",
       "    </tr>\n",
       "    <tr>\n",
       "      <th>4</th>\n",
       "      <td>GMRIT, Rajam, AP</td>\n",
       "      <td>Machine Learning and Deep Learning Implementat...</td>\n",
       "      <td>1.0</td>\n",
       "      <td>2020-08-25</td>\n",
       "      <td>UC8g7hz4oXFzXNryt8h1gRPw</td>\n",
       "      <td>1486</td>\n",
       "      <td>NaN</td>\n",
       "      <td>NaN</td>\n",
       "      <td>https://i.ytimg.com/vi/f6XIY_M7FlA/hqdefault.j...</td>\n",
       "      <td>1280</td>\n",
       "      <td>720</td>\n",
       "      <td>People &amp; Blogs</td>\n",
       "      <td>NaN</td>\n",
       "      <td>http://www.youtube.com/channel/UC8g7hz4oXFzXNr...</td>\n",
       "      <td>Resource Person\\nMr.S.Aravinth Seshadri\\nCerti...</td>\n",
       "    </tr>\n",
       "  </tbody>\n",
       "</table>\n",
       "</div>"
      ],
      "text/plain": [
       "              uploader                                              title  \\\n",
       "0            Yanjun Qi  S0-Introduction-Module3: Deep Learning and AI ...   \n",
       "1    Ciência dos Dados                   Machine Learning no Ensino Médio   \n",
       "2             iKennyHD  NBA LIVE 22: EA COULD USE DEEP MACHINE LEARNIN...   \n",
       "3  Amazon Web Services  Amazon Aurora Machine Learning – SageMaker Int...   \n",
       "4     GMRIT, Rajam, AP  Machine Learning and Deep Learning Implementat...   \n",
       "\n",
       "     y upload_date                      user  view_count  like_count  \\\n",
       "0  0.0  2020-08-25  UCHMYETgeGbNHVHLidZSV8BQ          22         NaN   \n",
       "1  0.0  2020-08-25  UCd3ThZLzVDDnKSZMsbK0icg           3         NaN   \n",
       "2  0.0  2020-08-25           KennyCallOfDuty          47         NaN   \n",
       "3  0.0  2020-08-25         AmazonWebServices         335         NaN   \n",
       "4  1.0  2020-08-25  UC8g7hz4oXFzXNryt8h1gRPw        1486         NaN   \n",
       "\n",
       "   dislike_count                                          thumbnail  width  \\\n",
       "0            NaN  https://i.ytimg.com/vi/LkPmTGw1jqo/hqdefault.j...   1280   \n",
       "1            NaN  https://i.ytimg.com/vi_webp/R_gBq8IfwJc/maxres...   1920   \n",
       "2            NaN  https://i.ytimg.com/vi/Tix2xon9MSs/maxresdefau...   1920   \n",
       "3            NaN  https://i.ytimg.com/vi/w-2ip78NxAw/maxresdefau...   1920   \n",
       "4            NaN  https://i.ytimg.com/vi/f6XIY_M7FlA/hqdefault.j...   1280   \n",
       "\n",
       "   height            categories  \\\n",
       "0     672  Science & Technology   \n",
       "1    1080             Education   \n",
       "2    1080                Gaming   \n",
       "3    1080  Science & Technology   \n",
       "4     720        People & Blogs   \n",
       "\n",
       "                                                tags  \\\n",
       "0                                   Machine Learning   \n",
       "1                      machine learning|data science   \n",
       "2  iKennyHD|nba live20|nba live 20|nba 2k20|live2...   \n",
       "3  AWS|Amazon Web Services|Cloud|AWS Cloud|Cloud ...   \n",
       "4                                                NaN   \n",
       "\n",
       "                                         channel_url  \\\n",
       "0  http://www.youtube.com/channel/UCHMYETgeGbNHVH...   \n",
       "1  http://www.youtube.com/channel/UCd3ThZLzVDDnKS...   \n",
       "2  http://www.youtube.com/channel/UCGMtoj9V9Go_im...   \n",
       "3  http://www.youtube.com/channel/UCd6MoB9NC6uYN2...   \n",
       "4  http://www.youtube.com/channel/UC8g7hz4oXFzXNr...   \n",
       "\n",
       "                                         description  \n",
       "0  Course Web: \\nhttps://qiyanjun.github.io/2020f...  \n",
       "1  A matemática, sempre ela....\\n\\nDe uma maneira...  \n",
       "2  Wanna Donate? paypal.me/iKennyYT is where you ...  \n",
       "3  Learn how you can turn relational data into in...  \n",
       "4  Resource Person\\nMr.S.Aravinth Seshadri\\nCerti...  "
      ]
     },
     "execution_count": 2,
     "metadata": {},
     "output_type": "execute_result"
    }
   ],
   "source": [
    "df = pd.read_csv(\"raw_data_com_labels.csv\",index_col=0)\n",
    "df = df[df['y'].notnull()]\n",
    "df.head()"
   ]
  },
  {
   "cell_type": "code",
   "execution_count": 3,
   "metadata": {},
   "outputs": [],
   "source": [
    "df_limpo = pd.DataFrame(index=df.index)\n",
    "df_limpo['title'] = df['title']"
   ]
  },
  {
   "cell_type": "markdown",
   "metadata": {},
   "source": [
    "## 1. Limpeza da Data"
   ]
  },
  {
   "cell_type": "code",
   "execution_count": 4,
   "metadata": {},
   "outputs": [],
   "source": [
    "df_limpo['date'] = pd.to_datetime(df['upload_date'])"
   ]
  },
  {
   "cell_type": "markdown",
   "metadata": {},
   "source": [
    "## 2. Limpeza de views"
   ]
  },
  {
   "cell_type": "code",
   "execution_count": 5,
   "metadata": {},
   "outputs": [],
   "source": [
    "views = df['view_count'].fillna(0)\n",
    "df_limpo['views'] = views"
   ]
  },
  {
   "cell_type": "markdown",
   "metadata": {},
   "source": [
    "## 3. Features"
   ]
  },
  {
   "cell_type": "code",
   "execution_count": 6,
   "metadata": {},
   "outputs": [],
   "source": [
    "features = pd.DataFrame(index=df_limpo.index)\n",
    "y = df['y'].copy()"
   ]
  },
  {
   "cell_type": "code",
   "execution_count": 7,
   "metadata": {},
   "outputs": [
    {
     "data": {
      "text/plain": [
       "'2020-09-02'"
      ]
     },
     "execution_count": 7,
     "metadata": {},
     "output_type": "execute_result"
    }
   ],
   "source": [
    "today = datetime.datetime.today().strftime(\"%Y-%m-%d\")\n",
    "today"
   ]
  },
  {
   "cell_type": "code",
   "execution_count": 8,
   "metadata": {},
   "outputs": [],
   "source": [
    "features['tempo_desde_pub'] = (pd.to_datetime(today) -  df_limpo['date']) / np.timedelta64(1, 'D')\n",
    "features['views'] = df_limpo['views']\n",
    "features['views_por_dia'] = (features['views'] / features['tempo_desde_pub']).round(3)\n",
    "features.drop(['tempo_desde_pub'], axis=1, inplace=True)"
   ]
  },
  {
   "cell_type": "code",
   "execution_count": 9,
   "metadata": {},
   "outputs": [
    {
     "data": {
      "text/html": [
       "<div>\n",
       "<style scoped>\n",
       "    .dataframe tbody tr th:only-of-type {\n",
       "        vertical-align: middle;\n",
       "    }\n",
       "\n",
       "    .dataframe tbody tr th {\n",
       "        vertical-align: top;\n",
       "    }\n",
       "\n",
       "    .dataframe thead th {\n",
       "        text-align: right;\n",
       "    }\n",
       "</style>\n",
       "<table border=\"1\" class=\"dataframe\">\n",
       "  <thead>\n",
       "    <tr style=\"text-align: right;\">\n",
       "      <th></th>\n",
       "      <th>views</th>\n",
       "      <th>views_por_dia</th>\n",
       "    </tr>\n",
       "  </thead>\n",
       "  <tbody>\n",
       "    <tr>\n",
       "      <th>264</th>\n",
       "      <td>389</td>\n",
       "      <td>1.975</td>\n",
       "    </tr>\n",
       "    <tr>\n",
       "      <th>59</th>\n",
       "      <td>330</td>\n",
       "      <td>36.667</td>\n",
       "    </tr>\n",
       "    <tr>\n",
       "      <th>496</th>\n",
       "      <td>251208</td>\n",
       "      <td>355.819</td>\n",
       "    </tr>\n",
       "    <tr>\n",
       "      <th>190</th>\n",
       "      <td>194</td>\n",
       "      <td>2.180</td>\n",
       "    </tr>\n",
       "    <tr>\n",
       "      <th>96</th>\n",
       "      <td>334</td>\n",
       "      <td>25.692</td>\n",
       "    </tr>\n",
       "    <tr>\n",
       "      <th>123</th>\n",
       "      <td>42120</td>\n",
       "      <td>1238.824</td>\n",
       "    </tr>\n",
       "    <tr>\n",
       "      <th>159</th>\n",
       "      <td>6025</td>\n",
       "      <td>87.319</td>\n",
       "    </tr>\n",
       "    <tr>\n",
       "      <th>415</th>\n",
       "      <td>154144</td>\n",
       "      <td>274.766</td>\n",
       "    </tr>\n",
       "    <tr>\n",
       "      <th>208</th>\n",
       "      <td>96289</td>\n",
       "      <td>822.983</td>\n",
       "    </tr>\n",
       "    <tr>\n",
       "      <th>376</th>\n",
       "      <td>1070556</td>\n",
       "      <td>2337.459</td>\n",
       "    </tr>\n",
       "  </tbody>\n",
       "</table>\n",
       "</div>"
      ],
      "text/plain": [
       "       views  views_por_dia\n",
       "264      389          1.975\n",
       "59       330         36.667\n",
       "496   251208        355.819\n",
       "190      194          2.180\n",
       "96       334         25.692\n",
       "123    42120       1238.824\n",
       "159     6025         87.319\n",
       "415   154144        274.766\n",
       "208    96289        822.983\n",
       "376  1070556       2337.459"
      ]
     },
     "execution_count": 9,
     "metadata": {},
     "output_type": "execute_result"
    }
   ],
   "source": [
    "features.sample(10)"
   ]
  },
  {
   "cell_type": "code",
   "execution_count": 10,
   "metadata": {},
   "outputs": [
    {
     "data": {
      "text/plain": [
       "((244, 2), (255, 2), (244,), (255,))"
      ]
     },
     "execution_count": 10,
     "metadata": {},
     "output_type": "execute_result"
    }
   ],
   "source": [
    "mask_train = df_limpo['date'] < '2020-03-10'\n",
    "mask_val = df_limpo['date'] >= '2020-03-10'\n",
    "\n",
    "Xtrain, Xval = features[mask_train], features[mask_val]\n",
    "ytrain, yval = y[mask_train], y[mask_val]\n",
    "Xtrain.shape, Xval.shape, ytrain.shape, yval.shape"
   ]
  },
  {
   "cell_type": "code",
   "execution_count": 11,
   "metadata": {},
   "outputs": [],
   "source": [
    "title_train = df_limpo[mask_train]['title']\n",
    "title_val = df_limpo[mask_val]['title']\n",
    "\n",
    "# Min df - minimo de vezes que palavra tem que aparecer pra virar coluna\n",
    "title_vec = TfidfVectorizer(min_df=2)\n",
    "title_bow_train = title_vec.fit_transform(title_train)\n",
    "title_bow_val = title_vec.transform(title_val)"
   ]
  },
  {
   "cell_type": "code",
   "execution_count": 12,
   "metadata": {},
   "outputs": [
    {
     "data": {
      "text/plain": [
       "((244, 235), (255, 235))"
      ]
     },
     "execution_count": 12,
     "metadata": {},
     "output_type": "execute_result"
    }
   ],
   "source": [
    "title_bow_train.shape, title_bow_val.shape"
   ]
  },
  {
   "cell_type": "code",
   "execution_count": 13,
   "metadata": {},
   "outputs": [
    {
     "data": {
      "text/plain": [
       "(244, 235)"
      ]
     },
     "execution_count": 13,
     "metadata": {},
     "output_type": "execute_result"
    }
   ],
   "source": [
    "title_bow_train.shape"
   ]
  },
  {
   "cell_type": "code",
   "execution_count": 14,
   "metadata": {},
   "outputs": [
    {
     "data": {
      "text/plain": [
       "(244, 2)"
      ]
     },
     "execution_count": 14,
     "metadata": {},
     "output_type": "execute_result"
    }
   ],
   "source": [
    "Xtrain.shape"
   ]
  },
  {
   "cell_type": "code",
   "execution_count": 15,
   "metadata": {},
   "outputs": [
    {
     "data": {
      "text/plain": [
       "(244, 235)"
      ]
     },
     "execution_count": 15,
     "metadata": {},
     "output_type": "execute_result"
    }
   ],
   "source": [
    "title_bow_train.shape"
   ]
  },
  {
   "cell_type": "code",
   "execution_count": 16,
   "metadata": {},
   "outputs": [],
   "source": [
    "# Concatenando as variávels numéricas com as geradas pelo TfidfVectorizer\n",
    "Xtrain_wtitle = sparse.hstack([Xtrain, title_bow_train])\n",
    "Xval_wtitle = sparse.hstack([Xval, title_bow_val])"
   ]
  },
  {
   "cell_type": "code",
   "execution_count": 17,
   "metadata": {},
   "outputs": [
    {
     "data": {
      "text/plain": [
       "((244, 237), (255, 237))"
      ]
     },
     "execution_count": 17,
     "metadata": {},
     "output_type": "execute_result"
    }
   ],
   "source": [
    "Xtrain_wtitle.shape, Xval_wtitle.shape"
   ]
  },
  {
   "cell_type": "code",
   "execution_count": 18,
   "metadata": {},
   "outputs": [
    {
     "data": {
      "text/plain": [
       "RandomForestClassifier(class_weight='balanced', n_estimators=1000, n_jobs=6,\n",
       "                       random_state=0)"
      ]
     },
     "execution_count": 18,
     "metadata": {},
     "output_type": "execute_result"
    }
   ],
   "source": [
    "mdl = RandomForestClassifier(n_estimators=1000, random_state=0, class_weight='balanced', n_jobs=6)\n",
    "mdl.fit(Xtrain_wtitle, ytrain)"
   ]
  },
  {
   "cell_type": "code",
   "execution_count": 19,
   "metadata": {},
   "outputs": [],
   "source": [
    "p = mdl.predict_proba(Xval_wtitle)[:, 1]"
   ]
  },
  {
   "cell_type": "code",
   "execution_count": 20,
   "metadata": {},
   "outputs": [
    {
     "data": {
      "text/plain": [
       "0.48191114078764824"
      ]
     },
     "execution_count": 20,
     "metadata": {},
     "output_type": "execute_result"
    }
   ],
   "source": [
    "metrics.average_precision_score(yval, p)"
   ]
  },
  {
   "cell_type": "code",
   "execution_count": 21,
   "metadata": {},
   "outputs": [
    {
     "data": {
      "text/plain": [
       "0.5975328947368422"
      ]
     },
     "execution_count": 21,
     "metadata": {},
     "output_type": "execute_result"
    }
   ],
   "source": [
    "metrics.roc_auc_score(yval, p)"
   ]
  },
  {
   "cell_type": "markdown",
   "metadata": {},
   "source": [
    "### 5 Active Learning"
   ]
  },
  {
   "cell_type": "markdown",
   "metadata": {},
   "source": [
    "- 70 exemplos que o modelo tenha dificuldade \n",
    "- 30 exemplos aleatoriamente"
   ]
  },
  {
   "cell_type": "code",
   "execution_count": 22,
   "metadata": {},
   "outputs": [
    {
     "data": {
      "text/plain": [
       "(976, 15)"
      ]
     },
     "execution_count": 22,
     "metadata": {},
     "output_type": "execute_result"
    }
   ],
   "source": [
    "df_unlabeled = pd.read_csv(\"raw_data_com_labels.csv\", index_col=0)\n",
    "df_unlabeled = df_unlabeled[df_unlabeled['y'].isnull()].dropna(how='all')\n",
    "df_unlabeled.shape"
   ]
  },
  {
   "cell_type": "code",
   "execution_count": 23,
   "metadata": {},
   "outputs": [
    {
     "data": {
      "text/html": [
       "<div>\n",
       "<style scoped>\n",
       "    .dataframe tbody tr th:only-of-type {\n",
       "        vertical-align: middle;\n",
       "    }\n",
       "\n",
       "    .dataframe tbody tr th {\n",
       "        vertical-align: top;\n",
       "    }\n",
       "\n",
       "    .dataframe thead th {\n",
       "        text-align: right;\n",
       "    }\n",
       "</style>\n",
       "<table border=\"1\" class=\"dataframe\">\n",
       "  <thead>\n",
       "    <tr style=\"text-align: right;\">\n",
       "      <th></th>\n",
       "      <th>uploader</th>\n",
       "      <th>title</th>\n",
       "      <th>y</th>\n",
       "      <th>upload_date</th>\n",
       "      <th>user</th>\n",
       "      <th>view_count</th>\n",
       "      <th>like_count</th>\n",
       "      <th>dislike_count</th>\n",
       "      <th>thumbnail</th>\n",
       "      <th>width</th>\n",
       "      <th>height</th>\n",
       "      <th>categories</th>\n",
       "      <th>tags</th>\n",
       "      <th>channel_url</th>\n",
       "      <th>description</th>\n",
       "    </tr>\n",
       "  </thead>\n",
       "  <tbody>\n",
       "    <tr>\n",
       "      <th>350</th>\n",
       "      <td>PyB TV</td>\n",
       "      <td>Very Basic Math needed for Machine learning in...</td>\n",
       "      <td>NaN</td>\n",
       "      <td>2019-07-28</td>\n",
       "      <td>UCvnhhDKv5takEN412dmVW8g</td>\n",
       "      <td>784</td>\n",
       "      <td>NaN</td>\n",
       "      <td>NaN</td>\n",
       "      <td>https://i.ytimg.com/vi_webp/MkPQ0xIdKVw/maxres...</td>\n",
       "      <td>1280</td>\n",
       "      <td>652</td>\n",
       "      <td>Education</td>\n",
       "      <td>NaN</td>\n",
       "      <td>http://www.youtube.com/channel/UCvnhhDKv5takEN...</td>\n",
       "      <td>This is an introduction to basic math needed f...</td>\n",
       "    </tr>\n",
       "  </tbody>\n",
       "</table>\n",
       "</div>"
      ],
      "text/plain": [
       "    uploader                                              title   y  \\\n",
       "350   PyB TV  Very Basic Math needed for Machine learning in... NaN   \n",
       "\n",
       "    upload_date                      user  view_count  like_count  \\\n",
       "350  2019-07-28  UCvnhhDKv5takEN412dmVW8g         784         NaN   \n",
       "\n",
       "     dislike_count                                          thumbnail  width  \\\n",
       "350            NaN  https://i.ytimg.com/vi_webp/MkPQ0xIdKVw/maxres...   1280   \n",
       "\n",
       "     height categories tags  \\\n",
       "350     652  Education  NaN   \n",
       "\n",
       "                                           channel_url  \\\n",
       "350  http://www.youtube.com/channel/UCvnhhDKv5takEN...   \n",
       "\n",
       "                                           description  \n",
       "350  This is an introduction to basic math needed f...  "
      ]
     },
     "execution_count": 23,
     "metadata": {},
     "output_type": "execute_result"
    }
   ],
   "source": [
    "df_unlabeled.head(1)"
   ]
  },
  {
   "cell_type": "code",
   "execution_count": 24,
   "metadata": {},
   "outputs": [],
   "source": [
    "df_limpo_u = pd.DataFrame(index=df_unlabeled.index)\n",
    "df_limpo_u['title'] = df_unlabeled['title']"
   ]
  },
  {
   "cell_type": "code",
   "execution_count": 25,
   "metadata": {},
   "outputs": [],
   "source": [
    "df_limpo_u['date'] = pd.to_datetime(df_unlabeled['upload_date'])"
   ]
  },
  {
   "cell_type": "code",
   "execution_count": 26,
   "metadata": {},
   "outputs": [],
   "source": [
    "views = df_unlabeled['view_count'].fillna(0)\n",
    "df_limpo_u['views'] = views"
   ]
  },
  {
   "cell_type": "code",
   "execution_count": 27,
   "metadata": {},
   "outputs": [],
   "source": [
    "features_u = pd.DataFrame(index=df_limpo_u.index)\n",
    "y = df_unlabeled['y'].copy()"
   ]
  },
  {
   "cell_type": "code",
   "execution_count": 28,
   "metadata": {},
   "outputs": [],
   "source": [
    "features_u['tempo_desde_pub'] = (pd.to_datetime(today) -  df_limpo_u['date']) / np.timedelta64(1, 'D')\n",
    "features_u['views'] = df_limpo_u['views']\n",
    "features_u['views_por_dia'] = (features_u['views'] / features_u['tempo_desde_pub']).round(3)\n",
    "features_u.drop(['tempo_desde_pub'], axis=1, inplace=True)"
   ]
  },
  {
   "cell_type": "code",
   "execution_count": 31,
   "metadata": {},
   "outputs": [
    {
     "data": {
      "text/html": [
       "<div>\n",
       "<style scoped>\n",
       "    .dataframe tbody tr th:only-of-type {\n",
       "        vertical-align: middle;\n",
       "    }\n",
       "\n",
       "    .dataframe tbody tr th {\n",
       "        vertical-align: top;\n",
       "    }\n",
       "\n",
       "    .dataframe thead th {\n",
       "        text-align: right;\n",
       "    }\n",
       "</style>\n",
       "<table border=\"1\" class=\"dataframe\">\n",
       "  <thead>\n",
       "    <tr style=\"text-align: right;\">\n",
       "      <th></th>\n",
       "      <th>views</th>\n",
       "      <th>views_por_dia</th>\n",
       "    </tr>\n",
       "  </thead>\n",
       "  <tbody>\n",
       "    <tr>\n",
       "      <th>1384</th>\n",
       "      <td>1073</td>\n",
       "      <td>2.021</td>\n",
       "    </tr>\n",
       "    <tr>\n",
       "      <th>738</th>\n",
       "      <td>104</td>\n",
       "      <td>0.860</td>\n",
       "    </tr>\n",
       "    <tr>\n",
       "      <th>902</th>\n",
       "      <td>19676</td>\n",
       "      <td>49.313</td>\n",
       "    </tr>\n",
       "    <tr>\n",
       "      <th>1320</th>\n",
       "      <td>27359</td>\n",
       "      <td>62.894</td>\n",
       "    </tr>\n",
       "    <tr>\n",
       "      <th>1129</th>\n",
       "      <td>139</td>\n",
       "      <td>1.188</td>\n",
       "    </tr>\n",
       "  </tbody>\n",
       "</table>\n",
       "</div>"
      ],
      "text/plain": [
       "      views  views_por_dia\n",
       "1384   1073          2.021\n",
       "738     104          0.860\n",
       "902   19676         49.313\n",
       "1320  27359         62.894\n",
       "1129    139          1.188"
      ]
     },
     "execution_count": 31,
     "metadata": {},
     "output_type": "execute_result"
    }
   ],
   "source": [
    "features_u.sample(5)"
   ]
  },
  {
   "cell_type": "code",
   "execution_count": 33,
   "metadata": {},
   "outputs": [],
   "source": [
    "title_u = df_limpo_u['title']\n",
    "title_bow_u = title_vec.transform(title_u)"
   ]
  },
  {
   "cell_type": "code",
   "execution_count": 34,
   "metadata": {},
   "outputs": [
    {
     "data": {
      "text/plain": [
       "<976x235 sparse matrix of type '<class 'numpy.float64'>'\n",
       "\twith 3746 stored elements in Compressed Sparse Row format>"
      ]
     },
     "execution_count": 34,
     "metadata": {},
     "output_type": "execute_result"
    }
   ],
   "source": [
    "title_bow_u"
   ]
  },
  {
   "cell_type": "code",
   "execution_count": 36,
   "metadata": {},
   "outputs": [],
   "source": [
    "Xu_wtitle = sparse.hstack([features_u, title_bow_u])"
   ]
  },
  {
   "cell_type": "code",
   "execution_count": 37,
   "metadata": {},
   "outputs": [
    {
     "data": {
      "text/plain": [
       "<976x237 sparse matrix of type '<class 'numpy.float64'>'\n",
       "\twith 5686 stored elements in COOrdinate format>"
      ]
     },
     "execution_count": 37,
     "metadata": {},
     "output_type": "execute_result"
    }
   ],
   "source": [
    "Xu_wtitle"
   ]
  },
  {
   "cell_type": "code",
   "execution_count": 38,
   "metadata": {},
   "outputs": [],
   "source": [
    "pu = mdl.predict_proba(Xu_wtitle)[: ,1]"
   ]
  },
  {
   "cell_type": "code",
   "execution_count": 39,
   "metadata": {},
   "outputs": [],
   "source": [
    "df_unlabeled['p'] = pu"
   ]
  },
  {
   "cell_type": "code",
   "execution_count": 40,
   "metadata": {},
   "outputs": [
    {
     "data": {
      "text/html": [
       "<div>\n",
       "<style scoped>\n",
       "    .dataframe tbody tr th:only-of-type {\n",
       "        vertical-align: middle;\n",
       "    }\n",
       "\n",
       "    .dataframe tbody tr th {\n",
       "        vertical-align: top;\n",
       "    }\n",
       "\n",
       "    .dataframe thead th {\n",
       "        text-align: right;\n",
       "    }\n",
       "</style>\n",
       "<table border=\"1\" class=\"dataframe\">\n",
       "  <thead>\n",
       "    <tr style=\"text-align: right;\">\n",
       "      <th></th>\n",
       "      <th>uploader</th>\n",
       "      <th>title</th>\n",
       "      <th>y</th>\n",
       "      <th>upload_date</th>\n",
       "      <th>user</th>\n",
       "      <th>view_count</th>\n",
       "      <th>like_count</th>\n",
       "      <th>dislike_count</th>\n",
       "      <th>thumbnail</th>\n",
       "      <th>width</th>\n",
       "      <th>height</th>\n",
       "      <th>categories</th>\n",
       "      <th>tags</th>\n",
       "      <th>channel_url</th>\n",
       "      <th>description</th>\n",
       "      <th>p</th>\n",
       "    </tr>\n",
       "  </thead>\n",
       "  <tbody>\n",
       "    <tr>\n",
       "      <th>350</th>\n",
       "      <td>PyB TV</td>\n",
       "      <td>Very Basic Math needed for Machine learning in...</td>\n",
       "      <td>NaN</td>\n",
       "      <td>2019-07-28</td>\n",
       "      <td>UCvnhhDKv5takEN412dmVW8g</td>\n",
       "      <td>784</td>\n",
       "      <td>NaN</td>\n",
       "      <td>NaN</td>\n",
       "      <td>https://i.ytimg.com/vi_webp/MkPQ0xIdKVw/maxres...</td>\n",
       "      <td>1280</td>\n",
       "      <td>652</td>\n",
       "      <td>Education</td>\n",
       "      <td>NaN</td>\n",
       "      <td>http://www.youtube.com/channel/UCvnhhDKv5takEN...</td>\n",
       "      <td>This is an introduction to basic math needed f...</td>\n",
       "      <td>0.262007</td>\n",
       "    </tr>\n",
       "  </tbody>\n",
       "</table>\n",
       "</div>"
      ],
      "text/plain": [
       "    uploader                                              title   y  \\\n",
       "350   PyB TV  Very Basic Math needed for Machine learning in... NaN   \n",
       "\n",
       "    upload_date                      user  view_count  like_count  \\\n",
       "350  2019-07-28  UCvnhhDKv5takEN412dmVW8g         784         NaN   \n",
       "\n",
       "     dislike_count                                          thumbnail  width  \\\n",
       "350            NaN  https://i.ytimg.com/vi_webp/MkPQ0xIdKVw/maxres...   1280   \n",
       "\n",
       "     height categories tags  \\\n",
       "350     652  Education  NaN   \n",
       "\n",
       "                                           channel_url  \\\n",
       "350  http://www.youtube.com/channel/UCvnhhDKv5takEN...   \n",
       "\n",
       "                                           description         p  \n",
       "350  This is an introduction to basic math needed f...  0.262007  "
      ]
     },
     "execution_count": 40,
     "metadata": {},
     "output_type": "execute_result"
    }
   ],
   "source": [
    "df_unlabeled.head(1)"
   ]
  },
  {
   "cell_type": "code",
   "execution_count": 69,
   "metadata": {},
   "outputs": [
    {
     "data": {
      "text/plain": [
       "68"
      ]
     },
     "execution_count": 69,
     "metadata": {},
     "output_type": "execute_result"
    }
   ],
   "source": [
    "mask_u = (df_unlabeled['p'] >= 0.36) & (df_unlabeled['p'] <= 1. )\n",
    "mask_u.sum()"
   ]
  },
  {
   "cell_type": "code",
   "execution_count": 70,
   "metadata": {},
   "outputs": [
    {
     "data": {
      "text/html": [
       "<div>\n",
       "<style scoped>\n",
       "    .dataframe tbody tr th:only-of-type {\n",
       "        vertical-align: middle;\n",
       "    }\n",
       "\n",
       "    .dataframe tbody tr th {\n",
       "        vertical-align: top;\n",
       "    }\n",
       "\n",
       "    .dataframe thead th {\n",
       "        text-align: right;\n",
       "    }\n",
       "</style>\n",
       "<table border=\"1\" class=\"dataframe\">\n",
       "  <thead>\n",
       "    <tr style=\"text-align: right;\">\n",
       "      <th></th>\n",
       "      <th>uploader</th>\n",
       "      <th>title</th>\n",
       "      <th>y</th>\n",
       "      <th>upload_date</th>\n",
       "      <th>user</th>\n",
       "      <th>view_count</th>\n",
       "      <th>like_count</th>\n",
       "      <th>dislike_count</th>\n",
       "      <th>thumbnail</th>\n",
       "      <th>width</th>\n",
       "      <th>height</th>\n",
       "      <th>categories</th>\n",
       "      <th>tags</th>\n",
       "      <th>channel_url</th>\n",
       "      <th>description</th>\n",
       "      <th>p</th>\n",
       "    </tr>\n",
       "  </thead>\n",
       "  <tbody>\n",
       "    <tr>\n",
       "      <th>500</th>\n",
       "      <td>Simplilearn</td>\n",
       "      <td>Machine Learning Basics | What Is Machine Lear...</td>\n",
       "      <td>NaN</td>\n",
       "      <td>2018-09-19</td>\n",
       "      <td>Simplilearn</td>\n",
       "      <td>1388322</td>\n",
       "      <td>NaN</td>\n",
       "      <td>NaN</td>\n",
       "      <td>https://i.ytimg.com/vi_webp/ukzFI9rgwfU/maxres...</td>\n",
       "      <td>1920</td>\n",
       "      <td>1080</td>\n",
       "      <td>Education</td>\n",
       "      <td>machine learning basics|machine learning basic...</td>\n",
       "      <td>http://www.youtube.com/channel/UCsvqVGtbbyHaMo...</td>\n",
       "      <td>This Machine Learning basics video will help y...</td>\n",
       "      <td>0.514285</td>\n",
       "    </tr>\n",
       "    <tr>\n",
       "      <th>501</th>\n",
       "      <td>StatQuest with Josh Starmer</td>\n",
       "      <td>Machine Learning Fundamentals: Bias and Variance</td>\n",
       "      <td>NaN</td>\n",
       "      <td>2018-09-17</td>\n",
       "      <td>joshstarmer</td>\n",
       "      <td>365084</td>\n",
       "      <td>NaN</td>\n",
       "      <td>NaN</td>\n",
       "      <td>https://i.ytimg.com/vi_webp/EuBBz3bI-aA/maxres...</td>\n",
       "      <td>1280</td>\n",
       "      <td>720</td>\n",
       "      <td>Education</td>\n",
       "      <td>Joshua Starmer|StatQuest|Machine Learning|Bias...</td>\n",
       "      <td>http://www.youtube.com/channel/UCtYLUTtgS3k1Fg...</td>\n",
       "      <td>Bias and Variance are two fundamental concepts...</td>\n",
       "      <td>0.417000</td>\n",
       "    </tr>\n",
       "    <tr>\n",
       "      <th>516</th>\n",
       "      <td>Diego Nogare</td>\n",
       "      <td>Como trabalhar em um projeto de Data Science</td>\n",
       "      <td>NaN</td>\n",
       "      <td>2020-08-26</td>\n",
       "      <td>DiegoNogare</td>\n",
       "      <td>84</td>\n",
       "      <td>NaN</td>\n",
       "      <td>NaN</td>\n",
       "      <td>https://i.ytimg.com/vi/_-6TNE3vles/maxresdefau...</td>\n",
       "      <td>1920</td>\n",
       "      <td>1080</td>\n",
       "      <td>Science &amp; Technology</td>\n",
       "      <td>Nogare|Data Platform|Data Science|Big Data|FCI...</td>\n",
       "      <td>http://www.youtube.com/channel/UCtjb-k1uREGXpG...</td>\n",
       "      <td>Prezados alunos, nesta aula vamos discutir os ...</td>\n",
       "      <td>0.427905</td>\n",
       "    </tr>\n",
       "    <tr>\n",
       "      <th>554</th>\n",
       "      <td>Ken Jee</td>\n",
       "      <td>Reviewing Your Data Science Projects - Episode...</td>\n",
       "      <td>NaN</td>\n",
       "      <td>2020-08-24</td>\n",
       "      <td>UCiT9RITQ9PW6BhXK0y2jaeg</td>\n",
       "      <td>3973</td>\n",
       "      <td>NaN</td>\n",
       "      <td>NaN</td>\n",
       "      <td>https://i.ytimg.com/vi_webp/q6Lf2yhvluw/maxres...</td>\n",
       "      <td>3840</td>\n",
       "      <td>2160</td>\n",
       "      <td>People &amp; Blogs</td>\n",
       "      <td>Data Science|Ken Jee|Machine Learning|data sci...</td>\n",
       "      <td>http://www.youtube.com/channel/UCiT9RITQ9PW6Bh...</td>\n",
       "      <td>In this video, I review Alexander's Data Scien...</td>\n",
       "      <td>0.387913</td>\n",
       "    </tr>\n",
       "    <tr>\n",
       "      <th>581</th>\n",
       "      <td>Great Learning</td>\n",
       "      <td>How to Master Python for Data Science | Data S...</td>\n",
       "      <td>NaN</td>\n",
       "      <td>2020-08-23</td>\n",
       "      <td>beaconelearning</td>\n",
       "      <td>5493</td>\n",
       "      <td>NaN</td>\n",
       "      <td>NaN</td>\n",
       "      <td>https://i.ytimg.com/vi/uvOX22w1klw/maxresdefau...</td>\n",
       "      <td>1280</td>\n",
       "      <td>720</td>\n",
       "      <td>Education</td>\n",
       "      <td>Great Learning|Python for data science|Data Sc...</td>\n",
       "      <td>http://www.youtube.com/channel/UCObs0kLIrDjX2L...</td>\n",
       "      <td>Great Learning brings you this live session on...</td>\n",
       "      <td>0.473252</td>\n",
       "    </tr>\n",
       "  </tbody>\n",
       "</table>\n",
       "</div>"
      ],
      "text/plain": [
       "                        uploader  \\\n",
       "500                  Simplilearn   \n",
       "501  StatQuest with Josh Starmer   \n",
       "516                 Diego Nogare   \n",
       "554                      Ken Jee   \n",
       "581               Great Learning   \n",
       "\n",
       "                                                 title   y upload_date  \\\n",
       "500  Machine Learning Basics | What Is Machine Lear... NaN  2018-09-19   \n",
       "501   Machine Learning Fundamentals: Bias and Variance NaN  2018-09-17   \n",
       "516       Como trabalhar em um projeto de Data Science NaN  2020-08-26   \n",
       "554  Reviewing Your Data Science Projects - Episode... NaN  2020-08-24   \n",
       "581  How to Master Python for Data Science | Data S... NaN  2020-08-23   \n",
       "\n",
       "                         user  view_count  like_count  dislike_count  \\\n",
       "500               Simplilearn     1388322         NaN            NaN   \n",
       "501               joshstarmer      365084         NaN            NaN   \n",
       "516               DiegoNogare          84         NaN            NaN   \n",
       "554  UCiT9RITQ9PW6BhXK0y2jaeg        3973         NaN            NaN   \n",
       "581           beaconelearning        5493         NaN            NaN   \n",
       "\n",
       "                                             thumbnail  width  height  \\\n",
       "500  https://i.ytimg.com/vi_webp/ukzFI9rgwfU/maxres...   1920    1080   \n",
       "501  https://i.ytimg.com/vi_webp/EuBBz3bI-aA/maxres...   1280     720   \n",
       "516  https://i.ytimg.com/vi/_-6TNE3vles/maxresdefau...   1920    1080   \n",
       "554  https://i.ytimg.com/vi_webp/q6Lf2yhvluw/maxres...   3840    2160   \n",
       "581  https://i.ytimg.com/vi/uvOX22w1klw/maxresdefau...   1280     720   \n",
       "\n",
       "               categories                                               tags  \\\n",
       "500             Education  machine learning basics|machine learning basic...   \n",
       "501             Education  Joshua Starmer|StatQuest|Machine Learning|Bias...   \n",
       "516  Science & Technology  Nogare|Data Platform|Data Science|Big Data|FCI...   \n",
       "554        People & Blogs  Data Science|Ken Jee|Machine Learning|data sci...   \n",
       "581             Education  Great Learning|Python for data science|Data Sc...   \n",
       "\n",
       "                                           channel_url  \\\n",
       "500  http://www.youtube.com/channel/UCsvqVGtbbyHaMo...   \n",
       "501  http://www.youtube.com/channel/UCtYLUTtgS3k1Fg...   \n",
       "516  http://www.youtube.com/channel/UCtjb-k1uREGXpG...   \n",
       "554  http://www.youtube.com/channel/UCiT9RITQ9PW6Bh...   \n",
       "581  http://www.youtube.com/channel/UCObs0kLIrDjX2L...   \n",
       "\n",
       "                                           description         p  \n",
       "500  This Machine Learning basics video will help y...  0.514285  \n",
       "501  Bias and Variance are two fundamental concepts...  0.417000  \n",
       "516  Prezados alunos, nesta aula vamos discutir os ...  0.427905  \n",
       "554  In this video, I review Alexander's Data Scien...  0.387913  \n",
       "581  Great Learning brings you this live session on...  0.473252  "
      ]
     },
     "execution_count": 70,
     "metadata": {},
     "output_type": "execute_result"
    }
   ],
   "source": [
    "df_unlabeled[mask_u].head()"
   ]
  },
  {
   "cell_type": "code",
   "execution_count": 72,
   "metadata": {},
   "outputs": [],
   "source": [
    "dificeis = df_unlabeled[mask_u]\n",
    "aleatorias = df_unlabeled[~mask_u].sample(32)"
   ]
  },
  {
   "cell_type": "code",
   "execution_count": 75,
   "metadata": {},
   "outputs": [
    {
     "data": {
      "text/html": [
       "<div>\n",
       "<style scoped>\n",
       "    .dataframe tbody tr th:only-of-type {\n",
       "        vertical-align: middle;\n",
       "    }\n",
       "\n",
       "    .dataframe tbody tr th {\n",
       "        vertical-align: top;\n",
       "    }\n",
       "\n",
       "    .dataframe thead th {\n",
       "        text-align: right;\n",
       "    }\n",
       "</style>\n",
       "<table border=\"1\" class=\"dataframe\">\n",
       "  <thead>\n",
       "    <tr style=\"text-align: right;\">\n",
       "      <th></th>\n",
       "      <th>uploader</th>\n",
       "      <th>title</th>\n",
       "      <th>y</th>\n",
       "      <th>upload_date</th>\n",
       "      <th>user</th>\n",
       "      <th>view_count</th>\n",
       "      <th>like_count</th>\n",
       "      <th>dislike_count</th>\n",
       "      <th>thumbnail</th>\n",
       "      <th>width</th>\n",
       "      <th>height</th>\n",
       "      <th>categories</th>\n",
       "      <th>tags</th>\n",
       "      <th>channel_url</th>\n",
       "      <th>description</th>\n",
       "      <th>p</th>\n",
       "    </tr>\n",
       "  </thead>\n",
       "  <tbody>\n",
       "    <tr>\n",
       "      <th>500</th>\n",
       "      <td>Simplilearn</td>\n",
       "      <td>Machine Learning Basics | What Is Machine Lear...</td>\n",
       "      <td>NaN</td>\n",
       "      <td>2018-09-19</td>\n",
       "      <td>Simplilearn</td>\n",
       "      <td>1388322</td>\n",
       "      <td>NaN</td>\n",
       "      <td>NaN</td>\n",
       "      <td>https://i.ytimg.com/vi_webp/ukzFI9rgwfU/maxres...</td>\n",
       "      <td>1920</td>\n",
       "      <td>1080</td>\n",
       "      <td>Education</td>\n",
       "      <td>machine learning basics|machine learning basic...</td>\n",
       "      <td>http://www.youtube.com/channel/UCsvqVGtbbyHaMo...</td>\n",
       "      <td>This Machine Learning basics video will help y...</td>\n",
       "      <td>0.514285</td>\n",
       "    </tr>\n",
       "    <tr>\n",
       "      <th>501</th>\n",
       "      <td>StatQuest with Josh Starmer</td>\n",
       "      <td>Machine Learning Fundamentals: Bias and Variance</td>\n",
       "      <td>NaN</td>\n",
       "      <td>2018-09-17</td>\n",
       "      <td>joshstarmer</td>\n",
       "      <td>365084</td>\n",
       "      <td>NaN</td>\n",
       "      <td>NaN</td>\n",
       "      <td>https://i.ytimg.com/vi_webp/EuBBz3bI-aA/maxres...</td>\n",
       "      <td>1280</td>\n",
       "      <td>720</td>\n",
       "      <td>Education</td>\n",
       "      <td>Joshua Starmer|StatQuest|Machine Learning|Bias...</td>\n",
       "      <td>http://www.youtube.com/channel/UCtYLUTtgS3k1Fg...</td>\n",
       "      <td>Bias and Variance are two fundamental concepts...</td>\n",
       "      <td>0.417000</td>\n",
       "    </tr>\n",
       "    <tr>\n",
       "      <th>516</th>\n",
       "      <td>Diego Nogare</td>\n",
       "      <td>Como trabalhar em um projeto de Data Science</td>\n",
       "      <td>NaN</td>\n",
       "      <td>2020-08-26</td>\n",
       "      <td>DiegoNogare</td>\n",
       "      <td>84</td>\n",
       "      <td>NaN</td>\n",
       "      <td>NaN</td>\n",
       "      <td>https://i.ytimg.com/vi/_-6TNE3vles/maxresdefau...</td>\n",
       "      <td>1920</td>\n",
       "      <td>1080</td>\n",
       "      <td>Science &amp; Technology</td>\n",
       "      <td>Nogare|Data Platform|Data Science|Big Data|FCI...</td>\n",
       "      <td>http://www.youtube.com/channel/UCtjb-k1uREGXpG...</td>\n",
       "      <td>Prezados alunos, nesta aula vamos discutir os ...</td>\n",
       "      <td>0.427905</td>\n",
       "    </tr>\n",
       "    <tr>\n",
       "      <th>554</th>\n",
       "      <td>Ken Jee</td>\n",
       "      <td>Reviewing Your Data Science Projects - Episode...</td>\n",
       "      <td>NaN</td>\n",
       "      <td>2020-08-24</td>\n",
       "      <td>UCiT9RITQ9PW6BhXK0y2jaeg</td>\n",
       "      <td>3973</td>\n",
       "      <td>NaN</td>\n",
       "      <td>NaN</td>\n",
       "      <td>https://i.ytimg.com/vi_webp/q6Lf2yhvluw/maxres...</td>\n",
       "      <td>3840</td>\n",
       "      <td>2160</td>\n",
       "      <td>People &amp; Blogs</td>\n",
       "      <td>Data Science|Ken Jee|Machine Learning|data sci...</td>\n",
       "      <td>http://www.youtube.com/channel/UCiT9RITQ9PW6Bh...</td>\n",
       "      <td>In this video, I review Alexander's Data Scien...</td>\n",
       "      <td>0.387913</td>\n",
       "    </tr>\n",
       "    <tr>\n",
       "      <th>581</th>\n",
       "      <td>Great Learning</td>\n",
       "      <td>How to Master Python for Data Science | Data S...</td>\n",
       "      <td>NaN</td>\n",
       "      <td>2020-08-23</td>\n",
       "      <td>beaconelearning</td>\n",
       "      <td>5493</td>\n",
       "      <td>NaN</td>\n",
       "      <td>NaN</td>\n",
       "      <td>https://i.ytimg.com/vi/uvOX22w1klw/maxresdefau...</td>\n",
       "      <td>1280</td>\n",
       "      <td>720</td>\n",
       "      <td>Education</td>\n",
       "      <td>Great Learning|Python for data science|Data Sc...</td>\n",
       "      <td>http://www.youtube.com/channel/UCObs0kLIrDjX2L...</td>\n",
       "      <td>Great Learning brings you this live session on...</td>\n",
       "      <td>0.473252</td>\n",
       "    </tr>\n",
       "  </tbody>\n",
       "</table>\n",
       "</div>"
      ],
      "text/plain": [
       "                        uploader  \\\n",
       "500                  Simplilearn   \n",
       "501  StatQuest with Josh Starmer   \n",
       "516                 Diego Nogare   \n",
       "554                      Ken Jee   \n",
       "581               Great Learning   \n",
       "\n",
       "                                                 title   y upload_date  \\\n",
       "500  Machine Learning Basics | What Is Machine Lear... NaN  2018-09-19   \n",
       "501   Machine Learning Fundamentals: Bias and Variance NaN  2018-09-17   \n",
       "516       Como trabalhar em um projeto de Data Science NaN  2020-08-26   \n",
       "554  Reviewing Your Data Science Projects - Episode... NaN  2020-08-24   \n",
       "581  How to Master Python for Data Science | Data S... NaN  2020-08-23   \n",
       "\n",
       "                         user  view_count  like_count  dislike_count  \\\n",
       "500               Simplilearn     1388322         NaN            NaN   \n",
       "501               joshstarmer      365084         NaN            NaN   \n",
       "516               DiegoNogare          84         NaN            NaN   \n",
       "554  UCiT9RITQ9PW6BhXK0y2jaeg        3973         NaN            NaN   \n",
       "581           beaconelearning        5493         NaN            NaN   \n",
       "\n",
       "                                             thumbnail  width  height  \\\n",
       "500  https://i.ytimg.com/vi_webp/ukzFI9rgwfU/maxres...   1920    1080   \n",
       "501  https://i.ytimg.com/vi_webp/EuBBz3bI-aA/maxres...   1280     720   \n",
       "516  https://i.ytimg.com/vi/_-6TNE3vles/maxresdefau...   1920    1080   \n",
       "554  https://i.ytimg.com/vi_webp/q6Lf2yhvluw/maxres...   3840    2160   \n",
       "581  https://i.ytimg.com/vi/uvOX22w1klw/maxresdefau...   1280     720   \n",
       "\n",
       "               categories                                               tags  \\\n",
       "500             Education  machine learning basics|machine learning basic...   \n",
       "501             Education  Joshua Starmer|StatQuest|Machine Learning|Bias...   \n",
       "516  Science & Technology  Nogare|Data Platform|Data Science|Big Data|FCI...   \n",
       "554        People & Blogs  Data Science|Ken Jee|Machine Learning|data sci...   \n",
       "581             Education  Great Learning|Python for data science|Data Sc...   \n",
       "\n",
       "                                           channel_url  \\\n",
       "500  http://www.youtube.com/channel/UCsvqVGtbbyHaMo...   \n",
       "501  http://www.youtube.com/channel/UCtYLUTtgS3k1Fg...   \n",
       "516  http://www.youtube.com/channel/UCtjb-k1uREGXpG...   \n",
       "554  http://www.youtube.com/channel/UCiT9RITQ9PW6Bh...   \n",
       "581  http://www.youtube.com/channel/UCObs0kLIrDjX2L...   \n",
       "\n",
       "                                           description         p  \n",
       "500  This Machine Learning basics video will help y...  0.514285  \n",
       "501  Bias and Variance are two fundamental concepts...  0.417000  \n",
       "516  Prezados alunos, nesta aula vamos discutir os ...  0.427905  \n",
       "554  In this video, I review Alexander's Data Scien...  0.387913  \n",
       "581  Great Learning brings you this live session on...  0.473252  "
      ]
     },
     "execution_count": 75,
     "metadata": {},
     "output_type": "execute_result"
    }
   ],
   "source": [
    "pd.concat([dificeis, aleatorias]).to_csv(\"active_label1.csv\")\n",
    "dificeis.head()"
   ]
  }
 ],
 "metadata": {
  "kernelspec": {
   "display_name": "Python 3",
   "language": "python",
   "name": "python3"
  },
  "language_info": {
   "codemirror_mode": {
    "name": "ipython",
    "version": 3
   },
   "file_extension": ".py",
   "mimetype": "text/x-python",
   "name": "python",
   "nbconvert_exporter": "python",
   "pygments_lexer": "ipython3",
   "version": "3.7.6"
  }
 },
 "nbformat": 4,
 "nbformat_minor": 4
}
